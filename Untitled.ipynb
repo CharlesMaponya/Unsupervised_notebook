{
 "cells": [
  {
   "cell_type": "code",
   "execution_count": 1,
   "metadata": {},
   "outputs": [
    {
     "name": "stdout",
     "output_type": "stream",
     "text": [
      "Defaulting to user installation because normal site-packages is not writeable\n",
      "Requirement already satisfied: scikit-surprise in /home/maponyacl/.local/lib/python3.6/site-packages (1.1.1)\n",
      "Requirement already satisfied: six>=1.10.0 in /usr/lib/python3/dist-packages (from scikit-surprise) (1.11.0)\n",
      "Requirement already satisfied: scipy>=1.0.0 in /home/maponyacl/.local/lib/python3.6/site-packages (from scikit-surprise) (1.5.4)\n",
      "Requirement already satisfied: numpy>=1.11.2 in /home/maponyacl/.local/lib/python3.6/site-packages (from scikit-surprise) (1.19.4)\n",
      "Requirement already satisfied: joblib>=0.11 in /home/maponyacl/.local/lib/python3.6/site-packages (from scikit-surprise) (0.17.0)\n",
      "Requirement already satisfied: numpy>=1.11.2 in /home/maponyacl/.local/lib/python3.6/site-packages (from scikit-surprise) (1.19.4)\n"
     ]
    }
   ],
   "source": [
    "!pip install scikit-surprise"
   ]
  },
  {
   "cell_type": "code",
   "execution_count": 2,
   "metadata": {},
   "outputs": [],
   "source": [
    "from surprise import SVD"
   ]
  },
  {
   "cell_type": "code",
   "execution_count": 3,
   "metadata": {},
   "outputs": [
    {
     "name": "stdout",
     "output_type": "stream",
     "text": [
      "Defaulting to user installation because normal site-packages is not writeable\n",
      "Requirement already satisfied: scikit-learn in /home/maponyacl/.local/lib/python3.6/site-packages (0.23.2)\n",
      "Requirement already satisfied: matplotlib in /home/maponyacl/.local/lib/python3.6/site-packages (3.3.3)\n",
      "Collecting catboost\n",
      "  Downloading catboost-0.24.3-cp36-none-manylinux1_x86_64.whl (66.3 MB)\n",
      "\u001b[K     |████████████████████████████████| 66.3 MB 82 kB/s  eta 0:00:01\n",
      "\u001b[?25hRequirement already satisfied: numpy>=1.16.0 in /home/maponyacl/.local/lib/python3.6/site-packages (from catboost) (1.19.4)\n",
      "Requirement already satisfied: matplotlib in /home/maponyacl/.local/lib/python3.6/site-packages (3.3.3)\n",
      "Requirement already satisfied: six in /usr/lib/python3/dist-packages (from catboost) (1.11.0)\n",
      "Requirement already satisfied: scipy in /home/maponyacl/.local/lib/python3.6/site-packages (from catboost) (1.5.4)\n",
      "Requirement already satisfied: python-dateutil>=2.1 in /home/maponyacl/.local/lib/python3.6/site-packages (from matplotlib) (2.8.1)\n",
      "Requirement already satisfied: numpy>=1.16.0 in /home/maponyacl/.local/lib/python3.6/site-packages (from catboost) (1.19.4)\n",
      "Requirement already satisfied: kiwisolver>=1.0.1 in /home/maponyacl/.local/lib/python3.6/site-packages (from matplotlib) (1.3.1)\n",
      "Requirement already satisfied: pyparsing!=2.0.4,!=2.1.2,!=2.1.6,>=2.0.3 in /home/maponyacl/.local/lib/python3.6/site-packages (from matplotlib) (2.4.7)\n",
      "Requirement already satisfied: pillow>=6.2.0 in /home/maponyacl/.local/lib/python3.6/site-packages (from matplotlib) (8.0.1)\n",
      "Requirement already satisfied: cycler>=0.10 in /home/maponyacl/.local/lib/python3.6/site-packages (from matplotlib) (0.10.0)\n",
      "Collecting pandas\n",
      "  Downloading pandas-1.1.5-cp36-cp36m-manylinux1_x86_64.whl (9.5 MB)\n",
      "\u001b[K     |████████████████████████████████| 9.5 MB 62.3 MB/s eta 0:00:01\n",
      "\u001b[?25hRequirement already satisfied: numpy>=1.16.0 in /home/maponyacl/.local/lib/python3.6/site-packages (from catboost) (1.19.4)\n",
      "Requirement already satisfied: python-dateutil>=2.1 in /home/maponyacl/.local/lib/python3.6/site-packages (from matplotlib) (2.8.1)\n",
      "Collecting plotly\n",
      "  Downloading plotly-4.14.1-py2.py3-none-any.whl (13.2 MB)\n",
      "\u001b[K     |████████████████████████████████| 13.2 MB 67.9 MB/s eta 0:00:01\n",
      "\u001b[?25hRequirement already satisfied: six in /usr/lib/python3/dist-packages (from catboost) (1.11.0)\n",
      "Requirement already satisfied: threadpoolctl>=2.0.0 in /home/maponyacl/.local/lib/python3.6/site-packages (from scikit-learn) (2.1.0)\n",
      "Requirement already satisfied: scipy in /home/maponyacl/.local/lib/python3.6/site-packages (from catboost) (1.5.4)\n",
      "Requirement already satisfied: joblib>=0.11 in /home/maponyacl/.local/lib/python3.6/site-packages (from scikit-learn) (0.17.0)\n",
      "Requirement already satisfied: numpy>=1.16.0 in /home/maponyacl/.local/lib/python3.6/site-packages (from catboost) (1.19.4)\n",
      "Collecting seaborn\n",
      "  Using cached seaborn-0.11.0-py3-none-any.whl (283 kB)\n",
      "Requirement already satisfied: numpy>=1.16.0 in /home/maponyacl/.local/lib/python3.6/site-packages (from catboost) (1.19.4)\n",
      "Requirement already satisfied: matplotlib in /home/maponyacl/.local/lib/python3.6/site-packages (3.3.3)\n",
      "Requirement already satisfied: scipy in /home/maponyacl/.local/lib/python3.6/site-packages (from catboost) (1.5.4)\n",
      "Collecting wordcloud\n",
      "  Downloading wordcloud-1.8.1-cp36-cp36m-manylinux1_x86_64.whl (366 kB)\n",
      "\u001b[K     |████████████████████████████████| 366 kB 78.6 MB/s eta 0:00:01\n",
      "\u001b[?25hRequirement already satisfied: numpy>=1.16.0 in /home/maponyacl/.local/lib/python3.6/site-packages (from catboost) (1.19.4)\n",
      "Requirement already satisfied: matplotlib in /home/maponyacl/.local/lib/python3.6/site-packages (3.3.3)\n",
      "Requirement already satisfied: pillow>=6.2.0 in /home/maponyacl/.local/lib/python3.6/site-packages (from matplotlib) (8.0.1)\n",
      "Requirement already satisfied: six in /usr/lib/python3/dist-packages (from catboost) (1.11.0)\n",
      "Collecting graphviz\n",
      "  Downloading graphviz-0.15-py2.py3-none-any.whl (18 kB)\n",
      "Requirement already satisfied: six in /usr/lib/python3/dist-packages (from catboost) (1.11.0)\n",
      "Collecting pytz>=2017.2\n",
      "  Downloading pytz-2020.4-py2.py3-none-any.whl (509 kB)\n",
      "\u001b[K     |████████████████████████████████| 509 kB 92.7 MB/s eta 0:00:01\n",
      "\u001b[?25hCollecting retrying>=1.3.3\n",
      "  Using cached retrying-1.3.3.tar.gz (10 kB)\n",
      "Requirement already satisfied: six in /usr/lib/python3/dist-packages (from catboost) (1.11.0)\n",
      "Requirement already satisfied: numpy>=1.16.0 in /home/maponyacl/.local/lib/python3.6/site-packages (from catboost) (1.19.4)\n",
      "Building wheels for collected packages: retrying\n",
      "  Building wheel for retrying (setup.py) ... \u001b[?25ldone\n",
      "\u001b[?25h  Created wheel for retrying: filename=retrying-1.3.3-py3-none-any.whl size=9530 sha256=0e2ee0b100a9798eca78246cb968d082d1451faddb795a818194ad9923eb7060\n",
      "  Stored in directory: /home/maponyacl/.cache/pip/wheels/ac/cb/8a/b27bf6323e2f4c462dcbf77d70b7c5e7868a7fbe12871770cf\n",
      "Successfully built retrying\n",
      "Installing collected packages: retrying, pytz, plotly, pandas, graphviz, wordcloud, seaborn, catboost\n",
      "Successfully installed catboost-0.24.3 graphviz-0.15 pandas-1.1.5 plotly-4.14.1 pytz-2020.4 retrying-1.3.3 seaborn-0.11.0 wordcloud-1.8.1\n"
     ]
    }
   ],
   "source": [
    "!pip install pandas scikit-learn matplotlib seaborn wordcloud plotly catboost"
   ]
  },
  {
   "cell_type": "code",
   "execution_count": null,
   "metadata": {},
   "outputs": [],
   "source": []
  }
 ],
 "metadata": {
  "kernelspec": {
   "display_name": "Python 3",
   "language": "python",
   "name": "python3"
  },
  "language_info": {
   "codemirror_mode": {
    "name": "ipython",
    "version": 3
   },
   "file_extension": ".py",
   "mimetype": "text/x-python",
   "name": "python",
   "nbconvert_exporter": "python",
   "pygments_lexer": "ipython3",
   "version": "3.6.9"
  }
 },
 "nbformat": 4,
 "nbformat_minor": 4
}
