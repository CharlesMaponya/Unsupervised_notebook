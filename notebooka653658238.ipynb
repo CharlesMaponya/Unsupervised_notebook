{
 "cells": [
  {
   "cell_type": "code",
   "execution_count": 1,
   "metadata": {
    "execution": {
     "iopub.execute_input": "2020-12-07T14:02:18.152014Z",
     "iopub.status.busy": "2020-12-07T14:02:18.151203Z",
     "iopub.status.idle": "2020-12-07T14:02:20.902726Z",
     "shell.execute_reply": "2020-12-07T14:02:20.901747Z"
    },
    "papermill": {
     "duration": 2.820885,
     "end_time": "2020-12-07T14:02:20.902881",
     "exception": false,
     "start_time": "2020-12-07T14:02:18.081996",
     "status": "completed"
    },
    "tags": []
   },
   "outputs": [
    {
     "name": "stdout",
     "output_type": "stream",
     "text": [
      "/kaggle/input/edsa-recommender-system-predict/sample_submission.csv\n",
      "/kaggle/input/edsa-recommender-system-predict/movies.csv\n",
      "/kaggle/input/edsa-recommender-system-predict/imdb_data.csv\n",
      "/kaggle/input/edsa-recommender-system-predict/genome_tags.csv\n",
      "/kaggle/input/edsa-recommender-system-predict/genome_scores.csv\n",
      "/kaggle/input/edsa-recommender-system-predict/train.csv\n",
      "/kaggle/input/edsa-recommender-system-predict/test.csv\n",
      "/kaggle/input/edsa-recommender-system-predict/tags.csv\n",
      "/kaggle/input/edsa-recommender-system-predict/links.csv\n"
     ]
    }
   ],
   "source": [
    "import numpy as np\n",
    "import pandas as pd\n",
    "import matplotlib.pyplot as plt\n",
    "import seaborn as sns\n",
    "import scipy as sp\n",
    "from wordcloud import WordCloud, STOPWORDS\n",
    "import os\n",
    "for dirname, _, filenames in os.walk('/kaggle/input'):\n",
    "    for filename in filenames:\n",
    "        print(os.path.join(dirname, filename))\n",
    "        \n",
    "import surprise\n",
    "from surprise import Reader\n",
    "from surprise import Dataset\n",
    "from surprise.model_selection import train_test_split\n",
    "import time\n",
    "from surprise import SVD\n",
    "from surprise import accuracy\n",
    "import re\n",
    "import plotly.express as px\n",
    "import scipy as sp\n",
    "from wordcloud import WordCloud, STOPWORDS\n",
    "from surprise import Reader\n",
    "from surprise import Dataset\n",
    "from surprise.model_selection import cross_validate\n",
    "from surprise import NormalPredictor\n",
    "from surprise import KNNBasic\n",
    "from surprise import KNNWithMeans\n",
    "from surprise import KNNWithZScore\n",
    "from surprise import KNNBaseline\n",
    "from surprise import BaselineOnly\n",
    "from surprise import SVDpp\n",
    "from surprise import NMF\n",
    "from surprise import SlopeOne\n",
    "from surprise import CoClustering\n",
    "from surprise.accuracy import rmse\n",
    "from sklearn.model_selection import GridSearchCV\n",
    "from sklearn.feature_extraction.text import CountVectorizer\n",
    "from sklearn.metrics.pairwise import cosine_similarity\n",
    "from sklearn.linear_model import LogisticRegression\n",
    "from sklearn.pipeline  import Pipeline\n",
    "from sklearn.preprocessing import StandardScaler, OneHotEncoder, PolynomialFeatures, Normalizer\n",
    "from sklearn.linear_model import LinearRegression, Lasso, Ridge\n",
    "from catboost import CatBoostRegressor\n",
    "from sklearn.metrics import mean_squared_error"
   ]
  },
  {
   "cell_type": "markdown",
   "metadata": {
    "papermill": {
     "duration": 0.052882,
     "end_time": "2020-12-07T14:02:21.010300",
     "exception": false,
     "start_time": "2020-12-07T14:02:20.957418",
     "status": "completed"
    },
    "tags": []
   },
   "source": [
    "# Table of contents\n",
    "\n",
    "### [1. Introduction](#introduction)\n",
    "\n",
    "\n",
    "### [2. Prepocessing](#prep)\n",
    "\n",
    "\n",
    "### [3. Exploratory Data Analysis](#eda)\n",
    "\n",
    "\n",
    "\n",
    "### [4. Modelling](#mod)\n",
    "\n",
    "\n",
    "\n",
    "### [5. Conclusion](#conc)\n"
   ]
  },
  {
   "source": [
    "![image.png](https://manofmany.com/wp-content/uploads/2020/04/Veboli-new-2.jpg)"
   ],
   "cell_type": "markdown",
   "metadata": {}
  },
  {
   "cell_type": "markdown",
   "metadata": {
    "papermill": {
     "duration": 0.052407,
     "end_time": "2020-12-07T14:02:21.114437",
     "exception": false,
     "start_time": "2020-12-07T14:02:21.062030",
     "status": "completed"
    },
    "tags": []
   },
   "source": [
    "### [1. Introduction](#introduction)"
   ]
  },
  {
   "source": [
    "Recommender systems are systems that are designed to recommend things to the user based on many different factors. These systems predict the most likely product that the user is most likely to purchase and are of interest. Companies like Netflix and Amazon use recommender systems to help their users to identify the correct product or movies for them. \n",
    "\n",
    "Recommender systems are an important class of machine learning algorithms that offer relevant suggestions to users. The suggested items are as relevant to the user as possible so that the user can engage with those items: YouTube videos, news articles, online products, movie and series recommendation. \n",
    "\n",
    "Items are ranked according to their relevancy, and the most relevant ones are shown to the user. The relevance is determined by the recommender system, mainly based on historical data. For example, If you've recently watched YouTube videos about elephants, then YouTube is going to start showing you many elephant videos with similar titles and themes. \n",
    "Recommender systems are generally divided into two main categories: collaborative filtering and content-based systems.\n",
    "\n",
    "![image.png](https://miro.medium.com/max/690/1*G4h4fOX6bCJhdmbsXDL0PA.png)\n",
    " \n",
    "Both users and service providers have benefited from these kinds of systems. Intelligent algorithms can help viewers find great titles from tens of thousands of options. This notebook will construct a recommendation algorithm based on content and collaborative filtering, capable of accurately predicting how a user will rate a movie they have not yet viewed based on their historic preferences.\n",
    "\n",
    "Providing an accurate and robust solution will have immense economic potential, with users of the system being exposed to content they would like to view or purchase - generating revenue and platform affinity.\n",
    "\n"
   ],
   "cell_type": "markdown",
   "metadata": {}
  },
  {
   "cell_type": "markdown",
   "metadata": {
    "papermill": {
     "duration": 0.060708,
     "end_time": "2020-12-07T14:02:21.227920",
     "exception": false,
     "start_time": "2020-12-07T14:02:21.167212",
     "status": "completed"
    },
    "tags": []
   },
   "source": [
    "#### [1.1. Import Data](#import)"
   ]
  },
  {
   "cell_type": "code",
   "execution_count": 2,
   "metadata": {
    "execution": {
     "iopub.execute_input": "2020-12-07T14:02:21.363400Z",
     "iopub.status.busy": "2020-12-07T14:02:21.362635Z",
     "iopub.status.idle": "2020-12-07T14:02:42.712872Z",
     "shell.execute_reply": "2020-12-07T14:02:42.712048Z"
    },
    "papermill": {
     "duration": 21.419821,
     "end_time": "2020-12-07T14:02:42.713013",
     "exception": false,
     "start_time": "2020-12-07T14:02:21.293192",
     "status": "completed"
    },
    "tags": []
   },
   "outputs": [],
   "source": [
    "data_folder = '/kaggle/input/edsa-recommender-system-predict/'\n",
    "#data_folder = 'C:/Users/ADMIN/Desktop/unsupervised_project/'\n",
    "train_df = pd.read_csv(data_folder + 'train.csv')\n",
    "test_df = pd.read_csv(data_folder + 'test.csv')\n",
    "tags_df = pd.read_csv(data_folder + 'tags.csv')\n",
    "movies_df = pd.read_csv(data_folder + 'movies.csv')\n",
    "links_df = pd.read_csv(data_folder + 'links.csv')\n",
    "imdb_df = pd.read_csv(data_folder + 'imdb_data.csv')\n",
    "genome_tags = pd.read_csv(data_folder + 'genome_tags.csv')\n",
    "genome_score = pd.read_csv(data_folder + 'genome_scores.csv')"
   ]
  },
  {
   "cell_type": "markdown",
   "metadata": {
    "papermill": {
     "duration": 0.051374,
     "end_time": "2020-12-07T14:02:42.817003",
     "exception": false,
     "start_time": "2020-12-07T14:02:42.765629",
     "status": "completed"
    },
    "tags": []
   },
   "source": [
    "### [2. Preprocessing](#prep)"
   ]
  },
  {
   "cell_type": "markdown",
   "metadata": {
    "papermill": {
     "duration": 0.051297,
     "end_time": "2020-12-07T14:02:42.922389",
     "exception": false,
     "start_time": "2020-12-07T14:02:42.871092",
     "status": "completed"
    },
    "tags": []
   },
   "source": [
    "### [3. Exploratory Data Analysis](#eda)"
   ]
  },
  {
   "source": [
    "Exploratory data analysis is an approach to analyzing data sets to summarize their main characteristics, often with visual methods. EDA is the critical process of performing initial investigations on data to discover patterns, to spot anomalies, to test hypothesis and to check assumptions with the help of summary statistics and graphical representations.\n",
    "A statistical model can be used or not, but primarily EDA is for seeing what the data can tell us beyond the formal modelling or hypothesis testing task.\n",
    "\n",
    "It is a good practice to understand the data first and try to gather as many insights from it. EDA is all about making sense of data in hand, before getting them dirty with it, which will be done below "
   ],
   "cell_type": "markdown",
   "metadata": {}
  },
  {
   "cell_type": "code",
   "execution_count": 3,
   "metadata": {
    "execution": {
     "iopub.execute_input": "2020-12-07T14:02:43.033415Z",
     "iopub.status.busy": "2020-12-07T14:02:43.032390Z",
     "iopub.status.idle": "2020-12-07T14:02:43.035335Z",
     "shell.execute_reply": "2020-12-07T14:02:43.034688Z"
    },
    "papermill": {
     "duration": 0.060079,
     "end_time": "2020-12-07T14:02:43.035458",
     "exception": false,
     "start_time": "2020-12-07T14:02:42.975379",
     "status": "completed"
    },
    "tags": []
   },
   "outputs": [],
   "source": [
    "## Creating a summary stats function\n",
    "def Summary(df):\n",
    "    return df.info()"
   ]
  },
  {
   "source": [
    "The info() function is used to print a concise summary of a DataFrame. This method prints information about a DataFrame including the index dtype and column dtypes, non-null values and memory usage."
   ],
   "cell_type": "markdown",
   "metadata": {}
  },
  {
   "cell_type": "code",
   "execution_count": 4,
   "metadata": {
    "execution": {
     "iopub.execute_input": "2020-12-07T14:02:43.161792Z",
     "iopub.status.busy": "2020-12-07T14:02:43.160828Z",
     "iopub.status.idle": "2020-12-07T14:02:43.165062Z",
     "shell.execute_reply": "2020-12-07T14:02:43.164441Z"
    },
    "papermill": {
     "duration": 0.077622,
     "end_time": "2020-12-07T14:02:43.165193",
     "exception": false,
     "start_time": "2020-12-07T14:02:43.087571",
     "status": "completed"
    },
    "tags": []
   },
   "outputs": [
    {
     "name": "stdout",
     "output_type": "stream",
     "text": [
      "<class 'pandas.core.frame.DataFrame'>\n",
      "RangeIndex: 10000038 entries, 0 to 10000037\n",
      "Data columns (total 4 columns):\n",
      " #   Column     Dtype  \n",
      "---  ------     -----  \n",
      " 0   userId     int64  \n",
      " 1   movieId    int64  \n",
      " 2   rating     float64\n",
      " 3   timestamp  int64  \n",
      "dtypes: float64(1), int64(3)\n",
      "memory usage: 305.2 MB\n"
     ]
    }
   ],
   "source": [
    "Summary(train_df)"
   ]
  },
  {
   "cell_type": "code",
   "execution_count": 5,
   "metadata": {
    "execution": {
     "iopub.execute_input": "2020-12-07T14:02:43.282119Z",
     "iopub.status.busy": "2020-12-07T14:02:43.281183Z",
     "iopub.status.idle": "2020-12-07T14:02:43.285961Z",
     "shell.execute_reply": "2020-12-07T14:02:43.285013Z"
    },
    "papermill": {
     "duration": 0.068238,
     "end_time": "2020-12-07T14:02:43.286134",
     "exception": false,
     "start_time": "2020-12-07T14:02:43.217896",
     "status": "completed"
    },
    "tags": []
   },
   "outputs": [
    {
     "name": "stdout",
     "output_type": "stream",
     "text": [
      "<class 'pandas.core.frame.DataFrame'>\n",
      "RangeIndex: 5000019 entries, 0 to 5000018\n",
      "Data columns (total 2 columns):\n",
      " #   Column   Dtype\n",
      "---  ------   -----\n",
      " 0   userId   int64\n",
      " 1   movieId  int64\n",
      "dtypes: int64(2)\n",
      "memory usage: 76.3 MB\n"
     ]
    }
   ],
   "source": [
    "Summary(test_df)"
   ]
  },
  {
   "cell_type": "code",
   "execution_count": 6,
   "metadata": {
    "execution": {
     "iopub.execute_input": "2020-12-07T14:02:43.399829Z",
     "iopub.status.busy": "2020-12-07T14:02:43.398855Z",
     "iopub.status.idle": "2020-12-07T14:02:43.535446Z",
     "shell.execute_reply": "2020-12-07T14:02:43.534620Z"
    },
    "papermill": {
     "duration": 0.195282,
     "end_time": "2020-12-07T14:02:43.535638",
     "exception": false,
     "start_time": "2020-12-07T14:02:43.340356",
     "status": "completed"
    },
    "tags": []
   },
   "outputs": [
    {
     "name": "stdout",
     "output_type": "stream",
     "text": [
      "<class 'pandas.core.frame.DataFrame'>\n",
      "RangeIndex: 1093360 entries, 0 to 1093359\n",
      "Data columns (total 4 columns):\n",
      " #   Column     Non-Null Count    Dtype \n",
      "---  ------     --------------    ----- \n",
      " 0   userId     1093360 non-null  int64 \n",
      " 1   movieId    1093360 non-null  int64 \n",
      " 2   tag        1093344 non-null  object\n",
      " 3   timestamp  1093360 non-null  int64 \n",
      "dtypes: int64(3), object(1)\n",
      "memory usage: 33.4+ MB\n"
     ]
    }
   ],
   "source": [
    "Summary(tags_df)"
   ]
  },
  {
   "cell_type": "code",
   "execution_count": 7,
   "metadata": {
    "execution": {
     "iopub.execute_input": "2020-12-07T14:02:43.665060Z",
     "iopub.status.busy": "2020-12-07T14:02:43.664271Z",
     "iopub.status.idle": "2020-12-07T14:02:43.674232Z",
     "shell.execute_reply": "2020-12-07T14:02:43.673406Z"
    },
    "papermill": {
     "duration": 0.083378,
     "end_time": "2020-12-07T14:02:43.674364",
     "exception": false,
     "start_time": "2020-12-07T14:02:43.590986",
     "status": "completed"
    },
    "tags": []
   },
   "outputs": [
    {
     "name": "stdout",
     "output_type": "stream",
     "text": [
      "<class 'pandas.core.frame.DataFrame'>\n",
      "RangeIndex: 62423 entries, 0 to 62422\n",
      "Data columns (total 3 columns):\n",
      " #   Column   Non-Null Count  Dtype \n",
      "---  ------   --------------  ----- \n",
      " 0   movieId  62423 non-null  int64 \n",
      " 1   title    62423 non-null  object\n",
      " 2   genres   62423 non-null  object\n",
      "dtypes: int64(1), object(2)\n",
      "memory usage: 1.4+ MB\n"
     ]
    }
   ],
   "source": [
    "Summary(movies_df)"
   ]
  },
  {
   "cell_type": "code",
   "execution_count": 8,
   "metadata": {
    "execution": {
     "iopub.execute_input": "2020-12-07T14:02:43.791381Z",
     "iopub.status.busy": "2020-12-07T14:02:43.790597Z",
     "iopub.status.idle": "2020-12-07T14:02:43.800792Z",
     "shell.execute_reply": "2020-12-07T14:02:43.801607Z"
    },
    "papermill": {
     "duration": 0.072832,
     "end_time": "2020-12-07T14:02:43.801834",
     "exception": false,
     "start_time": "2020-12-07T14:02:43.729002",
     "status": "completed"
    },
    "tags": []
   },
   "outputs": [
    {
     "name": "stdout",
     "output_type": "stream",
     "text": [
      "<class 'pandas.core.frame.DataFrame'>\n",
      "RangeIndex: 62423 entries, 0 to 62422\n",
      "Data columns (total 3 columns):\n",
      " #   Column   Non-Null Count  Dtype  \n",
      "---  ------   --------------  -----  \n",
      " 0   movieId  62423 non-null  int64  \n",
      " 1   imdbId   62423 non-null  int64  \n",
      " 2   tmdbId   62316 non-null  float64\n",
      "dtypes: float64(1), int64(2)\n",
      "memory usage: 1.4 MB\n"
     ]
    }
   ],
   "source": [
    "Summary(links_df)"
   ]
  },
  {
   "cell_type": "code",
   "execution_count": 9,
   "metadata": {
    "execution": {
     "iopub.execute_input": "2020-12-07T14:02:43.973479Z",
     "iopub.status.busy": "2020-12-07T14:02:43.972212Z",
     "iopub.status.idle": "2020-12-07T14:02:43.985733Z",
     "shell.execute_reply": "2020-12-07T14:02:43.984593Z"
    },
    "papermill": {
     "duration": 0.110345,
     "end_time": "2020-12-07T14:02:43.985929",
     "exception": false,
     "start_time": "2020-12-07T14:02:43.875584",
     "status": "completed"
    },
    "tags": []
   },
   "outputs": [
    {
     "name": "stdout",
     "output_type": "stream",
     "text": [
      "<class 'pandas.core.frame.DataFrame'>\n",
      "RangeIndex: 27278 entries, 0 to 27277\n",
      "Data columns (total 6 columns):\n",
      " #   Column         Non-Null Count  Dtype  \n",
      "---  ------         --------------  -----  \n",
      " 0   movieId        27278 non-null  int64  \n",
      " 1   title_cast     17210 non-null  object \n",
      " 2   director       17404 non-null  object \n",
      " 3   runtime        15189 non-null  float64\n",
      " 4   budget         7906 non-null   object \n",
      " 5   plot_keywords  16200 non-null  object \n",
      "dtypes: float64(1), int64(1), object(4)\n",
      "memory usage: 1.2+ MB\n"
     ]
    }
   ],
   "source": [
    "Summary(imdb_df)"
   ]
  },
  {
   "cell_type": "code",
   "execution_count": 10,
   "metadata": {
    "execution": {
     "iopub.execute_input": "2020-12-07T14:02:44.114375Z",
     "iopub.status.busy": "2020-12-07T14:02:44.113449Z",
     "iopub.status.idle": "2020-12-07T14:02:44.116895Z",
     "shell.execute_reply": "2020-12-07T14:02:44.117683Z"
    },
    "papermill": {
     "duration": 0.071729,
     "end_time": "2020-12-07T14:02:44.117890",
     "exception": false,
     "start_time": "2020-12-07T14:02:44.046161",
     "status": "completed"
    },
    "tags": []
   },
   "outputs": [
    {
     "name": "stdout",
     "output_type": "stream",
     "text": [
      "<class 'pandas.core.frame.DataFrame'>\n",
      "RangeIndex: 1128 entries, 0 to 1127\n",
      "Data columns (total 2 columns):\n",
      " #   Column  Non-Null Count  Dtype \n",
      "---  ------  --------------  ----- \n",
      " 0   tagId   1128 non-null   int64 \n",
      " 1   tag     1128 non-null   object\n",
      "dtypes: int64(1), object(1)\n",
      "memory usage: 17.8+ KB\n"
     ]
    }
   ],
   "source": [
    "Summary(genome_tags)"
   ]
  },
  {
   "cell_type": "code",
   "execution_count": 11,
   "metadata": {
    "execution": {
     "iopub.execute_input": "2020-12-07T14:02:44.242446Z",
     "iopub.status.busy": "2020-12-07T14:02:44.241464Z",
     "iopub.status.idle": "2020-12-07T14:02:44.245127Z",
     "shell.execute_reply": "2020-12-07T14:02:44.245994Z"
    },
    "papermill": {
     "duration": 0.070779,
     "end_time": "2020-12-07T14:02:44.246219",
     "exception": false,
     "start_time": "2020-12-07T14:02:44.175440",
     "status": "completed"
    },
    "tags": []
   },
   "outputs": [
    {
     "name": "stdout",
     "output_type": "stream",
     "text": [
      "<class 'pandas.core.frame.DataFrame'>\n",
      "RangeIndex: 15584448 entries, 0 to 15584447\n",
      "Data columns (total 3 columns):\n",
      " #   Column     Dtype  \n",
      "---  ------     -----  \n",
      " 0   movieId    int64  \n",
      " 1   tagId      int64  \n",
      " 2   relevance  float64\n",
      "dtypes: float64(1), int64(2)\n",
      "memory usage: 356.7 MB\n"
     ]
    }
   ],
   "source": [
    "Summary(genome_score)"
   ]
  },
  {
   "source": [
    "Most of the DataFrames have a Dtype of int64 and float64, which is an indication for numeric values. However, some DataFrames also have Dtype of an object, which is an indication of non-numeric character. The DataFrames which have a Dtype include tags_df; movies_df; imdb_df; and genome_df. "
   ],
   "cell_type": "markdown",
   "metadata": {}
  },
  {
   "cell_type": "code",
   "execution_count": 12,
   "metadata": {
    "execution": {
     "iopub.execute_input": "2020-12-07T14:02:44.374801Z",
     "iopub.status.busy": "2020-12-07T14:02:44.373678Z",
     "iopub.status.idle": "2020-12-07T14:02:44.378720Z",
     "shell.execute_reply": "2020-12-07T14:02:44.378090Z"
    },
    "papermill": {
     "duration": 0.074155,
     "end_time": "2020-12-07T14:02:44.378847",
     "exception": false,
     "start_time": "2020-12-07T14:02:44.304692",
     "status": "completed"
    },
    "tags": []
   },
   "outputs": [
    {
     "data": {
      "text/plain": [
       "10000038"
      ]
     },
     "execution_count": 12,
     "metadata": {},
     "output_type": "execute_result"
    }
   ],
   "source": [
    "len(train_df)"
   ]
  },
  {
   "cell_type": "code",
   "execution_count": 13,
   "metadata": {
    "execution": {
     "iopub.execute_input": "2020-12-07T14:02:44.507805Z",
     "iopub.status.busy": "2020-12-07T14:02:44.507045Z",
     "iopub.status.idle": "2020-12-07T14:02:45.050881Z",
     "shell.execute_reply": "2020-12-07T14:02:45.051590Z"
    },
    "papermill": {
     "duration": 0.609903,
     "end_time": "2020-12-07T14:02:45.051766",
     "exception": false,
     "start_time": "2020-12-07T14:02:44.441863",
     "status": "completed"
    },
    "tags": []
   },
   "outputs": [
    {
     "data": {
      "text/html": [
       "<div>\n",
       "<style scoped>\n",
       "    .dataframe tbody tr th:only-of-type {\n",
       "        vertical-align: middle;\n",
       "    }\n",
       "\n",
       "    .dataframe tbody tr th {\n",
       "        vertical-align: top;\n",
       "    }\n",
       "\n",
       "    .dataframe thead th {\n",
       "        text-align: right;\n",
       "    }\n",
       "</style>\n",
       "<table border=\"1\" class=\"dataframe\">\n",
       "  <thead>\n",
       "    <tr style=\"text-align: right;\">\n",
       "      <th></th>\n",
       "      <th>userId</th>\n",
       "      <th>count</th>\n",
       "    </tr>\n",
       "  </thead>\n",
       "  <tbody>\n",
       "    <tr>\n",
       "      <th>0</th>\n",
       "      <td>72315</td>\n",
       "      <td>12952</td>\n",
       "    </tr>\n",
       "    <tr>\n",
       "      <th>1</th>\n",
       "      <td>80974</td>\n",
       "      <td>3680</td>\n",
       "    </tr>\n",
       "    <tr>\n",
       "      <th>2</th>\n",
       "      <td>137293</td>\n",
       "      <td>3588</td>\n",
       "    </tr>\n",
       "    <tr>\n",
       "      <th>3</th>\n",
       "      <td>33844</td>\n",
       "      <td>3208</td>\n",
       "    </tr>\n",
       "    <tr>\n",
       "      <th>4</th>\n",
       "      <td>20055</td>\n",
       "      <td>3050</td>\n",
       "    </tr>\n",
       "  </tbody>\n",
       "</table>\n",
       "</div>"
      ],
      "text/plain": [
       "   userId  count\n",
       "0   72315  12952\n",
       "1   80974   3680\n",
       "2  137293   3588\n",
       "3   33844   3208\n",
       "4   20055   3050"
      ]
     },
     "execution_count": 13,
     "metadata": {},
     "output_type": "execute_result"
    }
   ],
   "source": [
    "# To find the number of times a user rated a movie, we create a data frame with the count by userId\n",
    "train_user = pd.DataFrame(\n",
    "    train_df['userId'].value_counts()).reset_index()\n",
    "train_user.rename(columns={'index':'userId','userId':'count'},\n",
    "                  inplace=True)\n",
    "train_user.head()\n"
   ]
  },
  {
   "cell_type": "markdown",
   "metadata": {
    "papermill": {
     "duration": 0.058602,
     "end_time": "2020-12-07T14:02:45.169795",
     "exception": false,
     "start_time": "2020-12-07T14:02:45.111193",
     "status": "completed"
    },
    "tags": []
   },
   "source": [
    "### Visualizing common users"
   ]
  },
  {
   "cell_type": "code",
   "execution_count": 14,
   "metadata": {
    "execution": {
     "iopub.execute_input": "2020-12-07T14:02:45.298167Z",
     "iopub.status.busy": "2020-12-07T14:02:45.295471Z",
     "iopub.status.idle": "2020-12-07T14:02:45.355990Z",
     "shell.execute_reply": "2020-12-07T14:02:45.355311Z"
    },
    "papermill": {
     "duration": 0.127858,
     "end_time": "2020-12-07T14:02:45.356131",
     "exception": false,
     "start_time": "2020-12-07T14:02:45.228273",
     "status": "completed"
    },
    "tags": []
   },
   "outputs": [],
   "source": [
    "# Grouping the users within a certain range aided us in determining the common userId's and the new ones.\n",
    "group_one = train_user.loc[(train_user['count'] > 0) & \n",
    "            (train_user['count'] < 50),\n",
    "            'userId'].value_counts().sum()\n",
    "group_two = train_user.loc[(train_user['count'] >= 50) & \n",
    "            (train_user['count'] < 500),\n",
    "            'userId'].value_counts().sum()\n",
    "group_three = train_user.loc[(train_user['count'] >= 500) & \n",
    "            (train_user['count'] < 1000),\n",
    "            'userId'].value_counts().sum()\n",
    "group_four = train_user.loc[(train_user['count'] >= 1000) & \n",
    "            (train_user['count'] < 1500),\n",
    "            'userId'].value_counts().sum()\n",
    "group_five = train_user.loc[(train_user['count'] >= 1500),\n",
    "            'userId'].value_counts().sum()"
   ]
  },
  {
   "cell_type": "code",
   "execution_count": 15,
   "metadata": {
    "execution": {
     "iopub.execute_input": "2020-12-07T14:02:45.489189Z",
     "iopub.status.busy": "2020-12-07T14:02:45.486695Z",
     "iopub.status.idle": "2020-12-07T14:02:46.664982Z",
     "shell.execute_reply": "2020-12-07T14:02:46.664135Z"
    },
    "papermill": {
     "duration": 1.25025,
     "end_time": "2020-12-07T14:02:46.665116",
     "exception": false,
     "start_time": "2020-12-07T14:02:45.414866",
     "status": "completed"
    },
    "tags": []
   },
   "outputs": [
    {
     "data": {
      "text/html": [
       "        <script type=\"text/javascript\">\n",
       "        window.PlotlyConfig = {MathJaxConfig: 'local'};\n",
       "        if (window.MathJax) {MathJax.Hub.Config({SVG: {font: \"STIX-Web\"}});}\n",
       "        if (typeof require !== 'undefined') {\n",
       "        require.undef(\"plotly\");\n",
       "        requirejs.config({\n",
       "            paths: {\n",
       "                'plotly': ['https://cdn.plot.ly/plotly-latest.min']\n",
       "            }\n",
       "        });\n",
       "        require(['plotly'], function(Plotly) {\n",
       "            window._Plotly = Plotly;\n",
       "        });\n",
       "        }\n",
       "        </script>\n",
       "        "
      ]
     },
     "metadata": {},
     "output_type": "display_data"
    },
    {
     "data": {
      "text/html": [
       "<div>                            <div id=\"d1df35a7-80bc-49bc-bb80-27b87c5b71d6\" class=\"plotly-graph-div\" style=\"height:525px; width:100%;\"></div>            <script type=\"text/javascript\">                require([\"plotly\"], function(Plotly) {                    window.PLOTLYENV=window.PLOTLYENV || {};                                    if (document.getElementById(\"d1df35a7-80bc-49bc-bb80-27b87c5b71d6\")) {                    Plotly.newPlot(                        \"d1df35a7-80bc-49bc-bb80-27b87c5b71d6\",                        [{\"alignmentgroup\": \"True\", \"hovertemplate\": \"group=%{x}<br>userId_grouping=%{y}<extra></extra>\", \"legendgroup\": \"group_one\", \"marker\": {\"color\": \"#636efa\"}, \"name\": \"group_one\", \"offsetgroup\": \"group_one\", \"orientation\": \"v\", \"showlegend\": true, \"textposition\": \"auto\", \"type\": \"bar\", \"x\": [\"group_one\"], \"xaxis\": \"x\", \"y\": [\"110010\"], \"yaxis\": \"y\"}, {\"alignmentgroup\": \"True\", \"hovertemplate\": \"group=%{x}<br>userId_grouping=%{y}<extra></extra>\", \"legendgroup\": \"group_two\", \"marker\": {\"color\": \"#EF553B\"}, \"name\": \"group_two\", \"offsetgroup\": \"group_two\", \"orientation\": \"v\", \"showlegend\": true, \"textposition\": \"auto\", \"type\": \"bar\", \"x\": [\"group_two\"], \"xaxis\": \"x\", \"y\": [\"50973\"], \"yaxis\": \"y\"}, {\"alignmentgroup\": \"True\", \"hovertemplate\": \"group=%{x}<br>userId_grouping=%{y}<extra></extra>\", \"legendgroup\": \"group_three\", \"marker\": {\"color\": \"#00cc96\"}, \"name\": \"group_three\", \"offsetgroup\": \"group_three\", \"orientation\": \"v\", \"showlegend\": true, \"textposition\": \"auto\", \"type\": \"bar\", \"x\": [\"group_three\"], \"xaxis\": \"x\", \"y\": [\"1338\"], \"yaxis\": \"y\"}, {\"alignmentgroup\": \"True\", \"hovertemplate\": \"group=%{x}<br>userId_grouping=%{y}<extra></extra>\", \"legendgroup\": \"group_four\", \"marker\": {\"color\": \"#ab63fa\"}, \"name\": \"group_four\", \"offsetgroup\": \"group_four\", \"orientation\": \"v\", \"showlegend\": true, \"textposition\": \"auto\", \"type\": \"bar\", \"x\": [\"group_four\"], \"xaxis\": \"x\", \"y\": [\"159\"], \"yaxis\": \"y\"}, {\"alignmentgroup\": \"True\", \"hovertemplate\": \"group=%{x}<br>userId_grouping=%{y}<extra></extra>\", \"legendgroup\": \"group_five\", \"marker\": {\"color\": \"#FFA15A\"}, \"name\": \"group_five\", \"offsetgroup\": \"group_five\", \"orientation\": \"v\", \"showlegend\": true, \"textposition\": \"auto\", \"type\": \"bar\", \"x\": [\"group_five\"], \"xaxis\": \"x\", \"y\": [\"61\"], \"yaxis\": \"y\"}],                        {\"barmode\": \"relative\", \"legend\": {\"title\": {\"text\": \"group\"}, \"tracegroupgap\": 0}, \"template\": {\"data\": {\"bar\": [{\"error_x\": {\"color\": \"#2a3f5f\"}, \"error_y\": {\"color\": \"#2a3f5f\"}, \"marker\": {\"line\": {\"color\": \"#E5ECF6\", \"width\": 0.5}}, \"type\": \"bar\"}], \"barpolar\": [{\"marker\": {\"line\": {\"color\": \"#E5ECF6\", \"width\": 0.5}}, \"type\": \"barpolar\"}], \"carpet\": [{\"aaxis\": {\"endlinecolor\": \"#2a3f5f\", \"gridcolor\": \"white\", \"linecolor\": \"white\", \"minorgridcolor\": \"white\", \"startlinecolor\": \"#2a3f5f\"}, \"baxis\": {\"endlinecolor\": \"#2a3f5f\", \"gridcolor\": \"white\", \"linecolor\": \"white\", \"minorgridcolor\": \"white\", \"startlinecolor\": \"#2a3f5f\"}, \"type\": \"carpet\"}], \"choropleth\": [{\"colorbar\": {\"outlinewidth\": 0, \"ticks\": \"\"}, \"type\": \"choropleth\"}], \"contour\": [{\"colorbar\": {\"outlinewidth\": 0, \"ticks\": \"\"}, \"colorscale\": [[0.0, \"#0d0887\"], [0.1111111111111111, \"#46039f\"], [0.2222222222222222, \"#7201a8\"], [0.3333333333333333, \"#9c179e\"], [0.4444444444444444, \"#bd3786\"], [0.5555555555555556, \"#d8576b\"], [0.6666666666666666, \"#ed7953\"], [0.7777777777777778, \"#fb9f3a\"], [0.8888888888888888, \"#fdca26\"], [1.0, \"#f0f921\"]], \"type\": \"contour\"}], \"contourcarpet\": [{\"colorbar\": {\"outlinewidth\": 0, \"ticks\": \"\"}, \"type\": \"contourcarpet\"}], \"heatmap\": [{\"colorbar\": {\"outlinewidth\": 0, \"ticks\": \"\"}, \"colorscale\": [[0.0, \"#0d0887\"], [0.1111111111111111, \"#46039f\"], [0.2222222222222222, \"#7201a8\"], [0.3333333333333333, \"#9c179e\"], [0.4444444444444444, \"#bd3786\"], [0.5555555555555556, \"#d8576b\"], [0.6666666666666666, \"#ed7953\"], [0.7777777777777778, \"#fb9f3a\"], [0.8888888888888888, \"#fdca26\"], [1.0, \"#f0f921\"]], \"type\": \"heatmap\"}], \"heatmapgl\": [{\"colorbar\": {\"outlinewidth\": 0, \"ticks\": \"\"}, \"colorscale\": [[0.0, \"#0d0887\"], [0.1111111111111111, \"#46039f\"], [0.2222222222222222, \"#7201a8\"], [0.3333333333333333, \"#9c179e\"], [0.4444444444444444, \"#bd3786\"], [0.5555555555555556, \"#d8576b\"], [0.6666666666666666, \"#ed7953\"], [0.7777777777777778, \"#fb9f3a\"], [0.8888888888888888, \"#fdca26\"], [1.0, \"#f0f921\"]], \"type\": \"heatmapgl\"}], \"histogram\": [{\"marker\": {\"colorbar\": {\"outlinewidth\": 0, \"ticks\": \"\"}}, \"type\": \"histogram\"}], \"histogram2d\": [{\"colorbar\": {\"outlinewidth\": 0, \"ticks\": \"\"}, \"colorscale\": [[0.0, \"#0d0887\"], [0.1111111111111111, \"#46039f\"], [0.2222222222222222, \"#7201a8\"], [0.3333333333333333, \"#9c179e\"], [0.4444444444444444, \"#bd3786\"], [0.5555555555555556, \"#d8576b\"], [0.6666666666666666, \"#ed7953\"], [0.7777777777777778, \"#fb9f3a\"], [0.8888888888888888, \"#fdca26\"], [1.0, \"#f0f921\"]], \"type\": \"histogram2d\"}], \"histogram2dcontour\": [{\"colorbar\": {\"outlinewidth\": 0, \"ticks\": \"\"}, \"colorscale\": [[0.0, \"#0d0887\"], [0.1111111111111111, \"#46039f\"], [0.2222222222222222, \"#7201a8\"], [0.3333333333333333, \"#9c179e\"], [0.4444444444444444, \"#bd3786\"], [0.5555555555555556, \"#d8576b\"], [0.6666666666666666, \"#ed7953\"], [0.7777777777777778, \"#fb9f3a\"], [0.8888888888888888, \"#fdca26\"], [1.0, \"#f0f921\"]], \"type\": \"histogram2dcontour\"}], \"mesh3d\": [{\"colorbar\": {\"outlinewidth\": 0, \"ticks\": \"\"}, \"type\": \"mesh3d\"}], \"parcoords\": [{\"line\": {\"colorbar\": {\"outlinewidth\": 0, \"ticks\": \"\"}}, \"type\": \"parcoords\"}], \"pie\": [{\"automargin\": true, \"type\": \"pie\"}], \"scatter\": [{\"marker\": {\"colorbar\": {\"outlinewidth\": 0, \"ticks\": \"\"}}, \"type\": \"scatter\"}], \"scatter3d\": [{\"line\": {\"colorbar\": {\"outlinewidth\": 0, \"ticks\": \"\"}}, \"marker\": {\"colorbar\": {\"outlinewidth\": 0, \"ticks\": \"\"}}, \"type\": \"scatter3d\"}], \"scattercarpet\": [{\"marker\": {\"colorbar\": {\"outlinewidth\": 0, \"ticks\": \"\"}}, \"type\": \"scattercarpet\"}], \"scattergeo\": [{\"marker\": {\"colorbar\": {\"outlinewidth\": 0, \"ticks\": \"\"}}, \"type\": \"scattergeo\"}], \"scattergl\": [{\"marker\": {\"colorbar\": {\"outlinewidth\": 0, \"ticks\": \"\"}}, \"type\": \"scattergl\"}], \"scattermapbox\": [{\"marker\": {\"colorbar\": {\"outlinewidth\": 0, \"ticks\": \"\"}}, \"type\": \"scattermapbox\"}], \"scatterpolar\": [{\"marker\": {\"colorbar\": {\"outlinewidth\": 0, \"ticks\": \"\"}}, \"type\": \"scatterpolar\"}], \"scatterpolargl\": [{\"marker\": {\"colorbar\": {\"outlinewidth\": 0, \"ticks\": \"\"}}, \"type\": \"scatterpolargl\"}], \"scatterternary\": [{\"marker\": {\"colorbar\": {\"outlinewidth\": 0, \"ticks\": \"\"}}, \"type\": \"scatterternary\"}], \"surface\": [{\"colorbar\": {\"outlinewidth\": 0, \"ticks\": \"\"}, \"colorscale\": [[0.0, \"#0d0887\"], [0.1111111111111111, \"#46039f\"], [0.2222222222222222, \"#7201a8\"], [0.3333333333333333, \"#9c179e\"], [0.4444444444444444, \"#bd3786\"], [0.5555555555555556, \"#d8576b\"], [0.6666666666666666, \"#ed7953\"], [0.7777777777777778, \"#fb9f3a\"], [0.8888888888888888, \"#fdca26\"], [1.0, \"#f0f921\"]], \"type\": \"surface\"}], \"table\": [{\"cells\": {\"fill\": {\"color\": \"#EBF0F8\"}, \"line\": {\"color\": \"white\"}}, \"header\": {\"fill\": {\"color\": \"#C8D4E3\"}, \"line\": {\"color\": \"white\"}}, \"type\": \"table\"}]}, \"layout\": {\"annotationdefaults\": {\"arrowcolor\": \"#2a3f5f\", \"arrowhead\": 0, \"arrowwidth\": 1}, \"coloraxis\": {\"colorbar\": {\"outlinewidth\": 0, \"ticks\": \"\"}}, \"colorscale\": {\"diverging\": [[0, \"#8e0152\"], [0.1, \"#c51b7d\"], [0.2, \"#de77ae\"], [0.3, \"#f1b6da\"], [0.4, \"#fde0ef\"], [0.5, \"#f7f7f7\"], [0.6, \"#e6f5d0\"], [0.7, \"#b8e186\"], [0.8, \"#7fbc41\"], [0.9, \"#4d9221\"], [1, \"#276419\"]], \"sequential\": [[0.0, \"#0d0887\"], [0.1111111111111111, \"#46039f\"], [0.2222222222222222, \"#7201a8\"], [0.3333333333333333, \"#9c179e\"], [0.4444444444444444, \"#bd3786\"], [0.5555555555555556, \"#d8576b\"], [0.6666666666666666, \"#ed7953\"], [0.7777777777777778, \"#fb9f3a\"], [0.8888888888888888, \"#fdca26\"], [1.0, \"#f0f921\"]], \"sequentialminus\": [[0.0, \"#0d0887\"], [0.1111111111111111, \"#46039f\"], [0.2222222222222222, \"#7201a8\"], [0.3333333333333333, \"#9c179e\"], [0.4444444444444444, \"#bd3786\"], [0.5555555555555556, \"#d8576b\"], [0.6666666666666666, \"#ed7953\"], [0.7777777777777778, \"#fb9f3a\"], [0.8888888888888888, \"#fdca26\"], [1.0, \"#f0f921\"]]}, \"colorway\": [\"#636efa\", \"#EF553B\", \"#00cc96\", \"#ab63fa\", \"#FFA15A\", \"#19d3f3\", \"#FF6692\", \"#B6E880\", \"#FF97FF\", \"#FECB52\"], \"font\": {\"color\": \"#2a3f5f\"}, \"geo\": {\"bgcolor\": \"white\", \"lakecolor\": \"white\", \"landcolor\": \"#E5ECF6\", \"showlakes\": true, \"showland\": true, \"subunitcolor\": \"white\"}, \"hoverlabel\": {\"align\": \"left\"}, \"hovermode\": \"closest\", \"mapbox\": {\"style\": \"light\"}, \"paper_bgcolor\": \"white\", \"plot_bgcolor\": \"#E5ECF6\", \"polar\": {\"angularaxis\": {\"gridcolor\": \"white\", \"linecolor\": \"white\", \"ticks\": \"\"}, \"bgcolor\": \"#E5ECF6\", \"radialaxis\": {\"gridcolor\": \"white\", \"linecolor\": \"white\", \"ticks\": \"\"}}, \"scene\": {\"xaxis\": {\"backgroundcolor\": \"#E5ECF6\", \"gridcolor\": \"white\", \"gridwidth\": 2, \"linecolor\": \"white\", \"showbackground\": true, \"ticks\": \"\", \"zerolinecolor\": \"white\"}, \"yaxis\": {\"backgroundcolor\": \"#E5ECF6\", \"gridcolor\": \"white\", \"gridwidth\": 2, \"linecolor\": \"white\", \"showbackground\": true, \"ticks\": \"\", \"zerolinecolor\": \"white\"}, \"zaxis\": {\"backgroundcolor\": \"#E5ECF6\", \"gridcolor\": \"white\", \"gridwidth\": 2, \"linecolor\": \"white\", \"showbackground\": true, \"ticks\": \"\", \"zerolinecolor\": \"white\"}}, \"shapedefaults\": {\"line\": {\"color\": \"#2a3f5f\"}}, \"ternary\": {\"aaxis\": {\"gridcolor\": \"white\", \"linecolor\": \"white\", \"ticks\": \"\"}, \"baxis\": {\"gridcolor\": \"white\", \"linecolor\": \"white\", \"ticks\": \"\"}, \"bgcolor\": \"#E5ECF6\", \"caxis\": {\"gridcolor\": \"white\", \"linecolor\": \"white\", \"ticks\": \"\"}}, \"title\": {\"x\": 0.05}, \"xaxis\": {\"automargin\": true, \"gridcolor\": \"white\", \"linecolor\": \"white\", \"ticks\": \"\", \"title\": {\"standoff\": 15}, \"zerolinecolor\": \"white\", \"zerolinewidth\": 2}, \"yaxis\": {\"automargin\": true, \"gridcolor\": \"white\", \"linecolor\": \"white\", \"ticks\": \"\", \"title\": {\"standoff\": 15}, \"zerolinecolor\": \"white\", \"zerolinewidth\": 2}}}, \"title\": {\"text\": \"Grouped Rating Distribustion\"}, \"xaxis\": {\"anchor\": \"y\", \"categoryarray\": [\"group_one\", \"group_two\", \"group_three\", \"group_four\", \"group_five\"], \"categoryorder\": \"array\", \"domain\": [0.0, 1.0], \"title\": {\"text\": \"group\"}}, \"yaxis\": {\"anchor\": \"x\", \"domain\": [0.0, 1.0], \"title\": {\"text\": \"userId_grouping\"}}},                        {\"responsive\": true}                    ).then(function(){\n",
       "                            \n",
       "var gd = document.getElementById('d1df35a7-80bc-49bc-bb80-27b87c5b71d6');\n",
       "var x = new MutationObserver(function (mutations, observer) {{\n",
       "        var display = window.getComputedStyle(gd).display;\n",
       "        if (!display || display === 'none') {{\n",
       "            console.log([gd, 'removed!']);\n",
       "            Plotly.purge(gd);\n",
       "            observer.disconnect();\n",
       "        }}\n",
       "}});\n",
       "\n",
       "// Listen for the removal of the full notebook cells\n",
       "var notebookContainer = gd.closest('#notebook-container');\n",
       "if (notebookContainer) {{\n",
       "    x.observe(notebookContainer, {childList: true});\n",
       "}}\n",
       "\n",
       "// Listen for the clearing of the current output cell\n",
       "var outputEl = gd.closest('.output');\n",
       "if (outputEl) {{\n",
       "    x.observe(outputEl, {childList: true});\n",
       "}}\n",
       "\n",
       "                        })                };                });            </script>        </div>"
      ]
     },
     "metadata": {},
     "output_type": "display_data"
    },
    {
     "data": {
      "text/html": [
       "<div>\n",
       "<style scoped>\n",
       "    .dataframe tbody tr th:only-of-type {\n",
       "        vertical-align: middle;\n",
       "    }\n",
       "\n",
       "    .dataframe tbody tr th {\n",
       "        vertical-align: top;\n",
       "    }\n",
       "\n",
       "    .dataframe thead th {\n",
       "        text-align: right;\n",
       "    }\n",
       "</style>\n",
       "<table border=\"1\" class=\"dataframe\">\n",
       "  <thead>\n",
       "    <tr style=\"text-align: right;\">\n",
       "      <th></th>\n",
       "      <th>group</th>\n",
       "      <th>userId_grouping</th>\n",
       "      <th>explanation</th>\n",
       "    </tr>\n",
       "  </thead>\n",
       "  <tbody>\n",
       "    <tr>\n",
       "      <th>0</th>\n",
       "      <td>group_one</td>\n",
       "      <td>110010</td>\n",
       "      <td>ratings_count between 1 and 50</td>\n",
       "    </tr>\n",
       "    <tr>\n",
       "      <th>1</th>\n",
       "      <td>group_two</td>\n",
       "      <td>50973</td>\n",
       "      <td>ratings_count between 50 and 500</td>\n",
       "    </tr>\n",
       "    <tr>\n",
       "      <th>2</th>\n",
       "      <td>group_three</td>\n",
       "      <td>1338</td>\n",
       "      <td>ratings_count between 500 and 1000</td>\n",
       "    </tr>\n",
       "    <tr>\n",
       "      <th>3</th>\n",
       "      <td>group_four</td>\n",
       "      <td>159</td>\n",
       "      <td>ratings_count between 1000 and 1500</td>\n",
       "    </tr>\n",
       "    <tr>\n",
       "      <th>4</th>\n",
       "      <td>group_five</td>\n",
       "      <td>61</td>\n",
       "      <td>ratings_count greater than 1500</td>\n",
       "    </tr>\n",
       "  </tbody>\n",
       "</table>\n",
       "</div>"
      ],
      "text/plain": [
       "         group userId_grouping                          explanation\n",
       "0    group_one          110010       ratings_count between 1 and 50\n",
       "1    group_two           50973     ratings_count between 50 and 500\n",
       "2  group_three            1338   ratings_count between 500 and 1000\n",
       "3   group_four             159  ratings_count between 1000 and 1500\n",
       "4   group_five              61      ratings_count greater than 1500"
      ]
     },
     "execution_count": 15,
     "metadata": {},
     "output_type": "execute_result"
    }
   ],
   "source": [
    "# To give us insight in the spread, we used figures to determine the spread.\n",
    "trial_error = np.array([['group_one', group_one,\n",
    "                         'ratings_count between 1 and 50'],\n",
    "                        ['group_two', group_two,\n",
    "                         'ratings_count between 50 and 500'],\n",
    "                        ['group_three', group_three,\n",
    "                         'ratings_count between 500 and 1000'],\n",
    "                        ['group_four', group_four,\n",
    "                         'ratings_count between 1000 and 1500'],\n",
    "                        ['group_five', group_five,\n",
    "                         'ratings_count greater than 1500']])\n",
    "trial_error_df = pd.DataFrame({'group': trial_error[:, 0],\n",
    "                               'userId_grouping': trial_error[:, 1],\n",
    "                               'explanation': trial_error[:, 2]})\n",
    "fig = px.bar(trial_error_df,\n",
    "             x=trial_error_df[\"group\"],\n",
    "             y=trial_error_df[\"userId_grouping\"],\n",
    "             color=trial_error_df[\"group\"],\n",
    "             title='Grouped Rating Distribustion')\n",
    "fig.show()\n",
    "trial_error_df\n"
   ]
  },
  {
   "source": [
    "The user Id's are grouped by the rating counts in a grouping range illustrated in the DataFrame above.  In the Grouped Rating Distribution bar graph, it is visually displayed that there is unequal distribution.  The distribution is skewed to the left, with the majority of the user ids in the rating count range between 1 and 50. At the same time, the last group has only a value count of 61, which is a significant difference from group one with a value count of 110 010."
   ],
   "cell_type": "markdown",
   "metadata": {}
  },
  {
   "cell_type": "markdown",
   "metadata": {
    "papermill": {
     "duration": 0.061702,
     "end_time": "2020-12-07T14:02:46.787972",
     "exception": false,
     "start_time": "2020-12-07T14:02:46.726270",
     "status": "completed"
    },
    "tags": []
   },
   "source": [
    "### Visualizing the dataframes"
   ]
  },
  {
   "cell_type": "code",
   "execution_count": 16,
   "metadata": {
    "execution": {
     "iopub.execute_input": "2020-12-07T14:02:46.924880Z",
     "iopub.status.busy": "2020-12-07T14:02:46.923705Z",
     "iopub.status.idle": "2020-12-07T14:02:46.928582Z",
     "shell.execute_reply": "2020-12-07T14:02:46.927821Z"
    },
    "papermill": {
     "duration": 0.080522,
     "end_time": "2020-12-07T14:02:46.928708",
     "exception": false,
     "start_time": "2020-12-07T14:02:46.848186",
     "status": "completed"
    },
    "tags": []
   },
   "outputs": [
    {
     "data": {
      "text/html": [
       "<div>\n",
       "<style scoped>\n",
       "    .dataframe tbody tr th:only-of-type {\n",
       "        vertical-align: middle;\n",
       "    }\n",
       "\n",
       "    .dataframe tbody tr th {\n",
       "        vertical-align: top;\n",
       "    }\n",
       "\n",
       "    .dataframe thead th {\n",
       "        text-align: right;\n",
       "    }\n",
       "</style>\n",
       "<table border=\"1\" class=\"dataframe\">\n",
       "  <thead>\n",
       "    <tr style=\"text-align: right;\">\n",
       "      <th></th>\n",
       "      <th>dataframe</th>\n",
       "      <th>sizes</th>\n",
       "    </tr>\n",
       "  </thead>\n",
       "  <tbody>\n",
       "    <tr>\n",
       "      <th>0</th>\n",
       "      <td>train_df</td>\n",
       "      <td>10000038</td>\n",
       "    </tr>\n",
       "    <tr>\n",
       "      <th>1</th>\n",
       "      <td>test_df</td>\n",
       "      <td>5000019</td>\n",
       "    </tr>\n",
       "    <tr>\n",
       "      <th>2</th>\n",
       "      <td>tags_df</td>\n",
       "      <td>1093360</td>\n",
       "    </tr>\n",
       "    <tr>\n",
       "      <th>3</th>\n",
       "      <td>imdb_df</td>\n",
       "      <td>27278</td>\n",
       "    </tr>\n",
       "    <tr>\n",
       "      <th>4</th>\n",
       "      <td>links_df</td>\n",
       "      <td>62423</td>\n",
       "    </tr>\n",
       "    <tr>\n",
       "      <th>5</th>\n",
       "      <td>movies_df</td>\n",
       "      <td>62423</td>\n",
       "    </tr>\n",
       "    <tr>\n",
       "      <th>6</th>\n",
       "      <td>genome_tags</td>\n",
       "      <td>1128</td>\n",
       "    </tr>\n",
       "    <tr>\n",
       "      <th>7</th>\n",
       "      <td>genome_score</td>\n",
       "      <td>15584448</td>\n",
       "    </tr>\n",
       "  </tbody>\n",
       "</table>\n",
       "</div>"
      ],
      "text/plain": [
       "      dataframe     sizes\n",
       "0      train_df  10000038\n",
       "1       test_df   5000019\n",
       "2       tags_df   1093360\n",
       "3       imdb_df     27278\n",
       "4      links_df     62423\n",
       "5     movies_df     62423\n",
       "6   genome_tags      1128\n",
       "7  genome_score  15584448"
      ]
     },
     "execution_count": 16,
     "metadata": {},
     "output_type": "execute_result"
    }
   ],
   "source": [
    "# Created a Data Frame outlining the size of our data\n",
    "dataframes = ['train_df', 'test_df', 'tags_df', 'imdb_df',\n",
    "              'links_df', 'movies_df', 'genome_tags', 'genome_score']\n",
    "sizes = [len(train_df), len(test_df), len(tags_df),\n",
    "         len(imdb_df), len(links_df), len(movies_df),\n",
    "         len(genome_tags), len(genome_score)]\n",
    "total_size_df = pd.DataFrame(list(zip(dataframes, sizes)),\n",
    "                             columns=['dataframe', 'sizes'])\n",
    "total_size_df"
   ]
  },
  {
   "cell_type": "code",
   "execution_count": 17,
   "metadata": {
    "execution": {
     "iopub.execute_input": "2020-12-07T14:02:47.066835Z",
     "iopub.status.busy": "2020-12-07T14:02:47.065712Z",
     "iopub.status.idle": "2020-12-07T14:02:47.070163Z",
     "shell.execute_reply": "2020-12-07T14:02:47.070731Z"
    },
    "papermill": {
     "duration": 0.080185,
     "end_time": "2020-12-07T14:02:47.070903",
     "exception": false,
     "start_time": "2020-12-07T14:02:46.990718",
     "status": "completed"
    },
    "tags": []
   },
   "outputs": [
    {
     "data": {
      "text/html": [
       "<div>\n",
       "<style scoped>\n",
       "    .dataframe tbody tr th:only-of-type {\n",
       "        vertical-align: middle;\n",
       "    }\n",
       "\n",
       "    .dataframe tbody tr th {\n",
       "        vertical-align: top;\n",
       "    }\n",
       "\n",
       "    .dataframe thead th {\n",
       "        text-align: right;\n",
       "    }\n",
       "</style>\n",
       "<table border=\"1\" class=\"dataframe\">\n",
       "  <thead>\n",
       "    <tr style=\"text-align: right;\">\n",
       "      <th></th>\n",
       "      <th>dataframe</th>\n",
       "      <th>sizes</th>\n",
       "    </tr>\n",
       "  </thead>\n",
       "  <tbody>\n",
       "    <tr>\n",
       "      <th>0</th>\n",
       "      <td>train_df</td>\n",
       "      <td>10000038</td>\n",
       "    </tr>\n",
       "    <tr>\n",
       "      <th>1</th>\n",
       "      <td>test_df</td>\n",
       "      <td>5000019</td>\n",
       "    </tr>\n",
       "    <tr>\n",
       "      <th>2</th>\n",
       "      <td>tags_df</td>\n",
       "      <td>1093360</td>\n",
       "    </tr>\n",
       "    <tr>\n",
       "      <th>3</th>\n",
       "      <td>imdb_df</td>\n",
       "      <td>27278</td>\n",
       "    </tr>\n",
       "    <tr>\n",
       "      <th>4</th>\n",
       "      <td>links_df</td>\n",
       "      <td>62423</td>\n",
       "    </tr>\n",
       "    <tr>\n",
       "      <th>5</th>\n",
       "      <td>movies_df</td>\n",
       "      <td>62423</td>\n",
       "    </tr>\n",
       "    <tr>\n",
       "      <th>6</th>\n",
       "      <td>genome_tags</td>\n",
       "      <td>1128</td>\n",
       "    </tr>\n",
       "    <tr>\n",
       "      <th>7</th>\n",
       "      <td>genome_score</td>\n",
       "      <td>15584448</td>\n",
       "    </tr>\n",
       "    <tr>\n",
       "      <th>8</th>\n",
       "      <td>other</td>\n",
       "      <td>180530</td>\n",
       "    </tr>\n",
       "  </tbody>\n",
       "</table>\n",
       "</div>"
      ],
      "text/plain": [
       "      dataframe     sizes\n",
       "0      train_df  10000038\n",
       "1       test_df   5000019\n",
       "2       tags_df   1093360\n",
       "3       imdb_df     27278\n",
       "4      links_df     62423\n",
       "5     movies_df     62423\n",
       "6   genome_tags      1128\n",
       "7  genome_score  15584448\n",
       "8         other    180530"
      ]
     },
     "execution_count": 17,
     "metadata": {},
     "output_type": "execute_result"
    }
   ],
   "source": [
    "new_row = {'dataframe': 'other', 'sizes': 180530}\n",
    "total_size_df = total_size_df.append(new_row,\n",
    "                                     ignore_index=True)\n",
    "total_size_df"
   ]
  },
  {
   "cell_type": "code",
   "execution_count": 18,
   "metadata": {
    "execution": {
     "iopub.execute_input": "2020-12-07T14:02:47.209462Z",
     "iopub.status.busy": "2020-12-07T14:02:47.208264Z",
     "iopub.status.idle": "2020-12-07T14:02:47.213359Z",
     "shell.execute_reply": "2020-12-07T14:02:47.212796Z"
    },
    "papermill": {
     "duration": 0.080418,
     "end_time": "2020-12-07T14:02:47.213481",
     "exception": false,
     "start_time": "2020-12-07T14:02:47.133063",
     "status": "completed"
    },
    "tags": []
   },
   "outputs": [
    {
     "data": {
      "text/html": [
       "<div>\n",
       "<style scoped>\n",
       "    .dataframe tbody tr th:only-of-type {\n",
       "        vertical-align: middle;\n",
       "    }\n",
       "\n",
       "    .dataframe tbody tr th {\n",
       "        vertical-align: top;\n",
       "    }\n",
       "\n",
       "    .dataframe thead th {\n",
       "        text-align: right;\n",
       "    }\n",
       "</style>\n",
       "<table border=\"1\" class=\"dataframe\">\n",
       "  <thead>\n",
       "    <tr style=\"text-align: right;\">\n",
       "      <th></th>\n",
       "      <th>dataframe</th>\n",
       "      <th>sizes</th>\n",
       "    </tr>\n",
       "  </thead>\n",
       "  <tbody>\n",
       "    <tr>\n",
       "      <th>0</th>\n",
       "      <td>train_df</td>\n",
       "      <td>10000038</td>\n",
       "    </tr>\n",
       "    <tr>\n",
       "      <th>1</th>\n",
       "      <td>test_df</td>\n",
       "      <td>5000019</td>\n",
       "    </tr>\n",
       "    <tr>\n",
       "      <th>2</th>\n",
       "      <td>tags_df</td>\n",
       "      <td>1093360</td>\n",
       "    </tr>\n",
       "    <tr>\n",
       "      <th>7</th>\n",
       "      <td>genome_score</td>\n",
       "      <td>15584448</td>\n",
       "    </tr>\n",
       "    <tr>\n",
       "      <th>8</th>\n",
       "      <td>other</td>\n",
       "      <td>180530</td>\n",
       "    </tr>\n",
       "  </tbody>\n",
       "</table>\n",
       "</div>"
      ],
      "text/plain": [
       "      dataframe     sizes\n",
       "0      train_df  10000038\n",
       "1       test_df   5000019\n",
       "2       tags_df   1093360\n",
       "7  genome_score  15584448\n",
       "8         other    180530"
      ]
     },
     "execution_count": 18,
     "metadata": {},
     "output_type": "execute_result"
    }
   ],
   "source": [
    "total_size_df = total_size_df[total_size_df['sizes'] > 100000]\n",
    "total_size_df"
   ]
  },
  {
   "cell_type": "code",
   "execution_count": 19,
   "metadata": {
    "execution": {
     "iopub.execute_input": "2020-12-07T14:02:47.448801Z",
     "iopub.status.busy": "2020-12-07T14:02:47.447927Z",
     "iopub.status.idle": "2020-12-07T14:02:47.573910Z",
     "shell.execute_reply": "2020-12-07T14:02:47.573160Z"
    },
    "papermill": {
     "duration": 0.297818,
     "end_time": "2020-12-07T14:02:47.574031",
     "exception": false,
     "start_time": "2020-12-07T14:02:47.276213",
     "status": "completed"
    },
    "tags": []
   },
   "outputs": [
    {
     "data": {
      "image/png": "[encoded data removed]",
      "text/plain": [
       "<Figure size 432x288 with 1 Axes>"
      ]
     },
     "metadata": {},
     "output_type": "display_data"
    }
   ],
   "source": [
    "explodeTuple = (0.0, 0.0, 0.0, 0.0, 0.4)\n",
    "fig1, ax1 = plt.subplots()\n",
    "ax1.pie(total_size_df['sizes'].values,\n",
    "        labels=total_size_df['dataframe'].values,\n",
    "        startangle=90, autopct='%1.1f%%',\n",
    "        explode=explodeTuple)\n",
    "ax1.axis('equal')\n",
    "plt.title('Distribution of overall Data Frames')\n",
    "plt.show()"
   ]
  },
  {
   "cell_type": "code",
   "execution_count": 20,
   "metadata": {
    "execution": {
     "iopub.execute_input": "2020-12-07T14:02:47.771191Z",
     "iopub.status.busy": "2020-12-07T14:02:47.710717Z",
     "iopub.status.idle": "2020-12-07T14:02:47.802800Z",
     "shell.execute_reply": "2020-12-07T14:02:47.802175Z"
    },
    "papermill": {
     "duration": 0.164903,
     "end_time": "2020-12-07T14:02:47.802949",
     "exception": false,
     "start_time": "2020-12-07T14:02:47.638046",
     "status": "completed"
    },
    "tags": []
   },
   "outputs": [
    {
     "data": {
      "text/html": [
       "<div>                            <div id=\"455a383a-8752-46d5-b954-19a9e89e72f8\" class=\"plotly-graph-div\" style=\"height:525px; width:100%;\"></div>            <script type=\"text/javascript\">                require([\"plotly\"], function(Plotly) {                    window.PLOTLYENV=window.PLOTLYENV || {};                                    if (document.getElementById(\"455a383a-8752-46d5-b954-19a9e89e72f8\")) {                    Plotly.newPlot(                        \"455a383a-8752-46d5-b954-19a9e89e72f8\",                        [{\"alignmentgroup\": \"True\", \"hovertemplate\": \"Dataset=%{x}<br>Size=%{y}<extra></extra>\", \"legendgroup\": \"train_df\", \"marker\": {\"color\": \"#636efa\"}, \"name\": \"train_df\", \"offsetgroup\": \"train_df\", \"orientation\": \"v\", \"showlegend\": true, \"textposition\": \"auto\", \"type\": \"bar\", \"x\": [\"train_df\"], \"xaxis\": \"x\", \"y\": [10000038], \"yaxis\": \"y\"}, {\"alignmentgroup\": \"True\", \"hovertemplate\": \"Dataset=%{x}<br>Size=%{y}<extra></extra>\", \"legendgroup\": \"tags_df\", \"marker\": {\"color\": \"#EF553B\"}, \"name\": \"tags_df\", \"offsetgroup\": \"tags_df\", \"orientation\": \"v\", \"showlegend\": true, \"textposition\": \"auto\", \"type\": \"bar\", \"x\": [\"tags_df\"], \"xaxis\": \"x\", \"y\": [1093360], \"yaxis\": \"y\"}, {\"alignmentgroup\": \"True\", \"hovertemplate\": \"Dataset=%{x}<br>Size=%{y}<extra></extra>\", \"legendgroup\": \"imdb_df\", \"marker\": {\"color\": \"#00cc96\"}, \"name\": \"imdb_df\", \"offsetgroup\": \"imdb_df\", \"orientation\": \"v\", \"showlegend\": true, \"textposition\": \"auto\", \"type\": \"bar\", \"x\": [\"imdb_df\"], \"xaxis\": \"x\", \"y\": [27278], \"yaxis\": \"y\"}, {\"alignmentgroup\": \"True\", \"hovertemplate\": \"Dataset=%{x}<br>Size=%{y}<extra></extra>\", \"legendgroup\": \"links_df\", \"marker\": {\"color\": \"#ab63fa\"}, \"name\": \"links_df\", \"offsetgroup\": \"links_df\", \"orientation\": \"v\", \"showlegend\": true, \"textposition\": \"auto\", \"type\": \"bar\", \"x\": [\"links_df\"], \"xaxis\": \"x\", \"y\": [62423], \"yaxis\": \"y\"}, {\"alignmentgroup\": \"True\", \"hovertemplate\": \"Dataset=%{x}<br>Size=%{y}<extra></extra>\", \"legendgroup\": \"movies_df\", \"marker\": {\"color\": \"#FFA15A\"}, \"name\": \"movies_df\", \"offsetgroup\": \"movies_df\", \"orientation\": \"v\", \"showlegend\": true, \"textposition\": \"auto\", \"type\": \"bar\", \"x\": [\"movies_df\"], \"xaxis\": \"x\", \"y\": [62423], \"yaxis\": \"y\"}, {\"alignmentgroup\": \"True\", \"hovertemplate\": \"Dataset=%{x}<br>Size=%{y}<extra></extra>\", \"legendgroup\": \"genome_tags\", \"marker\": {\"color\": \"#19d3f3\"}, \"name\": \"genome_tags\", \"offsetgroup\": \"genome_tags\", \"orientation\": \"v\", \"showlegend\": true, \"textposition\": \"auto\", \"type\": \"bar\", \"x\": [\"genome_tags\"], \"xaxis\": \"x\", \"y\": [1128], \"yaxis\": \"y\"}, {\"alignmentgroup\": \"True\", \"hovertemplate\": \"Dataset=%{x}<br>Size=%{y}<extra></extra>\", \"legendgroup\": \"genome_score\", \"marker\": {\"color\": \"#FF6692\"}, \"name\": \"genome_score\", \"offsetgroup\": \"genome_score\", \"orientation\": \"v\", \"showlegend\": true, \"textposition\": \"auto\", \"type\": \"bar\", \"x\": [\"genome_score\"], \"xaxis\": \"x\", \"y\": [15584448], \"yaxis\": \"y\"}],                        {\"barmode\": \"relative\", \"legend\": {\"title\": {\"text\": \"Dataset\"}, \"tracegroupgap\": 0}, \"template\": {\"data\": {\"bar\": [{\"error_x\": {\"color\": \"#2a3f5f\"}, \"error_y\": {\"color\": \"#2a3f5f\"}, \"marker\": {\"line\": {\"color\": \"#E5ECF6\", \"width\": 0.5}}, \"type\": \"bar\"}], \"barpolar\": [{\"marker\": {\"line\": {\"color\": \"#E5ECF6\", \"width\": 0.5}}, \"type\": \"barpolar\"}], \"carpet\": [{\"aaxis\": {\"endlinecolor\": \"#2a3f5f\", \"gridcolor\": \"white\", \"linecolor\": \"white\", \"minorgridcolor\": \"white\", \"startlinecolor\": \"#2a3f5f\"}, \"baxis\": {\"endlinecolor\": \"#2a3f5f\", \"gridcolor\": \"white\", \"linecolor\": \"white\", \"minorgridcolor\": \"white\", \"startlinecolor\": \"#2a3f5f\"}, \"type\": \"carpet\"}], \"choropleth\": [{\"colorbar\": {\"outlinewidth\": 0, \"ticks\": \"\"}, \"type\": \"choropleth\"}], \"contour\": [{\"colorbar\": {\"outlinewidth\": 0, \"ticks\": \"\"}, \"colorscale\": [[0.0, \"#0d0887\"], [0.1111111111111111, \"#46039f\"], [0.2222222222222222, \"#7201a8\"], [0.3333333333333333, \"#9c179e\"], [0.4444444444444444, \"#bd3786\"], [0.5555555555555556, \"#d8576b\"], [0.6666666666666666, \"#ed7953\"], [0.7777777777777778, \"#fb9f3a\"], [0.8888888888888888, \"#fdca26\"], [1.0, \"#f0f921\"]], \"type\": \"contour\"}], \"contourcarpet\": [{\"colorbar\": {\"outlinewidth\": 0, \"ticks\": \"\"}, \"type\": \"contourcarpet\"}], \"heatmap\": [{\"colorbar\": {\"outlinewidth\": 0, \"ticks\": \"\"}, \"colorscale\": [[0.0, \"#0d0887\"], [0.1111111111111111, \"#46039f\"], [0.2222222222222222, \"#7201a8\"], [0.3333333333333333, \"#9c179e\"], [0.4444444444444444, \"#bd3786\"], [0.5555555555555556, \"#d8576b\"], [0.6666666666666666, \"#ed7953\"], [0.7777777777777778, \"#fb9f3a\"], [0.8888888888888888, \"#fdca26\"], [1.0, \"#f0f921\"]], \"type\": \"heatmap\"}], \"heatmapgl\": [{\"colorbar\": {\"outlinewidth\": 0, \"ticks\": \"\"}, \"colorscale\": [[0.0, \"#0d0887\"], [0.1111111111111111, \"#46039f\"], [0.2222222222222222, \"#7201a8\"], [0.3333333333333333, \"#9c179e\"], [0.4444444444444444, \"#bd3786\"], [0.5555555555555556, \"#d8576b\"], [0.6666666666666666, \"#ed7953\"], [0.7777777777777778, \"#fb9f3a\"], [0.8888888888888888, \"#fdca26\"], [1.0, \"#f0f921\"]], \"type\": \"heatmapgl\"}], \"histogram\": [{\"marker\": {\"colorbar\": {\"outlinewidth\": 0, \"ticks\": \"\"}}, \"type\": \"histogram\"}], \"histogram2d\": [{\"colorbar\": {\"outlinewidth\": 0, \"ticks\": \"\"}, \"colorscale\": [[0.0, \"#0d0887\"], [0.1111111111111111, \"#46039f\"], [0.2222222222222222, \"#7201a8\"], [0.3333333333333333, \"#9c179e\"], [0.4444444444444444, \"#bd3786\"], [0.5555555555555556, \"#d8576b\"], [0.6666666666666666, \"#ed7953\"], [0.7777777777777778, \"#fb9f3a\"], [0.8888888888888888, \"#fdca26\"], [1.0, \"#f0f921\"]], \"type\": \"histogram2d\"}], \"histogram2dcontour\": [{\"colorbar\": {\"outlinewidth\": 0, \"ticks\": \"\"}, \"colorscale\": [[0.0, \"#0d0887\"], [0.1111111111111111, \"#46039f\"], [0.2222222222222222, \"#7201a8\"], [0.3333333333333333, \"#9c179e\"], [0.4444444444444444, \"#bd3786\"], [0.5555555555555556, \"#d8576b\"], [0.6666666666666666, \"#ed7953\"], [0.7777777777777778, \"#fb9f3a\"], [0.8888888888888888, \"#fdca26\"], [1.0, \"#f0f921\"]], \"type\": \"histogram2dcontour\"}], \"mesh3d\": [{\"colorbar\": {\"outlinewidth\": 0, \"ticks\": \"\"}, \"type\": \"mesh3d\"}], \"parcoords\": [{\"line\": {\"colorbar\": {\"outlinewidth\": 0, \"ticks\": \"\"}}, \"type\": \"parcoords\"}], \"pie\": [{\"automargin\": true, \"type\": \"pie\"}], \"scatter\": [{\"marker\": {\"colorbar\": {\"outlinewidth\": 0, \"ticks\": \"\"}}, \"type\": \"scatter\"}], \"scatter3d\": [{\"line\": {\"colorbar\": {\"outlinewidth\": 0, \"ticks\": \"\"}}, \"marker\": {\"colorbar\": {\"outlinewidth\": 0, \"ticks\": \"\"}}, \"type\": \"scatter3d\"}], \"scattercarpet\": [{\"marker\": {\"colorbar\": {\"outlinewidth\": 0, \"ticks\": \"\"}}, \"type\": \"scattercarpet\"}], \"scattergeo\": [{\"marker\": {\"colorbar\": {\"outlinewidth\": 0, \"ticks\": \"\"}}, \"type\": \"scattergeo\"}], \"scattergl\": [{\"marker\": {\"colorbar\": {\"outlinewidth\": 0, \"ticks\": \"\"}}, \"type\": \"scattergl\"}], \"scattermapbox\": [{\"marker\": {\"colorbar\": {\"outlinewidth\": 0, \"ticks\": \"\"}}, \"type\": \"scattermapbox\"}], \"scatterpolar\": [{\"marker\": {\"colorbar\": {\"outlinewidth\": 0, \"ticks\": \"\"}}, \"type\": \"scatterpolar\"}], \"scatterpolargl\": [{\"marker\": {\"colorbar\": {\"outlinewidth\": 0, \"ticks\": \"\"}}, \"type\": \"scatterpolargl\"}], \"scatterternary\": [{\"marker\": {\"colorbar\": {\"outlinewidth\": 0, \"ticks\": \"\"}}, \"type\": \"scatterternary\"}], \"surface\": [{\"colorbar\": {\"outlinewidth\": 0, \"ticks\": \"\"}, \"colorscale\": [[0.0, \"#0d0887\"], [0.1111111111111111, \"#46039f\"], [0.2222222222222222, \"#7201a8\"], [0.3333333333333333, \"#9c179e\"], [0.4444444444444444, \"#bd3786\"], [0.5555555555555556, \"#d8576b\"], [0.6666666666666666, \"#ed7953\"], [0.7777777777777778, \"#fb9f3a\"], [0.8888888888888888, \"#fdca26\"], [1.0, \"#f0f921\"]], \"type\": \"surface\"}], \"table\": [{\"cells\": {\"fill\": {\"color\": \"#EBF0F8\"}, \"line\": {\"color\": \"white\"}}, \"header\": {\"fill\": {\"color\": \"#C8D4E3\"}, \"line\": {\"color\": \"white\"}}, \"type\": \"table\"}]}, \"layout\": {\"annotationdefaults\": {\"arrowcolor\": \"#2a3f5f\", \"arrowhead\": 0, \"arrowwidth\": 1}, \"coloraxis\": {\"colorbar\": {\"outlinewidth\": 0, \"ticks\": \"\"}}, \"colorscale\": {\"diverging\": [[0, \"#8e0152\"], [0.1, \"#c51b7d\"], [0.2, \"#de77ae\"], [0.3, \"#f1b6da\"], [0.4, \"#fde0ef\"], [0.5, \"#f7f7f7\"], [0.6, \"#e6f5d0\"], [0.7, \"#b8e186\"], [0.8, \"#7fbc41\"], [0.9, \"#4d9221\"], [1, \"#276419\"]], \"sequential\": [[0.0, \"#0d0887\"], [0.1111111111111111, \"#46039f\"], [0.2222222222222222, \"#7201a8\"], [0.3333333333333333, \"#9c179e\"], [0.4444444444444444, \"#bd3786\"], [0.5555555555555556, \"#d8576b\"], [0.6666666666666666, \"#ed7953\"], [0.7777777777777778, \"#fb9f3a\"], [0.8888888888888888, \"#fdca26\"], [1.0, \"#f0f921\"]], \"sequentialminus\": [[0.0, \"#0d0887\"], [0.1111111111111111, \"#46039f\"], [0.2222222222222222, \"#7201a8\"], [0.3333333333333333, \"#9c179e\"], [0.4444444444444444, \"#bd3786\"], [0.5555555555555556, \"#d8576b\"], [0.6666666666666666, \"#ed7953\"], [0.7777777777777778, \"#fb9f3a\"], [0.8888888888888888, \"#fdca26\"], [1.0, \"#f0f921\"]]}, \"colorway\": [\"#636efa\", \"#EF553B\", \"#00cc96\", \"#ab63fa\", \"#FFA15A\", \"#19d3f3\", \"#FF6692\", \"#B6E880\", \"#FF97FF\", \"#FECB52\"], \"font\": {\"color\": \"#2a3f5f\"}, \"geo\": {\"bgcolor\": \"white\", \"lakecolor\": \"white\", \"landcolor\": \"#E5ECF6\", \"showlakes\": true, \"showland\": true, \"subunitcolor\": \"white\"}, \"hoverlabel\": {\"align\": \"left\"}, \"hovermode\": \"closest\", \"mapbox\": {\"style\": \"light\"}, \"paper_bgcolor\": \"white\", \"plot_bgcolor\": \"#E5ECF6\", \"polar\": {\"angularaxis\": {\"gridcolor\": \"white\", \"linecolor\": \"white\", \"ticks\": \"\"}, \"bgcolor\": \"#E5ECF6\", \"radialaxis\": {\"gridcolor\": \"white\", \"linecolor\": \"white\", \"ticks\": \"\"}}, \"scene\": {\"xaxis\": {\"backgroundcolor\": \"#E5ECF6\", \"gridcolor\": \"white\", \"gridwidth\": 2, \"linecolor\": \"white\", \"showbackground\": true, \"ticks\": \"\", \"zerolinecolor\": \"white\"}, \"yaxis\": {\"backgroundcolor\": \"#E5ECF6\", \"gridcolor\": \"white\", \"gridwidth\": 2, \"linecolor\": \"white\", \"showbackground\": true, \"ticks\": \"\", \"zerolinecolor\": \"white\"}, \"zaxis\": {\"backgroundcolor\": \"#E5ECF6\", \"gridcolor\": \"white\", \"gridwidth\": 2, \"linecolor\": \"white\", \"showbackground\": true, \"ticks\": \"\", \"zerolinecolor\": \"white\"}}, \"shapedefaults\": {\"line\": {\"color\": \"#2a3f5f\"}}, \"ternary\": {\"aaxis\": {\"gridcolor\": \"white\", \"linecolor\": \"white\", \"ticks\": \"\"}, \"baxis\": {\"gridcolor\": \"white\", \"linecolor\": \"white\", \"ticks\": \"\"}, \"bgcolor\": \"#E5ECF6\", \"caxis\": {\"gridcolor\": \"white\", \"linecolor\": \"white\", \"ticks\": \"\"}}, \"title\": {\"x\": 0.05}, \"xaxis\": {\"automargin\": true, \"gridcolor\": \"white\", \"linecolor\": \"white\", \"ticks\": \"\", \"title\": {\"standoff\": 15}, \"zerolinecolor\": \"white\", \"zerolinewidth\": 2}, \"yaxis\": {\"automargin\": true, \"gridcolor\": \"white\", \"linecolor\": \"white\", \"ticks\": \"\", \"title\": {\"standoff\": 15}, \"zerolinecolor\": \"white\", \"zerolinewidth\": 2}}}, \"title\": {\"text\": \"Distribution of overall Data Frames\"}, \"xaxis\": {\"anchor\": \"y\", \"categoryarray\": [\"train_df\", \"tags_df\", \"imdb_df\", \"links_df\", \"movies_df\", \"genome_tags\", \"genome_score\"], \"categoryorder\": \"array\", \"domain\": [0.0, 1.0], \"title\": {\"text\": \"Dataset\"}}, \"yaxis\": {\"anchor\": \"x\", \"domain\": [0.0, 1.0], \"title\": {\"text\": \"Size\"}}},                        {\"responsive\": true}                    ).then(function(){\n",
       "                            \n",
       "var gd = document.getElementById('455a383a-8752-46d5-b954-19a9e89e72f8');\n",
       "var x = new MutationObserver(function (mutations, observer) {{\n",
       "        var display = window.getComputedStyle(gd).display;\n",
       "        if (!display || display === 'none') {{\n",
       "            console.log([gd, 'removed!']);\n",
       "            Plotly.purge(gd);\n",
       "            observer.disconnect();\n",
       "        }}\n",
       "}});\n",
       "\n",
       "// Listen for the removal of the full notebook cells\n",
       "var notebookContainer = gd.closest('#notebook-container');\n",
       "if (notebookContainer) {{\n",
       "    x.observe(notebookContainer, {childList: true});\n",
       "}}\n",
       "\n",
       "// Listen for the clearing of the current output cell\n",
       "var outputEl = gd.closest('.output');\n",
       "if (outputEl) {{\n",
       "    x.observe(outputEl, {childList: true});\n",
       "}}\n",
       "\n",
       "                        })                };                });            </script>        </div>"
      ]
     },
     "metadata": {},
     "output_type": "display_data"
    }
   ],
   "source": [
    "len_list = [['train_df', len(train_df)], ['tags_df', len(tags_df)],\n",
    "            ['imdb_df', len(imdb_df)], ['links_df', len(links_df)],\n",
    "            ['movies_df', len(movies_df)],\n",
    "            ['genome_tags', len(genome_tags)],\n",
    "            ['genome_score', len(genome_score)]]\n",
    "len_df = pd.DataFrame(len_list,\n",
    "                      columns=['Dataset', 'Size'])\n",
    "fig = px.bar(len_df, x=len_df['Dataset'],\n",
    "             y=len_df['Size'],\n",
    "             color=len_df['Dataset'],\n",
    "             title='Distribution of overall Data Frames')\n",
    "fig.show()\n"
   ]
  },
  {
   "cell_type": "markdown",
   "metadata": {
    "papermill": {
     "duration": 0.066362,
     "end_time": "2020-12-07T14:02:47.934274",
     "exception": false,
     "start_time": "2020-12-07T14:02:47.867912",
     "status": "completed"
    },
    "tags": []
   },
   "source": [
    "### Visualizing the null values for each dataframe"
   ]
  },
  {
   "cell_type": "code",
   "execution_count": 21,
   "metadata": {
    "execution": {
     "iopub.execute_input": "2020-12-07T14:02:48.077297Z",
     "iopub.status.busy": "2020-12-07T14:02:48.075707Z",
     "iopub.status.idle": "2020-12-07T14:02:48.441002Z",
     "shell.execute_reply": "2020-12-07T14:02:48.440183Z"
    },
    "papermill": {
     "duration": 0.44044,
     "end_time": "2020-12-07T14:02:48.441132",
     "exception": false,
     "start_time": "2020-12-07T14:02:48.000692",
     "status": "completed"
    },
    "tags": []
   },
   "outputs": [],
   "source": [
    "# Obtaining the total null values in each Data Frames columns\n",
    "train_count = pd.DataFrame(train_df.isnull().sum())\n",
    "test_count = pd.DataFrame(test_df.isnull().sum())\n",
    "tags_count = pd.DataFrame(tags_df.isnull().sum())\n",
    "movies_count = pd.DataFrame(movies_df.isnull().sum())\n",
    "links_count = pd.DataFrame(links_df.isnull().sum())\n",
    "imdb_count = pd.DataFrame(imdb_df.isnull().sum())\n",
    "genomet_count = pd.DataFrame(genome_tags.isnull().sum())\n",
    "genomes_count = pd.DataFrame(genome_score.isnull().sum())"
   ]
  },
  {
   "cell_type": "code",
   "execution_count": 22,
   "metadata": {
    "execution": {
     "iopub.execute_input": "2020-12-07T14:02:48.580130Z",
     "iopub.status.busy": "2020-12-07T14:02:48.579266Z",
     "iopub.status.idle": "2020-12-07T14:02:48.583094Z",
     "shell.execute_reply": "2020-12-07T14:02:48.583652Z"
    },
    "papermill": {
     "duration": 0.077185,
     "end_time": "2020-12-07T14:02:48.583812",
     "exception": false,
     "start_time": "2020-12-07T14:02:48.506627",
     "status": "completed"
    },
    "tags": []
   },
   "outputs": [
    {
     "data": {
      "text/html": [
       "<div>\n",
       "<style scoped>\n",
       "    .dataframe tbody tr th:only-of-type {\n",
       "        vertical-align: middle;\n",
       "    }\n",
       "\n",
       "    .dataframe tbody tr th {\n",
       "        vertical-align: top;\n",
       "    }\n",
       "\n",
       "    .dataframe thead th {\n",
       "        text-align: right;\n",
       "    }\n",
       "</style>\n",
       "<table border=\"1\" class=\"dataframe\">\n",
       "  <thead>\n",
       "    <tr style=\"text-align: right;\">\n",
       "      <th></th>\n",
       "      <th>0</th>\n",
       "    </tr>\n",
       "  </thead>\n",
       "  <tbody>\n",
       "    <tr>\n",
       "      <th>userId</th>\n",
       "      <td>0</td>\n",
       "    </tr>\n",
       "    <tr>\n",
       "      <th>movieId</th>\n",
       "      <td>0</td>\n",
       "    </tr>\n",
       "    <tr>\n",
       "      <th>rating</th>\n",
       "      <td>0</td>\n",
       "    </tr>\n",
       "    <tr>\n",
       "      <th>timestamp</th>\n",
       "      <td>0</td>\n",
       "    </tr>\n",
       "  </tbody>\n",
       "</table>\n",
       "</div>"
      ],
      "text/plain": [
       "           0\n",
       "userId     0\n",
       "movieId    0\n",
       "rating     0\n",
       "timestamp  0"
      ]
     },
     "execution_count": 22,
     "metadata": {},
     "output_type": "execute_result"
    }
   ],
   "source": [
    "train_count"
   ]
  },
  {
   "cell_type": "code",
   "execution_count": 23,
   "metadata": {
    "execution": {
     "iopub.execute_input": "2020-12-07T14:02:48.724271Z",
     "iopub.status.busy": "2020-12-07T14:02:48.723474Z",
     "iopub.status.idle": "2020-12-07T14:02:48.728812Z",
     "shell.execute_reply": "2020-12-07T14:02:48.727986Z"
    },
    "papermill": {
     "duration": 0.079495,
     "end_time": "2020-12-07T14:02:48.728939",
     "exception": false,
     "start_time": "2020-12-07T14:02:48.649444",
     "status": "completed"
    },
    "tags": []
   },
   "outputs": [
    {
     "data": {
      "text/html": [
       "<div>\n",
       "<style scoped>\n",
       "    .dataframe tbody tr th:only-of-type {\n",
       "        vertical-align: middle;\n",
       "    }\n",
       "\n",
       "    .dataframe tbody tr th {\n",
       "        vertical-align: top;\n",
       "    }\n",
       "\n",
       "    .dataframe thead th {\n",
       "        text-align: right;\n",
       "    }\n",
       "</style>\n",
       "<table border=\"1\" class=\"dataframe\">\n",
       "  <thead>\n",
       "    <tr style=\"text-align: right;\">\n",
       "      <th></th>\n",
       "      <th>0</th>\n",
       "    </tr>\n",
       "  </thead>\n",
       "  <tbody>\n",
       "    <tr>\n",
       "      <th>userId</th>\n",
       "      <td>0</td>\n",
       "    </tr>\n",
       "    <tr>\n",
       "      <th>movieId</th>\n",
       "      <td>0</td>\n",
       "    </tr>\n",
       "  </tbody>\n",
       "</table>\n",
       "</div>"
      ],
      "text/plain": [
       "         0\n",
       "userId   0\n",
       "movieId  0"
      ]
     },
     "execution_count": 23,
     "metadata": {},
     "output_type": "execute_result"
    }
   ],
   "source": [
    "test_count"
   ]
  },
  {
   "cell_type": "code",
   "execution_count": 24,
   "metadata": {
    "execution": {
     "iopub.execute_input": "2020-12-07T14:02:48.878286Z",
     "iopub.status.busy": "2020-12-07T14:02:48.876608Z",
     "iopub.status.idle": "2020-12-07T14:02:49.156337Z",
     "shell.execute_reply": "2020-12-07T14:02:49.155609Z"
    },
    "papermill": {
     "duration": 0.361152,
     "end_time": "2020-12-07T14:02:49.156463",
     "exception": false,
     "start_time": "2020-12-07T14:02:48.795311",
     "status": "completed"
    },
    "tags": []
   },
   "outputs": [
    {
     "data": {
      "image/png": "[encoded data removed]",
      "text/plain": [
       "<Figure size 432x288 with 1 Axes>"
      ]
     },
     "metadata": {
      "needs_background": "light"
     },
     "output_type": "display_data"
    },
    {
     "data": {
      "text/html": [
       "<div>\n",
       "<style scoped>\n",
       "    .dataframe tbody tr th:only-of-type {\n",
       "        vertical-align: middle;\n",
       "    }\n",
       "\n",
       "    .dataframe tbody tr th {\n",
       "        vertical-align: top;\n",
       "    }\n",
       "\n",
       "    .dataframe thead th {\n",
       "        text-align: right;\n",
       "    }\n",
       "</style>\n",
       "<table border=\"1\" class=\"dataframe\">\n",
       "  <thead>\n",
       "    <tr style=\"text-align: right;\">\n",
       "      <th></th>\n",
       "      <th>userId</th>\n",
       "      <th>movieId</th>\n",
       "      <th>tag</th>\n",
       "      <th>timestamp</th>\n",
       "    </tr>\n",
       "  </thead>\n",
       "  <tbody>\n",
       "    <tr>\n",
       "      <th>860902</th>\n",
       "      <td>121710</td>\n",
       "      <td>33826</td>\n",
       "      <td>NaN</td>\n",
       "      <td>1221450908</td>\n",
       "    </tr>\n",
       "    <tr>\n",
       "      <th>976395</th>\n",
       "      <td>141727</td>\n",
       "      <td>123</td>\n",
       "      <td>NaN</td>\n",
       "      <td>1199450867</td>\n",
       "    </tr>\n",
       "    <tr>\n",
       "      <th>976396</th>\n",
       "      <td>141727</td>\n",
       "      <td>346</td>\n",
       "      <td>NaN</td>\n",
       "      <td>1199451946</td>\n",
       "    </tr>\n",
       "    <tr>\n",
       "      <th>976400</th>\n",
       "      <td>141727</td>\n",
       "      <td>1184</td>\n",
       "      <td>NaN</td>\n",
       "      <td>1199452261</td>\n",
       "    </tr>\n",
       "    <tr>\n",
       "      <th>976407</th>\n",
       "      <td>141727</td>\n",
       "      <td>1785</td>\n",
       "      <td>NaN</td>\n",
       "      <td>1199452006</td>\n",
       "    </tr>\n",
       "    <tr>\n",
       "      <th>976408</th>\n",
       "      <td>141727</td>\n",
       "      <td>2194</td>\n",
       "      <td>NaN</td>\n",
       "      <td>1199450677</td>\n",
       "    </tr>\n",
       "    <tr>\n",
       "      <th>976410</th>\n",
       "      <td>141727</td>\n",
       "      <td>2691</td>\n",
       "      <td>NaN</td>\n",
       "      <td>1199451002</td>\n",
       "    </tr>\n",
       "    <tr>\n",
       "      <th>976418</th>\n",
       "      <td>141727</td>\n",
       "      <td>4103</td>\n",
       "      <td>NaN</td>\n",
       "      <td>1199451920</td>\n",
       "    </tr>\n",
       "    <tr>\n",
       "      <th>976420</th>\n",
       "      <td>141727</td>\n",
       "      <td>4473</td>\n",
       "      <td>NaN</td>\n",
       "      <td>1199451040</td>\n",
       "    </tr>\n",
       "    <tr>\n",
       "      <th>976422</th>\n",
       "      <td>141727</td>\n",
       "      <td>4616</td>\n",
       "      <td>NaN</td>\n",
       "      <td>1199452441</td>\n",
       "    </tr>\n",
       "    <tr>\n",
       "      <th>976438</th>\n",
       "      <td>141727</td>\n",
       "      <td>7624</td>\n",
       "      <td>NaN</td>\n",
       "      <td>1199452266</td>\n",
       "    </tr>\n",
       "    <tr>\n",
       "      <th>976444</th>\n",
       "      <td>141727</td>\n",
       "      <td>8898</td>\n",
       "      <td>NaN</td>\n",
       "      <td>1199450757</td>\n",
       "    </tr>\n",
       "    <tr>\n",
       "      <th>976451</th>\n",
       "      <td>141727</td>\n",
       "      <td>32460</td>\n",
       "      <td>NaN</td>\n",
       "      <td>1199450901</td>\n",
       "    </tr>\n",
       "    <tr>\n",
       "      <th>976453</th>\n",
       "      <td>141727</td>\n",
       "      <td>33826</td>\n",
       "      <td>NaN</td>\n",
       "      <td>1199450703</td>\n",
       "    </tr>\n",
       "    <tr>\n",
       "      <th>976458</th>\n",
       "      <td>141727</td>\n",
       "      <td>36537</td>\n",
       "      <td>NaN</td>\n",
       "      <td>1199450736</td>\n",
       "    </tr>\n",
       "    <tr>\n",
       "      <th>976459</th>\n",
       "      <td>141727</td>\n",
       "      <td>55805</td>\n",
       "      <td>NaN</td>\n",
       "      <td>1199450941</td>\n",
       "    </tr>\n",
       "  </tbody>\n",
       "</table>\n",
       "</div>"
      ],
      "text/plain": [
       "        userId  movieId  tag   timestamp\n",
       "860902  121710    33826  NaN  1221450908\n",
       "976395  141727      123  NaN  1199450867\n",
       "976396  141727      346  NaN  1199451946\n",
       "976400  141727     1184  NaN  1199452261\n",
       "976407  141727     1785  NaN  1199452006\n",
       "976408  141727     2194  NaN  1199450677\n",
       "976410  141727     2691  NaN  1199451002\n",
       "976418  141727     4103  NaN  1199451920\n",
       "976420  141727     4473  NaN  1199451040\n",
       "976422  141727     4616  NaN  1199452441\n",
       "976438  141727     7624  NaN  1199452266\n",
       "976444  141727     8898  NaN  1199450757\n",
       "976451  141727    32460  NaN  1199450901\n",
       "976453  141727    33826  NaN  1199450703\n",
       "976458  141727    36537  NaN  1199450736\n",
       "976459  141727    55805  NaN  1199450941"
      ]
     },
     "execution_count": 24,
     "metadata": {},
     "output_type": "execute_result"
    }
   ],
   "source": [
    "plt.bar(tags_count.index,\n",
    "        tags_count.values.reshape(len(tags_count), ),\n",
    "        color='red')\n",
    "plt.xlabel('column_name')\n",
    "plt.ylabel('count')\n",
    "plt.title('Null value count in tags_df')\n",
    "plt.show()\n",
    "tags_df[tags_df.isnull().any(axis=1)]"
   ]
  },
  {
   "cell_type": "code",
   "execution_count": 25,
   "metadata": {
    "execution": {
     "iopub.execute_input": "2020-12-07T14:02:49.309259Z",
     "iopub.status.busy": "2020-12-07T14:02:49.308255Z",
     "iopub.status.idle": "2020-12-07T14:02:49.313386Z",
     "shell.execute_reply": "2020-12-07T14:02:49.312637Z"
    },
    "papermill": {
     "duration": 0.082529,
     "end_time": "2020-12-07T14:02:49.313515",
     "exception": false,
     "start_time": "2020-12-07T14:02:49.230986",
     "status": "completed"
    },
    "tags": []
   },
   "outputs": [
    {
     "data": {
      "text/html": [
       "<div>\n",
       "<style scoped>\n",
       "    .dataframe tbody tr th:only-of-type {\n",
       "        vertical-align: middle;\n",
       "    }\n",
       "\n",
       "    .dataframe tbody tr th {\n",
       "        vertical-align: top;\n",
       "    }\n",
       "\n",
       "    .dataframe thead th {\n",
       "        text-align: right;\n",
       "    }\n",
       "</style>\n",
       "<table border=\"1\" class=\"dataframe\">\n",
       "  <thead>\n",
       "    <tr style=\"text-align: right;\">\n",
       "      <th></th>\n",
       "      <th>0</th>\n",
       "    </tr>\n",
       "  </thead>\n",
       "  <tbody>\n",
       "    <tr>\n",
       "      <th>movieId</th>\n",
       "      <td>0</td>\n",
       "    </tr>\n",
       "    <tr>\n",
       "      <th>title</th>\n",
       "      <td>0</td>\n",
       "    </tr>\n",
       "    <tr>\n",
       "      <th>genres</th>\n",
       "      <td>0</td>\n",
       "    </tr>\n",
       "  </tbody>\n",
       "</table>\n",
       "</div>"
      ],
      "text/plain": [
       "         0\n",
       "movieId  0\n",
       "title    0\n",
       "genres   0"
      ]
     },
     "execution_count": 25,
     "metadata": {},
     "output_type": "execute_result"
    }
   ],
   "source": [
    "movies_count"
   ]
  },
  {
   "cell_type": "code",
   "execution_count": 26,
   "metadata": {
    "execution": {
     "iopub.execute_input": "2020-12-07T14:02:49.461935Z",
     "iopub.status.busy": "2020-12-07T14:02:49.460944Z",
     "iopub.status.idle": "2020-12-07T14:02:49.465984Z",
     "shell.execute_reply": "2020-12-07T14:02:49.465361Z"
    },
    "papermill": {
     "duration": 0.082607,
     "end_time": "2020-12-07T14:02:49.466117",
     "exception": false,
     "start_time": "2020-12-07T14:02:49.383510",
     "status": "completed"
    },
    "tags": []
   },
   "outputs": [
    {
     "data": {
      "text/html": [
       "<div>\n",
       "<style scoped>\n",
       "    .dataframe tbody tr th:only-of-type {\n",
       "        vertical-align: middle;\n",
       "    }\n",
       "\n",
       "    .dataframe tbody tr th {\n",
       "        vertical-align: top;\n",
       "    }\n",
       "\n",
       "    .dataframe thead th {\n",
       "        text-align: right;\n",
       "    }\n",
       "</style>\n",
       "<table border=\"1\" class=\"dataframe\">\n",
       "  <thead>\n",
       "    <tr style=\"text-align: right;\">\n",
       "      <th></th>\n",
       "      <th>0</th>\n",
       "    </tr>\n",
       "  </thead>\n",
       "  <tbody>\n",
       "    <tr>\n",
       "      <th>movieId</th>\n",
       "      <td>0</td>\n",
       "    </tr>\n",
       "    <tr>\n",
       "      <th>imdbId</th>\n",
       "      <td>0</td>\n",
       "    </tr>\n",
       "    <tr>\n",
       "      <th>tmdbId</th>\n",
       "      <td>107</td>\n",
       "    </tr>\n",
       "  </tbody>\n",
       "</table>\n",
       "</div>"
      ],
      "text/plain": [
       "           0\n",
       "movieId    0\n",
       "imdbId     0\n",
       "tmdbId   107"
      ]
     },
     "execution_count": 26,
     "metadata": {},
     "output_type": "execute_result"
    }
   ],
   "source": [
    "links_count"
   ]
  },
  {
   "cell_type": "code",
   "execution_count": 27,
   "metadata": {
    "execution": {
     "iopub.execute_input": "2020-12-07T14:02:49.618495Z",
     "iopub.status.busy": "2020-12-07T14:02:49.612701Z",
     "iopub.status.idle": "2020-12-07T14:02:49.774583Z",
     "shell.execute_reply": "2020-12-07T14:02:49.773777Z"
    },
    "papermill": {
     "duration": 0.238443,
     "end_time": "2020-12-07T14:02:49.774714",
     "exception": false,
     "start_time": "2020-12-07T14:02:49.536271",
     "status": "completed"
    },
    "tags": []
   },
   "outputs": [
    {
     "data": {
      "image/png": "[encoded data removed]",
      "text/plain": [
       "<Figure size 432x288 with 1 Axes>"
      ]
     },
     "metadata": {
      "needs_background": "light"
     },
     "output_type": "display_data"
    }
   ],
   "source": [
    "plt.bar(imdb_count.index,\n",
    "        imdb_count.values.reshape(len(imdb_count), ),\n",
    "        color='orange')\n",
    "plt.xlabel('column_name')\n",
    "plt.ylabel('count')\n",
    "plt.title('Null value count in imdb_df')\n",
    "plt.show()"
   ]
  },
  {
   "cell_type": "code",
   "execution_count": 28,
   "metadata": {
    "execution": {
     "iopub.execute_input": "2020-12-07T14:02:49.926638Z",
     "iopub.status.busy": "2020-12-07T14:02:49.925818Z",
     "iopub.status.idle": "2020-12-07T14:02:49.930985Z",
     "shell.execute_reply": "2020-12-07T14:02:49.930195Z"
    },
    "papermill": {
     "duration": 0.085252,
     "end_time": "2020-12-07T14:02:49.931123",
     "exception": false,
     "start_time": "2020-12-07T14:02:49.845871",
     "status": "completed"
    },
    "tags": []
   },
   "outputs": [
    {
     "data": {
      "text/html": [
       "<div>\n",
       "<style scoped>\n",
       "    .dataframe tbody tr th:only-of-type {\n",
       "        vertical-align: middle;\n",
       "    }\n",
       "\n",
       "    .dataframe tbody tr th {\n",
       "        vertical-align: top;\n",
       "    }\n",
       "\n",
       "    .dataframe thead th {\n",
       "        text-align: right;\n",
       "    }\n",
       "</style>\n",
       "<table border=\"1\" class=\"dataframe\">\n",
       "  <thead>\n",
       "    <tr style=\"text-align: right;\">\n",
       "      <th></th>\n",
       "      <th>0</th>\n",
       "    </tr>\n",
       "  </thead>\n",
       "  <tbody>\n",
       "    <tr>\n",
       "      <th>tagId</th>\n",
       "      <td>0</td>\n",
       "    </tr>\n",
       "    <tr>\n",
       "      <th>tag</th>\n",
       "      <td>0</td>\n",
       "    </tr>\n",
       "  </tbody>\n",
       "</table>\n",
       "</div>"
      ],
      "text/plain": [
       "       0\n",
       "tagId  0\n",
       "tag    0"
      ]
     },
     "execution_count": 28,
     "metadata": {},
     "output_type": "execute_result"
    }
   ],
   "source": [
    "genomet_count"
   ]
  },
  {
   "cell_type": "code",
   "execution_count": 29,
   "metadata": {
    "execution": {
     "iopub.execute_input": "2020-12-07T14:02:50.084264Z",
     "iopub.status.busy": "2020-12-07T14:02:50.083360Z",
     "iopub.status.idle": "2020-12-07T14:02:50.088394Z",
     "shell.execute_reply": "2020-12-07T14:02:50.087500Z"
    },
    "papermill": {
     "duration": 0.085009,
     "end_time": "2020-12-07T14:02:50.088586",
     "exception": false,
     "start_time": "2020-12-07T14:02:50.003577",
     "status": "completed"
    },
    "tags": []
   },
   "outputs": [
    {
     "data": {
      "text/html": [
       "<div>\n",
       "<style scoped>\n",
       "    .dataframe tbody tr th:only-of-type {\n",
       "        vertical-align: middle;\n",
       "    }\n",
       "\n",
       "    .dataframe tbody tr th {\n",
       "        vertical-align: top;\n",
       "    }\n",
       "\n",
       "    .dataframe thead th {\n",
       "        text-align: right;\n",
       "    }\n",
       "</style>\n",
       "<table border=\"1\" class=\"dataframe\">\n",
       "  <thead>\n",
       "    <tr style=\"text-align: right;\">\n",
       "      <th></th>\n",
       "      <th>0</th>\n",
       "    </tr>\n",
       "  </thead>\n",
       "  <tbody>\n",
       "    <tr>\n",
       "      <th>movieId</th>\n",
       "      <td>0</td>\n",
       "    </tr>\n",
       "    <tr>\n",
       "      <th>tagId</th>\n",
       "      <td>0</td>\n",
       "    </tr>\n",
       "    <tr>\n",
       "      <th>relevance</th>\n",
       "      <td>0</td>\n",
       "    </tr>\n",
       "  </tbody>\n",
       "</table>\n",
       "</div>"
      ],
      "text/plain": [
       "           0\n",
       "movieId    0\n",
       "tagId      0\n",
       "relevance  0"
      ]
     },
     "execution_count": 29,
     "metadata": {},
     "output_type": "execute_result"
    }
   ],
   "source": [
    "genomes_count"
   ]
  },
  {
   "cell_type": "code",
   "execution_count": 30,
   "metadata": {
    "execution": {
     "iopub.execute_input": "2020-12-07T14:02:50.298573Z",
     "iopub.status.busy": "2020-12-07T14:02:50.297707Z",
     "iopub.status.idle": "2020-12-07T14:02:50.300734Z",
     "shell.execute_reply": "2020-12-07T14:02:50.301263Z"
    },
    "papermill": {
     "duration": 0.139311,
     "end_time": "2020-12-07T14:02:50.301438",
     "exception": false,
     "start_time": "2020-12-07T14:02:50.162127",
     "status": "completed"
    },
    "tags": []
   },
   "outputs": [],
   "source": [
    "def user_ratings_count(df, n):\n",
    "    plt.figure(figsize=(14,7))\n",
    "    data = df['userId'].value_counts().head(n)\n",
    "    ax = sns.barplot(x = data.index, y = data, order= data.index, palette='CMRmap', edgecolor=\"black\")\n",
    "    for p in ax.patches:\n",
    "        ax.text(p.get_x() + p.get_width()/2., p.get_height(), '%d' % int(p.get_height()), fontsize=11, ha='center', va='bottom')\n",
    "    plt.title(f'Top {n} Users by Number of Ratings', fontsize=14)\n",
    "    plt.xlabel('User ID')\n",
    "    plt.ylabel('Number of Ratings')\n",
    "    print(\"Combined number of ratings:\\t\",df['userId'].value_counts().head(n).sum(),\n",
    "         \"\\nTotal number of movies:\\t\\t\", df['movieId'].nunique())\n",
    "    plt.show()"
   ]
  },
  {
   "cell_type": "code",
   "execution_count": 31,
   "metadata": {
    "execution": {
     "iopub.execute_input": "2020-12-07T14:02:50.452292Z",
     "iopub.status.busy": "2020-12-07T14:02:50.451466Z",
     "iopub.status.idle": "2020-12-07T14:02:51.816637Z",
     "shell.execute_reply": "2020-12-07T14:02:51.816003Z"
    },
    "papermill": {
     "duration": 1.443171,
     "end_time": "2020-12-07T14:02:51.816760",
     "exception": false,
     "start_time": "2020-12-07T14:02:50.373589",
     "status": "completed"
    },
    "tags": []
   },
   "outputs": [
    {
     "name": "stdout",
     "output_type": "stream",
     "text": [
      "Combined number of ratings:\t 38970 \n",
      "Total number of movies:\t\t 48213\n"
     ]
    },
    {
     "data": {
      "image/png": "[encoded data removed]",
      "text/plain": [
       "<Figure size 1008x504 with 1 Axes>"
      ]
     },
     "metadata": {
      "needs_background": "light"
     },
     "output_type": "display_data"
    }
   ],
   "source": [
    "user_ratings_count(train_df,10)"
   ]
  },
  {
   "cell_type": "markdown",
   "metadata": {
    "papermill": {
     "duration": 0.073459,
     "end_time": "2020-12-07T14:02:51.963801",
     "exception": false,
     "start_time": "2020-12-07T14:02:51.890342",
     "status": "completed"
    },
    "tags": []
   },
   "source": [
    "Removing user with userId 72315 because he is an outlier"
   ]
  },
  {
   "cell_type": "code",
   "execution_count": 32,
   "metadata": {
    "execution": {
     "iopub.execute_input": "2020-12-07T14:02:52.123389Z",
     "iopub.status.busy": "2020-12-07T14:02:52.122581Z",
     "iopub.status.idle": "2020-12-07T14:02:53.722903Z",
     "shell.execute_reply": "2020-12-07T14:02:53.722243Z"
    },
    "papermill": {
     "duration": 1.684125,
     "end_time": "2020-12-07T14:02:53.723038",
     "exception": false,
     "start_time": "2020-12-07T14:02:52.038913",
     "status": "completed"
    },
    "tags": []
   },
   "outputs": [
    {
     "name": "stdout",
     "output_type": "stream",
     "text": [
      "Combined number of ratings:\t 28296 \n",
      "Total number of movies:\t\t 45844\n"
     ]
    },
    {
     "data": {
      "image/png": "[encoded data removed]",
      "text/plain": [
       "<Figure size 1008x504 with 1 Axes>"
      ]
     },
     "metadata": {
      "needs_background": "light"
     },
     "output_type": "display_data"
    }
   ],
   "source": [
    "user_ratings_count(train_df[train_df['userId'] !=72315],10)"
   ]
  },
  {
   "cell_type": "markdown",
   "metadata": {
    "papermill": {
     "duration": 0.074806,
     "end_time": "2020-12-07T14:02:53.873308",
     "exception": false,
     "start_time": "2020-12-07T14:02:53.798502",
     "status": "completed"
    },
    "tags": []
   },
   "source": [
    "### Exploring Movie Genres"
   ]
  },
  {
   "cell_type": "code",
   "execution_count": 33,
   "metadata": {
    "execution": {
     "iopub.execute_input": "2020-12-07T14:02:54.048583Z",
     "iopub.status.busy": "2020-12-07T14:02:54.039466Z",
     "iopub.status.idle": "2020-12-07T14:02:54.360398Z",
     "shell.execute_reply": "2020-12-07T14:02:54.359740Z"
    },
    "papermill": {
     "duration": 0.411899,
     "end_time": "2020-12-07T14:02:54.360522",
     "exception": false,
     "start_time": "2020-12-07T14:02:53.948623",
     "status": "completed"
    },
    "tags": []
   },
   "outputs": [],
   "source": [
    "genres = pd.DataFrame(movies_df['genres'].\n",
    "                      str.split(\"|\").\n",
    "                      tolist(),\n",
    "                      index=movies_df['movieId']).stack()\n",
    "genres = genres.reset_index([0, 'movieId'])\n",
    "genres.columns = ['movieId', 'Genre']\n"
   ]
  },
  {
   "cell_type": "code",
   "execution_count": 34,
   "metadata": {
    "execution": {
     "iopub.execute_input": "2020-12-07T14:02:54.523586Z",
     "iopub.status.busy": "2020-12-07T14:02:54.522485Z",
     "iopub.status.idle": "2020-12-07T14:02:54.527270Z",
     "shell.execute_reply": "2020-12-07T14:02:54.526531Z"
    },
    "papermill": {
     "duration": 0.091123,
     "end_time": "2020-12-07T14:02:54.527391",
     "exception": false,
     "start_time": "2020-12-07T14:02:54.436268",
     "status": "completed"
    },
    "tags": []
   },
   "outputs": [
    {
     "data": {
      "text/html": [
       "<div>\n",
       "<style scoped>\n",
       "    .dataframe tbody tr th:only-of-type {\n",
       "        vertical-align: middle;\n",
       "    }\n",
       "\n",
       "    .dataframe tbody tr th {\n",
       "        vertical-align: top;\n",
       "    }\n",
       "\n",
       "    .dataframe thead th {\n",
       "        text-align: right;\n",
       "    }\n",
       "</style>\n",
       "<table border=\"1\" class=\"dataframe\">\n",
       "  <thead>\n",
       "    <tr style=\"text-align: right;\">\n",
       "      <th></th>\n",
       "      <th>movieId</th>\n",
       "      <th>Genre</th>\n",
       "    </tr>\n",
       "  </thead>\n",
       "  <tbody>\n",
       "    <tr>\n",
       "      <th>0</th>\n",
       "      <td>1</td>\n",
       "      <td>Adventure</td>\n",
       "    </tr>\n",
       "    <tr>\n",
       "      <th>1</th>\n",
       "      <td>1</td>\n",
       "      <td>Animation</td>\n",
       "    </tr>\n",
       "    <tr>\n",
       "      <th>2</th>\n",
       "      <td>1</td>\n",
       "      <td>Children</td>\n",
       "    </tr>\n",
       "    <tr>\n",
       "      <th>3</th>\n",
       "      <td>1</td>\n",
       "      <td>Comedy</td>\n",
       "    </tr>\n",
       "    <tr>\n",
       "      <th>4</th>\n",
       "      <td>1</td>\n",
       "      <td>Fantasy</td>\n",
       "    </tr>\n",
       "  </tbody>\n",
       "</table>\n",
       "</div>"
      ],
      "text/plain": [
       "   movieId      Genre\n",
       "0        1  Adventure\n",
       "1        1  Animation\n",
       "2        1   Children\n",
       "3        1     Comedy\n",
       "4        1    Fantasy"
      ]
     },
     "execution_count": 34,
     "metadata": {},
     "output_type": "execute_result"
    }
   ],
   "source": [
    "genres.head()"
   ]
  },
  {
   "cell_type": "code",
   "execution_count": 35,
   "metadata": {
    "execution": {
     "iopub.execute_input": "2020-12-07T14:02:54.700335Z",
     "iopub.status.busy": "2020-12-07T14:02:54.699526Z",
     "iopub.status.idle": "2020-12-07T14:02:55.056642Z",
     "shell.execute_reply": "2020-12-07T14:02:55.055841Z"
    },
    "papermill": {
     "duration": 0.452612,
     "end_time": "2020-12-07T14:02:55.056775",
     "exception": false,
     "start_time": "2020-12-07T14:02:54.604163",
     "status": "completed"
    },
    "tags": []
   },
   "outputs": [
    {
     "data": {
      "image/png": "[encoded data removed]",
      "text/plain": [
       "<Figure size 1008x504 with 1 Axes>"
      ]
     },
     "metadata": {
      "needs_background": "light"
     },
     "output_type": "display_data"
    }
   ],
   "source": [
    "fig, ax = plt.subplots(figsize=(14, 7))\n",
    "sns.countplot(x='Genre',\n",
    "              data=genres,\n",
    "              palette='CMRmap',\n",
    "              order=genres['Genre'].\n",
    "              value_counts().index)\n",
    "plt.xticks(rotation=90)\n",
    "plt.xlabel('Genre', size=20)\n",
    "plt.ylabel('Count', size=20)\n",
    "plt.title('Distribution of Movie Genres', size=25)\n",
    "plt.show()"
   ]
  },
  {
   "cell_type": "code",
   "execution_count": 36,
   "metadata": {
    "execution": {
     "iopub.execute_input": "2020-12-07T14:02:55.220430Z",
     "iopub.status.busy": "2020-12-07T14:02:55.219572Z",
     "iopub.status.idle": "2020-12-07T14:02:57.524816Z",
     "shell.execute_reply": "2020-12-07T14:02:57.524191Z"
    },
    "papermill": {
     "duration": 2.389469,
     "end_time": "2020-12-07T14:02:57.524955",
     "exception": false,
     "start_time": "2020-12-07T14:02:55.135486",
     "status": "completed"
    },
    "tags": []
   },
   "outputs": [
    {
     "data": {
      "text/html": [
       "<div>\n",
       "<style scoped>\n",
       "    .dataframe tbody tr th:only-of-type {\n",
       "        vertical-align: middle;\n",
       "    }\n",
       "\n",
       "    .dataframe tbody tr th {\n",
       "        vertical-align: top;\n",
       "    }\n",
       "\n",
       "    .dataframe thead th {\n",
       "        text-align: right;\n",
       "    }\n",
       "</style>\n",
       "<table border=\"1\" class=\"dataframe\">\n",
       "  <thead>\n",
       "    <tr style=\"text-align: right;\">\n",
       "      <th></th>\n",
       "      <th>userId</th>\n",
       "      <th>movieId</th>\n",
       "      <th>rating</th>\n",
       "      <th>timestamp</th>\n",
       "      <th>title</th>\n",
       "      <th>genres</th>\n",
       "    </tr>\n",
       "  </thead>\n",
       "  <tbody>\n",
       "    <tr>\n",
       "      <th>0</th>\n",
       "      <td>5163</td>\n",
       "      <td>57669</td>\n",
       "      <td>4.0</td>\n",
       "      <td>1518349992</td>\n",
       "      <td>In Bruges (2008)</td>\n",
       "      <td>Comedy|Crime|Drama|Thriller</td>\n",
       "    </tr>\n",
       "    <tr>\n",
       "      <th>1</th>\n",
       "      <td>87388</td>\n",
       "      <td>57669</td>\n",
       "      <td>3.5</td>\n",
       "      <td>1237455297</td>\n",
       "      <td>In Bruges (2008)</td>\n",
       "      <td>Comedy|Crime|Drama|Thriller</td>\n",
       "    </tr>\n",
       "    <tr>\n",
       "      <th>2</th>\n",
       "      <td>137050</td>\n",
       "      <td>57669</td>\n",
       "      <td>4.0</td>\n",
       "      <td>1425631854</td>\n",
       "      <td>In Bruges (2008)</td>\n",
       "      <td>Comedy|Crime|Drama|Thriller</td>\n",
       "    </tr>\n",
       "    <tr>\n",
       "      <th>3</th>\n",
       "      <td>120490</td>\n",
       "      <td>57669</td>\n",
       "      <td>4.5</td>\n",
       "      <td>1408228517</td>\n",
       "      <td>In Bruges (2008)</td>\n",
       "      <td>Comedy|Crime|Drama|Thriller</td>\n",
       "    </tr>\n",
       "    <tr>\n",
       "      <th>4</th>\n",
       "      <td>50616</td>\n",
       "      <td>57669</td>\n",
       "      <td>4.5</td>\n",
       "      <td>1446941640</td>\n",
       "      <td>In Bruges (2008)</td>\n",
       "      <td>Comedy|Crime|Drama|Thriller</td>\n",
       "    </tr>\n",
       "  </tbody>\n",
       "</table>\n",
       "</div>"
      ],
      "text/plain": [
       "   userId  movieId  rating   timestamp             title  \\\n",
       "0    5163    57669     4.0  1518349992  In Bruges (2008)   \n",
       "1   87388    57669     3.5  1237455297  In Bruges (2008)   \n",
       "2  137050    57669     4.0  1425631854  In Bruges (2008)   \n",
       "3  120490    57669     4.5  1408228517  In Bruges (2008)   \n",
       "4   50616    57669     4.5  1446941640  In Bruges (2008)   \n",
       "\n",
       "                        genres  \n",
       "0  Comedy|Crime|Drama|Thriller  \n",
       "1  Comedy|Crime|Drama|Thriller  \n",
       "2  Comedy|Crime|Drama|Thriller  \n",
       "3  Comedy|Crime|Drama|Thriller  \n",
       "4  Comedy|Crime|Drama|Thriller  "
      ]
     },
     "execution_count": 36,
     "metadata": {},
     "output_type": "execute_result"
    }
   ],
   "source": [
    "movies=pd.merge(train_df, movies_df,on='movieId',how='inner')\n",
    "movies.head()"
   ]
  },
  {
   "cell_type": "code",
   "execution_count": 37,
   "metadata": {
    "execution": {
     "iopub.execute_input": "2020-12-07T14:02:57.695185Z",
     "iopub.status.busy": "2020-12-07T14:02:57.692026Z",
     "iopub.status.idle": "2020-12-07T14:02:57.698595Z",
     "shell.execute_reply": "2020-12-07T14:02:57.697913Z"
    },
    "papermill": {
     "duration": 0.094517,
     "end_time": "2020-12-07T14:02:57.698731",
     "exception": false,
     "start_time": "2020-12-07T14:02:57.604214",
     "status": "completed"
    },
    "tags": []
   },
   "outputs": [],
   "source": [
    "def top_n_plot_by_ratings(df,column, n):\n",
    "    plt.figure(figsize=(14,7))\n",
    "    data = df[str(column)].value_counts().head(n)\n",
    "    ax = sns.barplot(x = data.index, y = data, order= data.index, palette='CMRmap', edgecolor=\"black\")\n",
    "    for p in ax.patches:\n",
    "        ax.text(p.get_x() + p.get_width()/2., p.get_height(), '%d' % int(p.get_height()), fontsize=11, ha='center', va='bottom')\n",
    "    plt.title(f'Top {n} {column.title()} by Number of Ratings', fontsize=14)\n",
    "    plt.xlabel(column.title())\n",
    "    plt.ylabel('Number of Ratings')\n",
    "    plt.xticks(rotation=90)\n",
    "    plt.show()"
   ]
  },
  {
   "cell_type": "code",
   "execution_count": 38,
   "metadata": {
    "execution": {
     "iopub.execute_input": "2020-12-07T14:03:00.228772Z",
     "iopub.status.busy": "2020-12-07T14:02:59.155214Z",
     "iopub.status.idle": "2020-12-07T14:03:00.581970Z",
     "shell.execute_reply": "2020-12-07T14:03:00.581230Z"
    },
    "papermill": {
     "duration": 2.804356,
     "end_time": "2020-12-07T14:03:00.582103",
     "exception": false,
     "start_time": "2020-12-07T14:02:57.777747",
     "status": "completed"
    },
    "tags": []
   },
   "outputs": [
    {
     "data": {
      "image/png": "[encoded data removed]",
      "text/plain": [
       "<Figure size 1008x504 with 1 Axes>"
      ]
     },
     "metadata": {
      "needs_background": "light"
     },
     "output_type": "display_data"
    }
   ],
   "source": [
    "top_n_plot_by_ratings(movies,'title',15)"
   ]
  },
  {
   "cell_type": "code",
   "execution_count": 39,
   "metadata": {
    "execution": {
     "iopub.execute_input": "2020-12-07T14:03:00.750117Z",
     "iopub.status.busy": "2020-12-07T14:03:00.749363Z",
     "iopub.status.idle": "2020-12-07T14:03:01.097782Z",
     "shell.execute_reply": "2020-12-07T14:03:01.097102Z"
    },
    "papermill": {
     "duration": 0.43481,
     "end_time": "2020-12-07T14:03:01.097912",
     "exception": false,
     "start_time": "2020-12-07T14:03:00.663102",
     "status": "completed"
    },
    "tags": []
   },
   "outputs": [
    {
     "data": {
      "image/png": "[encoded data removed]",
      "text/plain": [
       "<Figure size 1008x504 with 1 Axes>"
      ]
     },
     "metadata": {
      "needs_background": "light"
     },
     "output_type": "display_data"
    }
   ],
   "source": [
    "top_n_plot_by_ratings(movies,'rating',10)"
   ]
  },
  {
   "cell_type": "code",
   "execution_count": 40,
   "metadata": {
    "execution": {
     "iopub.execute_input": "2020-12-07T14:03:01.270109Z",
     "iopub.status.busy": "2020-12-07T14:03:01.269000Z",
     "iopub.status.idle": "2020-12-07T14:03:04.271631Z",
     "shell.execute_reply": "2020-12-07T14:03:04.270806Z"
    },
    "papermill": {
     "duration": 3.090923,
     "end_time": "2020-12-07T14:03:04.271774",
     "exception": false,
     "start_time": "2020-12-07T14:03:01.180851",
     "status": "completed"
    },
    "tags": []
   },
   "outputs": [
    {
     "data": {
      "text/html": [
       "<div>\n",
       "<style scoped>\n",
       "    .dataframe tbody tr th:only-of-type {\n",
       "        vertical-align: middle;\n",
       "    }\n",
       "\n",
       "    .dataframe tbody tr th {\n",
       "        vertical-align: top;\n",
       "    }\n",
       "\n",
       "    .dataframe thead th {\n",
       "        text-align: right;\n",
       "    }\n",
       "</style>\n",
       "<table border=\"1\" class=\"dataframe\">\n",
       "  <thead>\n",
       "    <tr style=\"text-align: right;\">\n",
       "      <th></th>\n",
       "      <th>userId</th>\n",
       "      <th>movieId</th>\n",
       "      <th>rating</th>\n",
       "      <th>timestamp</th>\n",
       "      <th>title</th>\n",
       "      <th>genres</th>\n",
       "      <th>title_cast</th>\n",
       "      <th>director</th>\n",
       "      <th>runtime</th>\n",
       "      <th>budget</th>\n",
       "      <th>plot_keywords</th>\n",
       "    </tr>\n",
       "  </thead>\n",
       "  <tbody>\n",
       "    <tr>\n",
       "      <th>0</th>\n",
       "      <td>5163</td>\n",
       "      <td>57669</td>\n",
       "      <td>4.0</td>\n",
       "      <td>1518349992</td>\n",
       "      <td>In Bruges (2008)</td>\n",
       "      <td>Comedy|Crime|Drama|Thriller</td>\n",
       "      <td>Elizabeth Berrington|Rudy Blomme|Olivier Bonjo...</td>\n",
       "      <td>Martin McDonagh</td>\n",
       "      <td>107.0</td>\n",
       "      <td>$15,000,000</td>\n",
       "      <td>dwarf|bruges|irish|hitman</td>\n",
       "    </tr>\n",
       "    <tr>\n",
       "      <th>1</th>\n",
       "      <td>87388</td>\n",
       "      <td>57669</td>\n",
       "      <td>3.5</td>\n",
       "      <td>1237455297</td>\n",
       "      <td>In Bruges (2008)</td>\n",
       "      <td>Comedy|Crime|Drama|Thriller</td>\n",
       "      <td>Elizabeth Berrington|Rudy Blomme|Olivier Bonjo...</td>\n",
       "      <td>Martin McDonagh</td>\n",
       "      <td>107.0</td>\n",
       "      <td>$15,000,000</td>\n",
       "      <td>dwarf|bruges|irish|hitman</td>\n",
       "    </tr>\n",
       "    <tr>\n",
       "      <th>2</th>\n",
       "      <td>137050</td>\n",
       "      <td>57669</td>\n",
       "      <td>4.0</td>\n",
       "      <td>1425631854</td>\n",
       "      <td>In Bruges (2008)</td>\n",
       "      <td>Comedy|Crime|Drama|Thriller</td>\n",
       "      <td>Elizabeth Berrington|Rudy Blomme|Olivier Bonjo...</td>\n",
       "      <td>Martin McDonagh</td>\n",
       "      <td>107.0</td>\n",
       "      <td>$15,000,000</td>\n",
       "      <td>dwarf|bruges|irish|hitman</td>\n",
       "    </tr>\n",
       "    <tr>\n",
       "      <th>3</th>\n",
       "      <td>120490</td>\n",
       "      <td>57669</td>\n",
       "      <td>4.5</td>\n",
       "      <td>1408228517</td>\n",
       "      <td>In Bruges (2008)</td>\n",
       "      <td>Comedy|Crime|Drama|Thriller</td>\n",
       "      <td>Elizabeth Berrington|Rudy Blomme|Olivier Bonjo...</td>\n",
       "      <td>Martin McDonagh</td>\n",
       "      <td>107.0</td>\n",
       "      <td>$15,000,000</td>\n",
       "      <td>dwarf|bruges|irish|hitman</td>\n",
       "    </tr>\n",
       "    <tr>\n",
       "      <th>4</th>\n",
       "      <td>50616</td>\n",
       "      <td>57669</td>\n",
       "      <td>4.5</td>\n",
       "      <td>1446941640</td>\n",
       "      <td>In Bruges (2008)</td>\n",
       "      <td>Comedy|Crime|Drama|Thriller</td>\n",
       "      <td>Elizabeth Berrington|Rudy Blomme|Olivier Bonjo...</td>\n",
       "      <td>Martin McDonagh</td>\n",
       "      <td>107.0</td>\n",
       "      <td>$15,000,000</td>\n",
       "      <td>dwarf|bruges|irish|hitman</td>\n",
       "    </tr>\n",
       "  </tbody>\n",
       "</table>\n",
       "</div>"
      ],
      "text/plain": [
       "   userId  movieId  rating   timestamp             title  \\\n",
       "0    5163    57669     4.0  1518349992  In Bruges (2008)   \n",
       "1   87388    57669     3.5  1237455297  In Bruges (2008)   \n",
       "2  137050    57669     4.0  1425631854  In Bruges (2008)   \n",
       "3  120490    57669     4.5  1408228517  In Bruges (2008)   \n",
       "4   50616    57669     4.5  1446941640  In Bruges (2008)   \n",
       "\n",
       "                        genres  \\\n",
       "0  Comedy|Crime|Drama|Thriller   \n",
       "1  Comedy|Crime|Drama|Thriller   \n",
       "2  Comedy|Crime|Drama|Thriller   \n",
       "3  Comedy|Crime|Drama|Thriller   \n",
       "4  Comedy|Crime|Drama|Thriller   \n",
       "\n",
       "                                          title_cast         director  \\\n",
       "0  Elizabeth Berrington|Rudy Blomme|Olivier Bonjo...  Martin McDonagh   \n",
       "1  Elizabeth Berrington|Rudy Blomme|Olivier Bonjo...  Martin McDonagh   \n",
       "2  Elizabeth Berrington|Rudy Blomme|Olivier Bonjo...  Martin McDonagh   \n",
       "3  Elizabeth Berrington|Rudy Blomme|Olivier Bonjo...  Martin McDonagh   \n",
       "4  Elizabeth Berrington|Rudy Blomme|Olivier Bonjo...  Martin McDonagh   \n",
       "\n",
       "   runtime       budget              plot_keywords  \n",
       "0    107.0  $15,000,000  dwarf|bruges|irish|hitman  \n",
       "1    107.0  $15,000,000  dwarf|bruges|irish|hitman  \n",
       "2    107.0  $15,000,000  dwarf|bruges|irish|hitman  \n",
       "3    107.0  $15,000,000  dwarf|bruges|irish|hitman  \n",
       "4    107.0  $15,000,000  dwarf|bruges|irish|hitman  "
      ]
     },
     "execution_count": 40,
     "metadata": {},
     "output_type": "execute_result"
    }
   ],
   "source": [
    "full_movies = pd.merge(movies,imdb_df,on='movieId',how='inner')\n",
    "full_movies.head()"
   ]
  },
  {
   "cell_type": "code",
   "execution_count": 41,
   "metadata": {
    "execution": {
     "iopub.execute_input": "2020-12-07T14:03:06.348429Z",
     "iopub.status.busy": "2020-12-07T14:03:05.477265Z",
     "iopub.status.idle": "2020-12-07T14:03:06.652599Z",
     "shell.execute_reply": "2020-12-07T14:03:06.651857Z"
    },
    "papermill": {
     "duration": 2.29732,
     "end_time": "2020-12-07T14:03:06.652727",
     "exception": false,
     "start_time": "2020-12-07T14:03:04.355407",
     "status": "completed"
    },
    "tags": []
   },
   "outputs": [
    {
     "data": {
      "image/png": "[encoded data removed]",
      "text/plain": [
       "<Figure size 1008x504 with 1 Axes>"
      ]
     },
     "metadata": {
      "needs_background": "light"
     },
     "output_type": "display_data"
    }
   ],
   "source": [
    "top_n_plot_by_ratings(full_movies,'director',15)"
   ]
  },
  {
   "cell_type": "code",
   "execution_count": 42,
   "metadata": {
    "execution": {
     "iopub.execute_input": "2020-12-07T14:03:06.836132Z",
     "iopub.status.busy": "2020-12-07T14:03:06.835325Z",
     "iopub.status.idle": "2020-12-07T14:03:07.187085Z",
     "shell.execute_reply": "2020-12-07T14:03:07.186421Z"
    },
    "papermill": {
     "duration": 0.449545,
     "end_time": "2020-12-07T14:03:07.187232",
     "exception": false,
     "start_time": "2020-12-07T14:03:06.737687",
     "status": "completed"
    },
    "tags": []
   },
   "outputs": [
    {
     "data": {
      "image/png": "[encoded data removed]",
      "text/plain": [
       "<Figure size 1008x504 with 1 Axes>"
      ]
     },
     "metadata": {
      "needs_background": "light"
     },
     "output_type": "display_data"
    }
   ],
   "source": [
    "movieRatingDistGroup = train_df['rating'].value_counts().sort_index().reset_index()\n",
    "fig, ax = plt.subplots(figsize=(14,7))\n",
    "sns.barplot(data=movieRatingDistGroup, x='index', y='rating', palette=\"CMRmap\", edgecolor=\"black\", ax=ax)\n",
    "ax.set_xlabel(\"Rating\")\n",
    "ax.set_ylabel('Number of Users')\n",
    "ax.set_yticklabels(['{:,}'.format(int(x)) for x in ax.get_yticks().tolist()])\n",
    "total = float(movieRatingDistGroup['rating'].sum())\n",
    "for p in ax.patches:\n",
    "    height = p.get_height()\n",
    "    ax.text(p.get_x()+p.get_width()/2., height+350, '{0:.2%}'.format(height/total), fontsize=11, ha=\"center\", va='bottom')\n",
    "plt.title('Number of Users Per Rating', fontsize=14)\n",
    "plt.show()"
   ]
  },
  {
   "cell_type": "code",
   "execution_count": 43,
   "metadata": {
    "execution": {
     "iopub.execute_input": "2020-12-07T14:03:07.368842Z",
     "iopub.status.busy": "2020-12-07T14:03:07.367988Z",
     "iopub.status.idle": "2020-12-07T14:03:07.371320Z",
     "shell.execute_reply": "2020-12-07T14:03:07.370563Z"
    },
    "papermill": {
     "duration": 0.097415,
     "end_time": "2020-12-07T14:03:07.371447",
     "exception": false,
     "start_time": "2020-12-07T14:03:07.274032",
     "status": "completed"
    },
    "tags": []
   },
   "outputs": [],
   "source": [
    "def count_directors(df, count = 10):\n",
    "    \"\"\"\n",
    "    Function to count the most common dircetors in a DataFrame:\n",
    "    Parameters\n",
    "    ----------\n",
    "        df (DataFrame): input dataframe containing imdb metadata\n",
    "        count (int): filter directors with fewer than count films\n",
    "        \n",
    "    Returns\n",
    "    -------\n",
    "        directors (DataFrame): output DataFrame\n",
    "    Examples\n",
    "    --------\n",
    "        >>> df = pd.DataFrame({'imdbid':[0,1,2,3,4,5], 'director': [A,B,A,C,B]})\n",
    "        >>> count_directors(df, count = 1)\n",
    "            |index|director|count|\n",
    "            |0|A|2|\n",
    "            |1|B|2|\n",
    "            |2|C|1|\n",
    "    \"\"\"\n",
    "    directors = pd.DataFrame(df['director'].value_counts()).reset_index()\n",
    "    directors.columns = ['director', 'count']\n",
    "    # Lets only take directors who have made 10 or more movies otherwise we will have to analyze 11000 directors\n",
    "    directors = directors[directors['count']>=count]\n",
    "    return directors.sort_values('count', ascending = False)"
   ]
  },
  {
   "cell_type": "code",
   "execution_count": 44,
   "metadata": {
    "execution": {
     "iopub.execute_input": "2020-12-07T14:03:07.560464Z",
     "iopub.status.busy": "2020-12-07T14:03:07.559722Z",
     "iopub.status.idle": "2020-12-07T14:03:07.573984Z",
     "shell.execute_reply": "2020-12-07T14:03:07.573381Z"
    },
    "papermill": {
     "duration": 0.115653,
     "end_time": "2020-12-07T14:03:07.574118",
     "exception": false,
     "start_time": "2020-12-07T14:03:07.458465",
     "status": "completed"
    },
    "tags": []
   },
   "outputs": [
    {
     "data": {
      "text/html": [
       "<div>\n",
       "<style scoped>\n",
       "    .dataframe tbody tr th:only-of-type {\n",
       "        vertical-align: middle;\n",
       "    }\n",
       "\n",
       "    .dataframe tbody tr th {\n",
       "        vertical-align: top;\n",
       "    }\n",
       "\n",
       "    .dataframe thead th {\n",
       "        text-align: right;\n",
       "    }\n",
       "</style>\n",
       "<table border=\"1\" class=\"dataframe\">\n",
       "  <thead>\n",
       "    <tr style=\"text-align: right;\">\n",
       "      <th></th>\n",
       "      <th>director</th>\n",
       "      <th>count</th>\n",
       "    </tr>\n",
       "  </thead>\n",
       "  <tbody>\n",
       "    <tr>\n",
       "      <th>0</th>\n",
       "      <td>See full summary</td>\n",
       "      <td>28</td>\n",
       "    </tr>\n",
       "    <tr>\n",
       "      <th>2</th>\n",
       "      <td>Woody Allen</td>\n",
       "      <td>26</td>\n",
       "    </tr>\n",
       "    <tr>\n",
       "      <th>1</th>\n",
       "      <td>Luc Besson</td>\n",
       "      <td>26</td>\n",
       "    </tr>\n",
       "    <tr>\n",
       "      <th>3</th>\n",
       "      <td>Stephen King</td>\n",
       "      <td>24</td>\n",
       "    </tr>\n",
       "    <tr>\n",
       "      <th>4</th>\n",
       "      <td>William Shakespeare</td>\n",
       "      <td>19</td>\n",
       "    </tr>\n",
       "  </tbody>\n",
       "</table>\n",
       "</div>"
      ],
      "text/plain": [
       "              director  count\n",
       "0     See full summary     28\n",
       "2          Woody Allen     26\n",
       "1           Luc Besson     26\n",
       "3         Stephen King     24\n",
       "4  William Shakespeare     19"
      ]
     },
     "execution_count": 44,
     "metadata": {},
     "output_type": "execute_result"
    }
   ],
   "source": [
    "directors = count_directors(imdb_df)\n",
    "directors.head()"
   ]
  },
  {
   "cell_type": "code",
   "execution_count": 45,
   "metadata": {
    "execution": {
     "iopub.execute_input": "2020-12-07T14:03:07.757454Z",
     "iopub.status.busy": "2020-12-07T14:03:07.756698Z",
     "iopub.status.idle": "2020-12-07T14:03:07.759258Z",
     "shell.execute_reply": "2020-12-07T14:03:07.759960Z"
    },
    "papermill": {
     "duration": 0.098235,
     "end_time": "2020-12-07T14:03:07.760118",
     "exception": false,
     "start_time": "2020-12-07T14:03:07.661883",
     "status": "completed"
    },
    "tags": []
   },
   "outputs": [],
   "source": [
    "def feature_count(df, column):\n",
    "    plt.figure(figsize=(14,7))\n",
    "    ax = sns.barplot(x = df[f'{column}'], y= df['count'], palette='brg')\n",
    "    plt.title(f'Number of Movies Per {column}', fontsize=14)\n",
    "    plt.xlabel(f'{column}')\n",
    "    plt.ylabel('Count')\n",
    "    plt.xticks(rotation=90)\n",
    "    plt.show()"
   ]
  },
  {
   "cell_type": "markdown",
   "metadata": {
    "papermill": {
     "duration": 0.087444,
     "end_time": "2020-12-07T14:03:07.935198",
     "exception": false,
     "start_time": "2020-12-07T14:03:07.847754",
     "status": "completed"
    },
    "tags": []
   },
   "source": [
    "Filtering out see full summary because that is not the name of a sensible human being"
   ]
  },
  {
   "cell_type": "code",
   "execution_count": 46,
   "metadata": {
    "execution": {
     "iopub.execute_input": "2020-12-07T14:03:08.118568Z",
     "iopub.status.busy": "2020-12-07T14:03:08.117725Z",
     "iopub.status.idle": "2020-12-07T14:03:08.384305Z",
     "shell.execute_reply": "2020-12-07T14:03:08.383650Z"
    },
    "papermill": {
     "duration": 0.360437,
     "end_time": "2020-12-07T14:03:08.384443",
     "exception": false,
     "start_time": "2020-12-07T14:03:08.024006",
     "status": "completed"
    },
    "tags": []
   },
   "outputs": [
    {
     "data": {
      "image/png": "[encoded data removed]",
      "text/plain": [
       "<Figure size 1008x504 with 1 Axes>"
      ]
     },
     "metadata": {
      "needs_background": "light"
     },
     "output_type": "display_data"
    }
   ],
   "source": [
    "feature_count(directors[directors['director'] !='See full summary'].head(15), 'director')"
   ]
  },
  {
   "cell_type": "markdown",
   "metadata": {
    "papermill": {
     "duration": 0.088071,
     "end_time": "2020-12-07T14:03:08.560850",
     "exception": false,
     "start_time": "2020-12-07T14:03:08.472779",
     "status": "completed"
    },
    "tags": []
   },
   "source": [
    "### Word Clouds"
   ]
  },
  {
   "cell_type": "code",
   "execution_count": 47,
   "metadata": {
    "execution": {
     "iopub.execute_input": "2020-12-07T14:03:08.751721Z",
     "iopub.status.busy": "2020-12-07T14:03:08.746569Z",
     "iopub.status.idle": "2020-12-07T14:03:27.817295Z",
     "shell.execute_reply": "2020-12-07T14:03:27.817899Z"
    },
    "papermill": {
     "duration": 19.168909,
     "end_time": "2020-12-07T14:03:27.818055",
     "exception": false,
     "start_time": "2020-12-07T14:03:08.649146",
     "status": "completed"
    },
    "tags": []
   },
   "outputs": [
    {
     "data": {
      "image/png": "[encoded data removed]",
      "text/plain": [
       "<Figure size 1008x504 with 1 Axes>"
      ]
     },
     "metadata": {
      "needs_background": "light"
     },
     "output_type": "display_data"
    }
   ],
   "source": [
    "comment_words = ''\n",
    "stopwords = set(STOPWORDS)\n",
    "\n",
    "# iterate through the csv file\n",
    "for val in tags_df['tag']:\n",
    "\n",
    "    # typecaste each val to string\n",
    "    val = str(val)\n",
    "\n",
    "    # split the value\n",
    "    tokens = val.split()\n",
    "\n",
    "    # Converts each token into lowercase\n",
    "    for i in range(len(tokens)):\n",
    "        tokens[i] = tokens[i].lower()\n",
    "\n",
    "    comment_words += \" \".join(tokens)+\" \"\n",
    "  \n",
    "wordcloud = WordCloud(width=800, height=800,\n",
    "                      background_color='blue',\n",
    "                      stopwords=stopwords,\n",
    "                      min_font_size=10).generate(comment_words)\n",
    "\n",
    "# plot the WordCloud image\n",
    "plt.figure(figsize=(14, 7), facecolor=None)\n",
    "plt.imshow(wordcloud)\n",
    "plt.axis(\"off\")\n",
    "plt.title('Distribution of words in the tags data frame by Tags')\n",
    "plt.tight_layout(pad=0)\n",
    "\n",
    "plt.show()\n"
   ]
  },
  {
   "cell_type": "code",
   "execution_count": 48,
   "metadata": {
    "execution": {
     "iopub.execute_input": "2020-12-07T14:03:28.387151Z",
     "iopub.status.busy": "2020-12-07T14:03:28.252912Z",
     "iopub.status.idle": "2020-12-07T14:03:28.412367Z",
     "shell.execute_reply": "2020-12-07T14:03:28.411726Z"
    },
    "papermill": {
     "duration": 0.499396,
     "end_time": "2020-12-07T14:03:28.412527",
     "exception": false,
     "start_time": "2020-12-07T14:03:27.913131",
     "status": "completed"
    },
    "tags": []
   },
   "outputs": [],
   "source": [
    "value_count = pd.DataFrame(tags_df['tag'].\n",
    "                           value_counts()).reset_index()\n",
    "value_count.rename(columns = {'index': 'genre', 'tag': 'count'},\n",
    "                   inplace = True)"
   ]
  },
  {
   "cell_type": "code",
   "execution_count": 49,
   "metadata": {
    "execution": {
     "iopub.execute_input": "2020-12-07T14:03:28.617493Z",
     "iopub.status.busy": "2020-12-07T14:03:28.616330Z",
     "iopub.status.idle": "2020-12-07T14:03:28.620559Z",
     "shell.execute_reply": "2020-12-07T14:03:28.621137Z"
    },
    "papermill": {
     "duration": 0.113493,
     "end_time": "2020-12-07T14:03:28.621308",
     "exception": false,
     "start_time": "2020-12-07T14:03:28.507815",
     "status": "completed"
    },
    "tags": []
   },
   "outputs": [
    {
     "data": {
      "text/html": [
       "<div>\n",
       "<style scoped>\n",
       "    .dataframe tbody tr th:only-of-type {\n",
       "        vertical-align: middle;\n",
       "    }\n",
       "\n",
       "    .dataframe tbody tr th {\n",
       "        vertical-align: top;\n",
       "    }\n",
       "\n",
       "    .dataframe thead th {\n",
       "        text-align: right;\n",
       "    }\n",
       "</style>\n",
       "<table border=\"1\" class=\"dataframe\">\n",
       "  <thead>\n",
       "    <tr style=\"text-align: right;\">\n",
       "      <th></th>\n",
       "      <th>genre</th>\n",
       "      <th>count</th>\n",
       "    </tr>\n",
       "  </thead>\n",
       "  <tbody>\n",
       "    <tr>\n",
       "      <th>0</th>\n",
       "      <td>sci-fi</td>\n",
       "      <td>8330</td>\n",
       "    </tr>\n",
       "    <tr>\n",
       "      <th>1</th>\n",
       "      <td>atmospheric</td>\n",
       "      <td>6516</td>\n",
       "    </tr>\n",
       "    <tr>\n",
       "      <th>2</th>\n",
       "      <td>action</td>\n",
       "      <td>5907</td>\n",
       "    </tr>\n",
       "    <tr>\n",
       "      <th>3</th>\n",
       "      <td>comedy</td>\n",
       "      <td>5702</td>\n",
       "    </tr>\n",
       "    <tr>\n",
       "      <th>4</th>\n",
       "      <td>surreal</td>\n",
       "      <td>5326</td>\n",
       "    </tr>\n",
       "  </tbody>\n",
       "</table>\n",
       "</div>"
      ],
      "text/plain": [
       "         genre  count\n",
       "0       sci-fi   8330\n",
       "1  atmospheric   6516\n",
       "2       action   5907\n",
       "3       comedy   5702\n",
       "4      surreal   5326"
      ]
     },
     "execution_count": 49,
     "metadata": {},
     "output_type": "execute_result"
    }
   ],
   "source": [
    "value_count.head()"
   ]
  },
  {
   "cell_type": "markdown",
   "metadata": {
    "papermill": {
     "duration": 0.097323,
     "end_time": "2020-12-07T14:03:28.816308",
     "exception": false,
     "start_time": "2020-12-07T14:03:28.718985",
     "status": "completed"
    },
    "tags": []
   },
   "source": [
    "### Publishing Years"
   ]
  },
  {
   "cell_type": "code",
   "execution_count": 50,
   "metadata": {
    "execution": {
     "iopub.execute_input": "2020-12-07T14:03:29.046216Z",
     "iopub.status.busy": "2020-12-07T14:03:29.020115Z",
     "iopub.status.idle": "2020-12-07T14:03:29.118260Z",
     "shell.execute_reply": "2020-12-07T14:03:29.117601Z"
    },
    "papermill": {
     "duration": 0.205265,
     "end_time": "2020-12-07T14:03:29.118403",
     "exception": false,
     "start_time": "2020-12-07T14:03:28.913138",
     "status": "completed"
    },
    "tags": []
   },
   "outputs": [],
   "source": [
    "dates = []\n",
    "for title in movies_df['title']:\n",
    "    if title[-1] == \" \":\n",
    "        year = title[-6: -2]\n",
    "        try:\n",
    "            dates.append(int(year))\n",
    "        except:\n",
    "            dates.append(9999)\n",
    "    else:\n",
    "        year = title[-5: -1]\n",
    "        try:\n",
    "            dates.append(int(year))\n",
    "        except:\n",
    "            dates.append(9999)\n",
    "\n",
    "movies_df['Publish Year'] = dates\n"
   ]
  },
  {
   "cell_type": "code",
   "execution_count": 51,
   "metadata": {
    "execution": {
     "iopub.execute_input": "2020-12-07T14:03:29.364348Z",
     "iopub.status.busy": "2020-12-07T14:03:29.338457Z",
     "iopub.status.idle": "2020-12-07T14:03:29.424904Z",
     "shell.execute_reply": "2020-12-07T14:03:29.424213Z"
    },
    "papermill": {
     "duration": 0.20495,
     "end_time": "2020-12-07T14:03:29.425035",
     "exception": false,
     "start_time": "2020-12-07T14:03:29.220085",
     "status": "completed"
    },
    "tags": []
   },
   "outputs": [],
   "source": [
    "dates = []\n",
    "for title in movies_df['title']:\n",
    "    if title[-1] == \" \":\n",
    "        year = title[-6: -2]\n",
    "        try:\n",
    "            dates.append(int(year))\n",
    "        except:\n",
    "            dates.append(9999)\n",
    "    else:\n",
    "        year = title[-5: -1]\n",
    "        try:\n",
    "            dates.append(int(year))\n",
    "        except:\n",
    "            dates.append(9999)\n",
    "\n",
    "movies_df['Publish Year'] = dates\n",
    "\n"
   ]
  },
  {
   "cell_type": "code",
   "execution_count": 52,
   "metadata": {
    "execution": {
     "iopub.execute_input": "2020-12-07T14:03:29.623692Z",
     "iopub.status.busy": "2020-12-07T14:03:29.622880Z",
     "iopub.status.idle": "2020-12-07T14:03:29.626824Z",
     "shell.execute_reply": "2020-12-07T14:03:29.626080Z"
    },
    "papermill": {
     "duration": 0.105545,
     "end_time": "2020-12-07T14:03:29.626947",
     "exception": false,
     "start_time": "2020-12-07T14:03:29.521402",
     "status": "completed"
    },
    "tags": []
   },
   "outputs": [
    {
     "data": {
      "text/plain": [
       "62423"
      ]
     },
     "execution_count": 52,
     "metadata": {},
     "output_type": "execute_result"
    }
   ],
   "source": [
    "len(movies_df)"
   ]
  },
  {
   "cell_type": "code",
   "execution_count": 53,
   "metadata": {
    "execution": {
     "iopub.execute_input": "2020-12-07T14:03:29.828020Z",
     "iopub.status.busy": "2020-12-07T14:03:29.827183Z",
     "iopub.status.idle": "2020-12-07T14:03:29.841186Z",
     "shell.execute_reply": "2020-12-07T14:03:29.840489Z"
    },
    "papermill": {
     "duration": 0.117613,
     "end_time": "2020-12-07T14:03:29.841332",
     "exception": false,
     "start_time": "2020-12-07T14:03:29.723719",
     "status": "completed"
    },
    "tags": []
   },
   "outputs": [
    {
     "data": {
      "text/html": [
       "<div>\n",
       "<style scoped>\n",
       "    .dataframe tbody tr th:only-of-type {\n",
       "        vertical-align: middle;\n",
       "    }\n",
       "\n",
       "    .dataframe tbody tr th {\n",
       "        vertical-align: top;\n",
       "    }\n",
       "\n",
       "    .dataframe thead th {\n",
       "        text-align: right;\n",
       "    }\n",
       "</style>\n",
       "<table border=\"1\" class=\"dataframe\">\n",
       "  <thead>\n",
       "    <tr style=\"text-align: right;\">\n",
       "      <th></th>\n",
       "      <th>movieId</th>\n",
       "      <th>title</th>\n",
       "      <th>genres</th>\n",
       "      <th>Publish Year</th>\n",
       "    </tr>\n",
       "  </thead>\n",
       "  <tbody>\n",
       "    <tr>\n",
       "      <th>15036</th>\n",
       "      <td>79607</td>\n",
       "      <td>Millions Game, The (Das Millionenspiel)</td>\n",
       "      <td>Action|Drama|Sci-Fi|Thriller</td>\n",
       "      <td>9999</td>\n",
       "    </tr>\n",
       "    <tr>\n",
       "      <th>18789</th>\n",
       "      <td>98063</td>\n",
       "      <td>Mona and the Time of Burning Love (Mona ja pal...</td>\n",
       "      <td>Drama</td>\n",
       "      <td>9999</td>\n",
       "    </tr>\n",
       "    <tr>\n",
       "      <th>25387</th>\n",
       "      <td>123619</td>\n",
       "      <td>Terrible Joe Moran</td>\n",
       "      <td>(no genres listed)</td>\n",
       "      <td>9999</td>\n",
       "    </tr>\n",
       "    <tr>\n",
       "      <th>26284</th>\n",
       "      <td>125571</td>\n",
       "      <td>The Court-Martial of Jackie Robinson</td>\n",
       "      <td>(no genres listed)</td>\n",
       "      <td>9999</td>\n",
       "    </tr>\n",
       "    <tr>\n",
       "      <th>26309</th>\n",
       "      <td>125632</td>\n",
       "      <td>In Our Garden</td>\n",
       "      <td>(no genres listed)</td>\n",
       "      <td>9999</td>\n",
       "    </tr>\n",
       "  </tbody>\n",
       "</table>\n",
       "</div>"
      ],
      "text/plain": [
       "       movieId                                              title  \\\n",
       "15036    79607            Millions Game, The (Das Millionenspiel)   \n",
       "18789    98063  Mona and the Time of Burning Love (Mona ja pal...   \n",
       "25387   123619                                 Terrible Joe Moran   \n",
       "26284   125571               The Court-Martial of Jackie Robinson   \n",
       "26309   125632                                      In Our Garden   \n",
       "\n",
       "                             genres  Publish Year  \n",
       "15036  Action|Drama|Sci-Fi|Thriller          9999  \n",
       "18789                         Drama          9999  \n",
       "25387            (no genres listed)          9999  \n",
       "26284            (no genres listed)          9999  \n",
       "26309            (no genres listed)          9999  "
      ]
     },
     "execution_count": 53,
     "metadata": {},
     "output_type": "execute_result"
    }
   ],
   "source": [
    "movies_df[movies_df['Publish Year'] == 9999].head()"
   ]
  },
  {
   "cell_type": "code",
   "execution_count": 54,
   "metadata": {
    "execution": {
     "iopub.execute_input": "2020-12-07T14:03:30.049867Z",
     "iopub.status.busy": "2020-12-07T14:03:30.048428Z",
     "iopub.status.idle": "2020-12-07T14:03:30.069680Z",
     "shell.execute_reply": "2020-12-07T14:03:30.068891Z"
    },
    "papermill": {
     "duration": 0.129342,
     "end_time": "2020-12-07T14:03:30.069814",
     "exception": false,
     "start_time": "2020-12-07T14:03:29.940472",
     "status": "completed"
    },
    "tags": []
   },
   "outputs": [
    {
     "data": {
      "text/html": [
       "<div>\n",
       "<style scoped>\n",
       "    .dataframe tbody tr th:only-of-type {\n",
       "        vertical-align: middle;\n",
       "    }\n",
       "\n",
       "    .dataframe tbody tr th {\n",
       "        vertical-align: top;\n",
       "    }\n",
       "\n",
       "    .dataframe thead th {\n",
       "        text-align: right;\n",
       "    }\n",
       "</style>\n",
       "<table border=\"1\" class=\"dataframe\">\n",
       "  <thead>\n",
       "    <tr style=\"text-align: right;\">\n",
       "      <th></th>\n",
       "      <th>movieId</th>\n",
       "      <th>title</th>\n",
       "      <th>genres</th>\n",
       "      <th>Publish Year</th>\n",
       "    </tr>\n",
       "  </thead>\n",
       "  <tbody>\n",
       "    <tr>\n",
       "      <th>0</th>\n",
       "      <td>1</td>\n",
       "      <td>Toy Story (1995)</td>\n",
       "      <td>Adventure|Animation|Children|Comedy|Fantasy</td>\n",
       "      <td>1995</td>\n",
       "    </tr>\n",
       "    <tr>\n",
       "      <th>1</th>\n",
       "      <td>2</td>\n",
       "      <td>Jumanji (1995)</td>\n",
       "      <td>Adventure|Children|Fantasy</td>\n",
       "      <td>1995</td>\n",
       "    </tr>\n",
       "    <tr>\n",
       "      <th>2</th>\n",
       "      <td>3</td>\n",
       "      <td>Grumpier Old Men (1995)</td>\n",
       "      <td>Comedy|Romance</td>\n",
       "      <td>1995</td>\n",
       "    </tr>\n",
       "    <tr>\n",
       "      <th>3</th>\n",
       "      <td>4</td>\n",
       "      <td>Waiting to Exhale (1995)</td>\n",
       "      <td>Comedy|Drama|Romance</td>\n",
       "      <td>1995</td>\n",
       "    </tr>\n",
       "    <tr>\n",
       "      <th>4</th>\n",
       "      <td>5</td>\n",
       "      <td>Father of the Bride Part II (1995)</td>\n",
       "      <td>Comedy</td>\n",
       "      <td>1995</td>\n",
       "    </tr>\n",
       "    <tr>\n",
       "      <th>...</th>\n",
       "      <td>...</td>\n",
       "      <td>...</td>\n",
       "      <td>...</td>\n",
       "      <td>...</td>\n",
       "    </tr>\n",
       "    <tr>\n",
       "      <th>62418</th>\n",
       "      <td>209157</td>\n",
       "      <td>We (2018)</td>\n",
       "      <td>Drama</td>\n",
       "      <td>2018</td>\n",
       "    </tr>\n",
       "    <tr>\n",
       "      <th>62419</th>\n",
       "      <td>209159</td>\n",
       "      <td>Window of the Soul (2001)</td>\n",
       "      <td>Documentary</td>\n",
       "      <td>2001</td>\n",
       "    </tr>\n",
       "    <tr>\n",
       "      <th>62420</th>\n",
       "      <td>209163</td>\n",
       "      <td>Bad Poems (2018)</td>\n",
       "      <td>Comedy|Drama</td>\n",
       "      <td>2018</td>\n",
       "    </tr>\n",
       "    <tr>\n",
       "      <th>62421</th>\n",
       "      <td>209169</td>\n",
       "      <td>A Girl Thing (2001)</td>\n",
       "      <td>(no genres listed)</td>\n",
       "      <td>2001</td>\n",
       "    </tr>\n",
       "    <tr>\n",
       "      <th>62422</th>\n",
       "      <td>209171</td>\n",
       "      <td>Women of Devil's Island (1962)</td>\n",
       "      <td>Action|Adventure|Drama</td>\n",
       "      <td>1962</td>\n",
       "    </tr>\n",
       "  </tbody>\n",
       "</table>\n",
       "<p>62003 rows × 4 columns</p>\n",
       "</div>"
      ],
      "text/plain": [
       "       movieId                               title  \\\n",
       "0            1                    Toy Story (1995)   \n",
       "1            2                      Jumanji (1995)   \n",
       "2            3             Grumpier Old Men (1995)   \n",
       "3            4            Waiting to Exhale (1995)   \n",
       "4            5  Father of the Bride Part II (1995)   \n",
       "...        ...                                 ...   \n",
       "62418   209157                           We (2018)   \n",
       "62419   209159           Window of the Soul (2001)   \n",
       "62420   209163                    Bad Poems (2018)   \n",
       "62421   209169                 A Girl Thing (2001)   \n",
       "62422   209171      Women of Devil's Island (1962)   \n",
       "\n",
       "                                            genres  Publish Year  \n",
       "0      Adventure|Animation|Children|Comedy|Fantasy          1995  \n",
       "1                       Adventure|Children|Fantasy          1995  \n",
       "2                                   Comedy|Romance          1995  \n",
       "3                             Comedy|Drama|Romance          1995  \n",
       "4                                           Comedy          1995  \n",
       "...                                            ...           ...  \n",
       "62418                                        Drama          2018  \n",
       "62419                                  Documentary          2001  \n",
       "62420                                 Comedy|Drama          2018  \n",
       "62421                           (no genres listed)          2001  \n",
       "62422                       Action|Adventure|Drama          1962  \n",
       "\n",
       "[62003 rows x 4 columns]"
      ]
     },
     "execution_count": 54,
     "metadata": {},
     "output_type": "execute_result"
    }
   ],
   "source": [
    "movies_df[(movies_df['Publish Year'] > 1888) &\n",
    "          (movies_df['Publish Year'] < 2021)]"
   ]
  },
  {
   "cell_type": "code",
   "execution_count": 55,
   "metadata": {
    "execution": {
     "iopub.execute_input": "2020-12-07T14:03:30.278001Z",
     "iopub.status.busy": "2020-12-07T14:03:30.276812Z",
     "iopub.status.idle": "2020-12-07T14:03:30.295211Z",
     "shell.execute_reply": "2020-12-07T14:03:30.294580Z"
    },
    "papermill": {
     "duration": 0.125289,
     "end_time": "2020-12-07T14:03:30.295335",
     "exception": false,
     "start_time": "2020-12-07T14:03:30.170046",
     "status": "completed"
    },
    "tags": []
   },
   "outputs": [
    {
     "data": {
      "text/html": [
       "<div>\n",
       "<style scoped>\n",
       "    .dataframe tbody tr th:only-of-type {\n",
       "        vertical-align: middle;\n",
       "    }\n",
       "\n",
       "    .dataframe tbody tr th {\n",
       "        vertical-align: top;\n",
       "    }\n",
       "\n",
       "    .dataframe thead th {\n",
       "        text-align: right;\n",
       "    }\n",
       "</style>\n",
       "<table border=\"1\" class=\"dataframe\">\n",
       "  <thead>\n",
       "    <tr style=\"text-align: right;\">\n",
       "      <th></th>\n",
       "      <th>year</th>\n",
       "      <th>count</th>\n",
       "    </tr>\n",
       "  </thead>\n",
       "  <tbody>\n",
       "    <tr>\n",
       "      <th>0</th>\n",
       "      <td>2015</td>\n",
       "      <td>2513</td>\n",
       "    </tr>\n",
       "    <tr>\n",
       "      <th>1</th>\n",
       "      <td>2016</td>\n",
       "      <td>2488</td>\n",
       "    </tr>\n",
       "    <tr>\n",
       "      <th>2</th>\n",
       "      <td>2014</td>\n",
       "      <td>2406</td>\n",
       "    </tr>\n",
       "    <tr>\n",
       "      <th>3</th>\n",
       "      <td>2017</td>\n",
       "      <td>2374</td>\n",
       "    </tr>\n",
       "    <tr>\n",
       "      <th>4</th>\n",
       "      <td>2013</td>\n",
       "      <td>2173</td>\n",
       "    </tr>\n",
       "    <tr>\n",
       "      <th>5</th>\n",
       "      <td>2018</td>\n",
       "      <td>2034</td>\n",
       "    </tr>\n",
       "    <tr>\n",
       "      <th>6</th>\n",
       "      <td>2012</td>\n",
       "      <td>1978</td>\n",
       "    </tr>\n",
       "    <tr>\n",
       "      <th>7</th>\n",
       "      <td>2011</td>\n",
       "      <td>1838</td>\n",
       "    </tr>\n",
       "    <tr>\n",
       "      <th>8</th>\n",
       "      <td>2009</td>\n",
       "      <td>1724</td>\n",
       "    </tr>\n",
       "    <tr>\n",
       "      <th>9</th>\n",
       "      <td>2010</td>\n",
       "      <td>1691</td>\n",
       "    </tr>\n",
       "    <tr>\n",
       "      <th>10</th>\n",
       "      <td>2008</td>\n",
       "      <td>1632</td>\n",
       "    </tr>\n",
       "    <tr>\n",
       "      <th>11</th>\n",
       "      <td>2007</td>\n",
       "      <td>1499</td>\n",
       "    </tr>\n",
       "    <tr>\n",
       "      <th>12</th>\n",
       "      <td>2006</td>\n",
       "      <td>1446</td>\n",
       "    </tr>\n",
       "    <tr>\n",
       "      <th>13</th>\n",
       "      <td>2005</td>\n",
       "      <td>1255</td>\n",
       "    </tr>\n",
       "    <tr>\n",
       "      <th>14</th>\n",
       "      <td>2004</td>\n",
       "      <td>1172</td>\n",
       "    </tr>\n",
       "    <tr>\n",
       "      <th>15</th>\n",
       "      <td>2003</td>\n",
       "      <td>1028</td>\n",
       "    </tr>\n",
       "    <tr>\n",
       "      <th>16</th>\n",
       "      <td>2002</td>\n",
       "      <td>1024</td>\n",
       "    </tr>\n",
       "    <tr>\n",
       "      <th>17</th>\n",
       "      <td>2019</td>\n",
       "      <td>994</td>\n",
       "    </tr>\n",
       "    <tr>\n",
       "      <th>18</th>\n",
       "      <td>2001</td>\n",
       "      <td>971</td>\n",
       "    </tr>\n",
       "    <tr>\n",
       "      <th>19</th>\n",
       "      <td>2000</td>\n",
       "      <td>929</td>\n",
       "    </tr>\n",
       "    <tr>\n",
       "      <th>20</th>\n",
       "      <td>1999</td>\n",
       "      <td>812</td>\n",
       "    </tr>\n",
       "    <tr>\n",
       "      <th>21</th>\n",
       "      <td>1998</td>\n",
       "      <td>803</td>\n",
       "    </tr>\n",
       "    <tr>\n",
       "      <th>22</th>\n",
       "      <td>1997</td>\n",
       "      <td>792</td>\n",
       "    </tr>\n",
       "    <tr>\n",
       "      <th>23</th>\n",
       "      <td>1995</td>\n",
       "      <td>705</td>\n",
       "    </tr>\n",
       "    <tr>\n",
       "      <th>24</th>\n",
       "      <td>1996</td>\n",
       "      <td>703</td>\n",
       "    </tr>\n",
       "    <tr>\n",
       "      <th>25</th>\n",
       "      <td>1994</td>\n",
       "      <td>645</td>\n",
       "    </tr>\n",
       "    <tr>\n",
       "      <th>26</th>\n",
       "      <td>1988</td>\n",
       "      <td>628</td>\n",
       "    </tr>\n",
       "    <tr>\n",
       "      <th>27</th>\n",
       "      <td>1989</td>\n",
       "      <td>609</td>\n",
       "    </tr>\n",
       "    <tr>\n",
       "      <th>28</th>\n",
       "      <td>1987</td>\n",
       "      <td>595</td>\n",
       "    </tr>\n",
       "    <tr>\n",
       "      <th>29</th>\n",
       "      <td>1993</td>\n",
       "      <td>571</td>\n",
       "    </tr>\n",
       "    <tr>\n",
       "      <th>30</th>\n",
       "      <td>1992</td>\n",
       "      <td>563</td>\n",
       "    </tr>\n",
       "    <tr>\n",
       "      <th>31</th>\n",
       "      <td>1972</td>\n",
       "      <td>556</td>\n",
       "    </tr>\n",
       "    <tr>\n",
       "      <th>32</th>\n",
       "      <td>1990</td>\n",
       "      <td>538</td>\n",
       "    </tr>\n",
       "    <tr>\n",
       "      <th>33</th>\n",
       "      <td>1971</td>\n",
       "      <td>534</td>\n",
       "    </tr>\n",
       "    <tr>\n",
       "      <th>34</th>\n",
       "      <td>1991</td>\n",
       "      <td>524</td>\n",
       "    </tr>\n",
       "    <tr>\n",
       "      <th>35</th>\n",
       "      <td>1973</td>\n",
       "      <td>515</td>\n",
       "    </tr>\n",
       "    <tr>\n",
       "      <th>36</th>\n",
       "      <td>1986</td>\n",
       "      <td>513</td>\n",
       "    </tr>\n",
       "    <tr>\n",
       "      <th>37</th>\n",
       "      <td>1985</td>\n",
       "      <td>513</td>\n",
       "    </tr>\n",
       "    <tr>\n",
       "      <th>38</th>\n",
       "      <td>1974</td>\n",
       "      <td>511</td>\n",
       "    </tr>\n",
       "    <tr>\n",
       "      <th>39</th>\n",
       "      <td>1970</td>\n",
       "      <td>491</td>\n",
       "    </tr>\n",
       "    <tr>\n",
       "      <th>40</th>\n",
       "      <td>1976</td>\n",
       "      <td>490</td>\n",
       "    </tr>\n",
       "    <tr>\n",
       "      <th>41</th>\n",
       "      <td>1979</td>\n",
       "      <td>487</td>\n",
       "    </tr>\n",
       "    <tr>\n",
       "      <th>42</th>\n",
       "      <td>1984</td>\n",
       "      <td>471</td>\n",
       "    </tr>\n",
       "    <tr>\n",
       "      <th>43</th>\n",
       "      <td>1980</td>\n",
       "      <td>470</td>\n",
       "    </tr>\n",
       "    <tr>\n",
       "      <th>44</th>\n",
       "      <td>1977</td>\n",
       "      <td>469</td>\n",
       "    </tr>\n",
       "    <tr>\n",
       "      <th>45</th>\n",
       "      <td>1981</td>\n",
       "      <td>462</td>\n",
       "    </tr>\n",
       "    <tr>\n",
       "      <th>46</th>\n",
       "      <td>1982</td>\n",
       "      <td>461</td>\n",
       "    </tr>\n",
       "    <tr>\n",
       "      <th>47</th>\n",
       "      <td>1983</td>\n",
       "      <td>459</td>\n",
       "    </tr>\n",
       "    <tr>\n",
       "      <th>48</th>\n",
       "      <td>1968</td>\n",
       "      <td>458</td>\n",
       "    </tr>\n",
       "    <tr>\n",
       "      <th>49</th>\n",
       "      <td>1978</td>\n",
       "      <td>457</td>\n",
       "    </tr>\n",
       "  </tbody>\n",
       "</table>\n",
       "</div>"
      ],
      "text/plain": [
       "    year  count\n",
       "0   2015   2513\n",
       "1   2016   2488\n",
       "2   2014   2406\n",
       "3   2017   2374\n",
       "4   2013   2173\n",
       "5   2018   2034\n",
       "6   2012   1978\n",
       "7   2011   1838\n",
       "8   2009   1724\n",
       "9   2010   1691\n",
       "10  2008   1632\n",
       "11  2007   1499\n",
       "12  2006   1446\n",
       "13  2005   1255\n",
       "14  2004   1172\n",
       "15  2003   1028\n",
       "16  2002   1024\n",
       "17  2019    994\n",
       "18  2001    971\n",
       "19  2000    929\n",
       "20  1999    812\n",
       "21  1998    803\n",
       "22  1997    792\n",
       "23  1995    705\n",
       "24  1996    703\n",
       "25  1994    645\n",
       "26  1988    628\n",
       "27  1989    609\n",
       "28  1987    595\n",
       "29  1993    571\n",
       "30  1992    563\n",
       "31  1972    556\n",
       "32  1990    538\n",
       "33  1971    534\n",
       "34  1991    524\n",
       "35  1973    515\n",
       "36  1986    513\n",
       "37  1985    513\n",
       "38  1974    511\n",
       "39  1970    491\n",
       "40  1976    490\n",
       "41  1979    487\n",
       "42  1984    471\n",
       "43  1980    470\n",
       "44  1977    469\n",
       "45  1981    462\n",
       "46  1982    461\n",
       "47  1983    459\n",
       "48  1968    458\n",
       "49  1978    457"
      ]
     },
     "execution_count": 55,
     "metadata": {},
     "output_type": "execute_result"
    }
   ],
   "source": [
    "dataset = pd.DataFrame(movies_df['Publish Year'].\n",
    "                       value_counts()).reset_index()\n",
    "dataset.rename(columns={'index': 'year', 'Publish Year': 'count'},\n",
    "               inplace=True)\n",
    "dataset.head(50)"
   ]
  },
  {
   "cell_type": "code",
   "execution_count": 56,
   "metadata": {
    "execution": {
     "iopub.execute_input": "2020-12-07T14:03:30.512926Z",
     "iopub.status.busy": "2020-12-07T14:03:30.511678Z",
     "iopub.status.idle": "2020-12-07T14:03:30.515627Z",
     "shell.execute_reply": "2020-12-07T14:03:30.516208Z"
    },
    "papermill": {
     "duration": 0.119601,
     "end_time": "2020-12-07T14:03:30.516358",
     "exception": false,
     "start_time": "2020-12-07T14:03:30.396757",
     "status": "completed"
    },
    "tags": []
   },
   "outputs": [
    {
     "data": {
      "text/html": [
       "<div>\n",
       "<style scoped>\n",
       "    .dataframe tbody tr th:only-of-type {\n",
       "        vertical-align: middle;\n",
       "    }\n",
       "\n",
       "    .dataframe tbody tr th {\n",
       "        vertical-align: top;\n",
       "    }\n",
       "\n",
       "    .dataframe thead th {\n",
       "        text-align: right;\n",
       "    }\n",
       "</style>\n",
       "<table border=\"1\" class=\"dataframe\">\n",
       "  <thead>\n",
       "    <tr style=\"text-align: right;\">\n",
       "      <th></th>\n",
       "      <th>year</th>\n",
       "      <th>count</th>\n",
       "    </tr>\n",
       "  </thead>\n",
       "  <tbody>\n",
       "    <tr>\n",
       "      <th>0</th>\n",
       "      <td>2015</td>\n",
       "      <td>2513</td>\n",
       "    </tr>\n",
       "    <tr>\n",
       "      <th>1</th>\n",
       "      <td>2016</td>\n",
       "      <td>2488</td>\n",
       "    </tr>\n",
       "    <tr>\n",
       "      <th>2</th>\n",
       "      <td>2014</td>\n",
       "      <td>2406</td>\n",
       "    </tr>\n",
       "    <tr>\n",
       "      <th>3</th>\n",
       "      <td>2017</td>\n",
       "      <td>2374</td>\n",
       "    </tr>\n",
       "    <tr>\n",
       "      <th>4</th>\n",
       "      <td>2013</td>\n",
       "      <td>2173</td>\n",
       "    </tr>\n",
       "  </tbody>\n",
       "</table>\n",
       "</div>"
      ],
      "text/plain": [
       "   year  count\n",
       "0  2015   2513\n",
       "1  2016   2488\n",
       "2  2014   2406\n",
       "3  2017   2374\n",
       "4  2013   2173"
      ]
     },
     "execution_count": 56,
     "metadata": {},
     "output_type": "execute_result"
    }
   ],
   "source": [
    "year_dataset = dataset[(dataset['year']>1888) & (dataset['year']<2021)].sort_values(by='count',ascending=False).head(50)\n",
    "year_dataset.head()"
   ]
  },
  {
   "cell_type": "code",
   "execution_count": 57,
   "metadata": {
    "execution": {
     "iopub.execute_input": "2020-12-07T14:03:30.766832Z",
     "iopub.status.busy": "2020-12-07T14:03:30.766034Z",
     "iopub.status.idle": "2020-12-07T14:03:31.333213Z",
     "shell.execute_reply": "2020-12-07T14:03:31.332517Z"
    },
    "papermill": {
     "duration": 0.7152,
     "end_time": "2020-12-07T14:03:31.333339",
     "exception": false,
     "start_time": "2020-12-07T14:03:30.618139",
     "status": "completed"
    },
    "tags": []
   },
   "outputs": [
    {
     "data": {
      "image/png": "[encoded data removed]",
      "text/plain": [
       "<Figure size 1008x504 with 1 Axes>"
      ]
     },
     "metadata": {
      "needs_background": "light"
     },
     "output_type": "display_data"
    }
   ],
   "source": [
    "plt.figure(figsize=(14,7))\n",
    "ax = sns.barplot(x = year_dataset['year'], y= year_dataset['count'], order=year_dataset['year'], palette='CMRmap')\n",
    "#for p in ax.patches:\n",
    "#        ax.text(p.get_x() + p.get_width()/2., p.get_height(), '%d' % int(p.get_height()), fontsize=11, ha='center', va='bottom')\n",
    "plt.title(f'Number of Movies Released Per year', fontsize=14)\n",
    "plt.xlabel('year')\n",
    "plt.ylabel('Count')\n",
    "plt.xticks(rotation=90)\n",
    "plt.show()"
   ]
  },
  {
   "cell_type": "code",
   "execution_count": 58,
   "metadata": {
    "execution": {
     "iopub.execute_input": "2020-12-07T14:03:31.545158Z",
     "iopub.status.busy": "2020-12-07T14:03:31.544377Z",
     "iopub.status.idle": "2020-12-07T14:03:31.732823Z",
     "shell.execute_reply": "2020-12-07T14:03:31.732126Z"
    },
    "papermill": {
     "duration": 0.296449,
     "end_time": "2020-12-07T14:03:31.732958",
     "exception": false,
     "start_time": "2020-12-07T14:03:31.436509",
     "status": "completed"
    },
    "tags": []
   },
   "outputs": [
    {
     "ename": "TypeError",
     "evalue": "bar() missing 1 required positional argument: 'height'",
     "output_type": "error",
     "traceback": [
      "\u001b[0;31m---------------------------------------------------------------------------\u001b[0m",
      "\u001b[0;31mTypeError\u001b[0m                                 Traceback (most recent call last)",
      "\u001b[0;32m<ipython-input-58-c117341b8a7d>\u001b[0m in \u001b[0;36m<module>\u001b[0;34m\u001b[0m\n\u001b[1;32m      3\u001b[0m              \u001b[0my\u001b[0m\u001b[0;34m=\u001b[0m\u001b[0mdataset\u001b[0m\u001b[0;34m[\u001b[0m\u001b[0;34m'count'\u001b[0m\u001b[0;34m]\u001b[0m\u001b[0;34m,\u001b[0m\u001b[0;34m\u001b[0m\u001b[0;34m\u001b[0m\u001b[0m\n\u001b[1;32m      4\u001b[0m              \u001b[0mcolor\u001b[0m\u001b[0;34m=\u001b[0m\u001b[0mdataset\u001b[0m\u001b[0;34m[\u001b[0m\u001b[0;34m'year'\u001b[0m\u001b[0;34m]\u001b[0m\u001b[0;34m,\u001b[0m\u001b[0;34m\u001b[0m\u001b[0;34m\u001b[0m\u001b[0m\n\u001b[0;32m----> 5\u001b[0;31m              title='Movies released per Publish Year')\n\u001b[0m\u001b[1;32m      6\u001b[0m \u001b[0mfig\u001b[0m\u001b[0;34m.\u001b[0m\u001b[0mshow\u001b[0m\u001b[0;34m(\u001b[0m\u001b[0;34m)\u001b[0m\u001b[0;34m\u001b[0m\u001b[0;34m\u001b[0m\u001b[0m\n",
      "\u001b[0;31mTypeError\u001b[0m: bar() missing 1 required positional argument: 'height'"
     ]
    }
   ],
   "source": [
    "# Plotting the Publish years\n",
    "fig = plt.bar(x=dataset['year'],\n",
    "             y=dataset['count'],\n",
    "             color=dataset['year'],\n",
    "             title='Movies released per Publish Year')\n",
    "fig.show()"
   ]
  }
 ],
 "metadata": {
  "kernelspec": {
   "display_name": "Python 3",
   "language": "python",
   "name": "python3"
  },
  "language_info": {
   "codemirror_mode": {
    "name": "ipython",
    "version": 3
   },
   "file_extension": ".py",
   "mimetype": "text/x-python",
   "name": "python",
   "nbconvert_exporter": "python",
   "pygments_lexer": "ipython3",
   "version": "3.7.6"
  },
  "papermill": {
   "duration": 79.68578,
   "end_time": "2020-12-07T14:03:32.358951",
   "environment_variables": {},
   "exception": null,
   "input_path": "__notebook__.ipynb",
   "output_path": "__notebook__.ipynb",
   "parameters": {},
   "start_time": "2020-12-07T14:02:12.673171",
   "version": "2.1.0"
  }
 },
 "nbformat": 4,
 "nbformat_minor": 4
}