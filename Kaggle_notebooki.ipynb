{
 "cells": [
  {
   "source": [
    "Team 4 Unsupervised learning team members: \n",
    "Charles Maponya, \n",
    "Chuene Mokgokong,\n",
    "Kgomotso Moepe,\n",
    "Lesedi, \n",
    "Thabisile Obi \n",
    "\n",
    "[Trello board ](https://trello.com/b/dVQJqi5C/team4unsupervised)\n",
    "\n",
    "## Problem Statement \n",
    "problem statement to be added here \n",
    "\n",
    "![image.png](https://manofmany.com/wp-content/uploads/2020/04/Veboli-new-2.jpg)"
   ],
   "cell_type": "markdown",
   "metadata": {}
  },
  {
   "source": [
    "## Start Comet experiment"
   ],
   "cell_type": "markdown",
   "metadata": {}
  },
  {
   "cell_type": "markdown",
   "metadata": {
    "papermill": {
     "duration": 0.043027,
     "end_time": "2020-12-08T11:04:47.360247",
     "exception": false,
     "start_time": "2020-12-08T11:04:47.317220",
     "status": "completed"
    },
    "tags": []
   },
   "source": [
    "# Table of contents\n",
    "\n",
    "### [1. Introduction](#introduction)\n",
    "\n",
    "\n",
    "### [2. Prepocessing](#prep)\n",
    "\n",
    "\n",
    "### [3. Exploratory Data Analysis](#eda)\n",
    "\n",
    "\n",
    "\n",
    "### [4. Modelling](#mod)\n",
    "\n",
    "\n",
    "\n",
    "### [5. Conclusion](#conc)\n"
   ]
  },
  {
   "cell_type": "markdown",
   "metadata": {
    "papermill": {
     "duration": 0.046421,
     "end_time": "2020-12-08T11:04:47.449955",
     "exception": false,
     "start_time": "2020-12-08T11:04:47.403534",
     "status": "completed"
    },
    "tags": []
   },
   "source": [
    "## Introduction"
   ]
  },
  {
   "source": [
    "Recommender systems are systems that are designed to recommend things to the user based on many different factors. These systems predict the most likely product that the user is most likely to purchase and are of interest. Companies like Netflix and Amazon use recommender systems to help their users to identify the correct product or movies for them.\n",
    "\n",
    "Recommender systems are an important class of machine learning algorithms that offer relevant suggestions to users. The suggested items are as relevant to the user as possible so that the user can engage with those items: YouTube videos, news articles, online products, movie and series recommendation.\n",
    "\n",
    "Items are ranked according to their relevancy, and the most relevant ones are shown to the user. The relevance is determined by the recommender system, mainly based on historical data. For example, If you've recently watched YouTube videos about elephants, then YouTube is going to start showing you many elephant videos with similar titles and themes. \n",
    "Recommender systems are generally divided into two main categories: collaborative filtering and content-based systems.\n",
    "\n",
    "![image.png](https://miro.medium.com/max/690/1*G4h4fOX6bCJhdmbsXDL0PA.png)\n",
    " \n",
    "Both users and service providers have benefited from these kinds of systems. Intelligent algorithms can help viewers find great titles from tens of thousands of options. This notebook will construct a recommendation algorithm based on content and collaborative filtering, capable of accurately predicting how a user will rate a movie they have not yet viewed based on their historic preferences.\n",
    "\n",
    "Providing an accurate and robust solution will have immense economic potential, with users of the system being exposed to content they would like to view or purchase - generating revenue and platform affinity."
   ],
   "cell_type": "markdown",
   "metadata": {}
  },
  {
   "source": [
    "## Import libraries and datasets "
   ],
   "cell_type": "markdown",
   "metadata": {}
  },
  {
   "cell_type": "code",
   "execution_count": 1,
   "metadata": {
    "execution": {
     "iopub.execute_input": "2020-12-08T11:04:44.284424Z",
     "iopub.status.busy": "2020-12-08T11:04:44.283460Z",
     "iopub.status.idle": "2020-12-08T11:04:47.273048Z",
     "shell.execute_reply": "2020-12-08T11:04:47.272348Z"
    },
    "papermill": {
     "duration": 3.051155,
     "end_time": "2020-12-08T11:04:47.273188",
     "exception": false,
     "start_time": "2020-12-08T11:04:44.222033",
     "status": "completed"
    },
    "tags": []
   },
   "outputs": [
    {
     "name": "stdout",
     "output_type": "stream",
     "text": [
      "/kaggle/input/edsa-recommender-system-predict/sample_submission.csv\n",
      "/kaggle/input/edsa-recommender-system-predict/movies.csv\n",
      "/kaggle/input/edsa-recommender-system-predict/imdb_data.csv\n",
      "/kaggle/input/edsa-recommender-system-predict/genome_tags.csv\n",
      "/kaggle/input/edsa-recommender-system-predict/genome_scores.csv\n",
      "/kaggle/input/edsa-recommender-system-predict/train.csv\n",
      "/kaggle/input/edsa-recommender-system-predict/test.csv\n",
      "/kaggle/input/edsa-recommender-system-predict/tags.csv\n",
      "/kaggle/input/edsa-recommender-system-predict/links.csv\n"
     ]
    }
   ],
   "source": [
    "import numpy as np\n",
    "import pandas as pd\n",
    "import matplotlib.pyplot as plt\n",
    "import seaborn as sns\n",
    "import scipy as sp\n",
    "from wordcloud import WordCloud, STOPWORDS\n",
    "import os\n",
    "for dirname, _, filenames in os.walk('/kaggle/input'):\n",
    "    for filename in filenames:\n",
    "        print(os.path.join(dirname, filename))\n",
    "        \n",
    "import surprise\n",
    "from surprise import Reader\n",
    "from surprise import Dataset\n",
    "from surprise.model_selection import train_test_split\n",
    "import time\n",
    "from surprise import SVD\n",
    "from surprise import accuracy\n",
    "import re\n",
    "import plotly.express as px\n",
    "import scipy as sp\n",
    "from wordcloud import WordCloud, STOPWORDS\n",
    "from surprise import Reader\n",
    "from surprise import Dataset\n",
    "from surprise.model_selection import cross_validate\n",
    "from surprise import NormalPredictor\n",
    "from surprise import KNNBasic\n",
    "from surprise import KNNWithMeans\n",
    "from surprise import KNNWithZScore\n",
    "from surprise import KNNBaseline\n",
    "from surprise import BaselineOnly\n",
    "from surprise import SVDpp\n",
    "from surprise import NMF\n",
    "from surprise import SlopeOne\n",
    "from surprise import CoClustering\n",
    "from surprise.accuracy import rmse\n",
    "from sklearn.model_selection import GridSearchCV\n",
    "from sklearn.feature_extraction.text import CountVectorizer\n",
    "from sklearn.metrics.pairwise import cosine_similarity\n",
    "from sklearn.linear_model import LogisticRegression\n",
    "from sklearn.pipeline  import Pipeline\n",
    "from sklearn.preprocessing import StandardScaler, OneHotEncoder, PolynomialFeatures, Normalizer\n",
    "from sklearn.linear_model import LinearRegression, Lasso, Ridge\n",
    "from catboost import CatBoostRegressor\n",
    "from sklearn.metrics import mean_squared_error"
   ]
  },
  {
   "cell_type": "code",
   "execution_count": 2,
   "metadata": {
    "execution": {
     "iopub.execute_input": "2020-12-08T11:04:47.654675Z",
     "iopub.status.busy": "2020-12-08T11:04:47.653887Z",
     "iopub.status.idle": "2020-12-08T11:05:10.204791Z",
     "shell.execute_reply": "2020-12-08T11:05:10.203972Z"
    },
    "papermill": {
     "duration": 22.607814,
     "end_time": "2020-12-08T11:05:10.204940",
     "exception": false,
     "start_time": "2020-12-08T11:04:47.597126",
     "status": "completed"
    },
    "tags": []
   },
   "outputs": [],
   "source": [
    "#import datasets\n",
    "data_folder = '/kaggle/input/edsa-recommender-system-predict/'\n",
    "#data_folder = 'C:/Users/ADMIN/Desktop/unsupervised_project/'\n",
    "train_df = pd.read_csv(data_folder + 'train.csv')\n",
    "test_df = pd.read_csv(data_folder + 'test.csv')\n",
    "tags_df = pd.read_csv(data_folder + 'tags.csv')\n",
    "movies_df = pd.read_csv(data_folder + 'movies.csv')\n",
    "links_df = pd.read_csv(data_folder + 'links.csv')\n",
    "imdb_df = pd.read_csv(data_folder + 'imdb_data.csv')\n",
    "genome_tags = pd.read_csv(data_folder + 'genome_tags.csv')\n",
    "genome_score = pd.read_csv(data_folder + 'genome_scores.csv')"
   ]
  },
  {
   "cell_type": "markdown",
   "metadata": {
    "papermill": {
     "duration": 0.044401,
     "end_time": "2020-12-08T11:05:10.294265",
     "exception": false,
     "start_time": "2020-12-08T11:05:10.249864",
     "status": "completed"
    },
    "tags": []
   },
   "source": [
    "### [2. Preprocessing](#prep)"
   ]
  },
  {
   "cell_type": "markdown",
   "metadata": {
    "papermill": {
     "duration": 0.044141,
     "end_time": "2020-12-08T11:05:10.382871",
     "exception": false,
     "start_time": "2020-12-08T11:05:10.338730",
     "status": "completed"
    },
    "tags": []
   },
   "source": [
    "### [3. Exploratory Data Analysis](#eda)"
   ]
  },
  {
   "cell_type": "code",
   "execution_count": 3,
   "metadata": {
    "execution": {
     "iopub.execute_input": "2020-12-08T11:05:10.490001Z",
     "iopub.status.busy": "2020-12-08T11:05:10.488949Z",
     "iopub.status.idle": "2020-12-08T11:05:10.493695Z",
     "shell.execute_reply": "2020-12-08T11:05:10.493105Z"
    },
    "papermill": {
     "duration": 0.062906,
     "end_time": "2020-12-08T11:05:10.493850",
     "exception": false,
     "start_time": "2020-12-08T11:05:10.430944",
     "status": "completed"
    },
    "tags": []
   },
   "outputs": [
    {
     "data": {
      "text/plain": [
       "10000038"
      ]
     },
     "execution_count": 3,
     "metadata": {},
     "output_type": "execute_result"
    }
   ],
   "source": [
    "len(train_df)"
   ]
  },
  {
   "cell_type": "code",
   "execution_count": 4,
   "metadata": {
    "execution": {
     "iopub.execute_input": "2020-12-08T11:05:10.599103Z",
     "iopub.status.busy": "2020-12-08T11:05:10.598270Z",
     "iopub.status.idle": "2020-12-08T11:05:11.116623Z",
     "shell.execute_reply": "2020-12-08T11:05:11.115741Z"
    },
    "papermill": {
     "duration": 0.576709,
     "end_time": "2020-12-08T11:05:11.116755",
     "exception": false,
     "start_time": "2020-12-08T11:05:10.540046",
     "status": "completed"
    },
    "tags": []
   },
   "outputs": [
    {
     "data": {
      "text/html": [
       "<div>\n",
       "<style scoped>\n",
       "    .dataframe tbody tr th:only-of-type {\n",
       "        vertical-align: middle;\n",
       "    }\n",
       "\n",
       "    .dataframe tbody tr th {\n",
       "        vertical-align: top;\n",
       "    }\n",
       "\n",
       "    .dataframe thead th {\n",
       "        text-align: right;\n",
       "    }\n",
       "</style>\n",
       "<table border=\"1\" class=\"dataframe\">\n",
       "  <thead>\n",
       "    <tr style=\"text-align: right;\">\n",
       "      <th></th>\n",
       "      <th>userId</th>\n",
       "      <th>count</th>\n",
       "    </tr>\n",
       "  </thead>\n",
       "  <tbody>\n",
       "    <tr>\n",
       "      <th>0</th>\n",
       "      <td>72315</td>\n",
       "      <td>12952</td>\n",
       "    </tr>\n",
       "    <tr>\n",
       "      <th>1</th>\n",
       "      <td>80974</td>\n",
       "      <td>3680</td>\n",
       "    </tr>\n",
       "    <tr>\n",
       "      <th>2</th>\n",
       "      <td>137293</td>\n",
       "      <td>3588</td>\n",
       "    </tr>\n",
       "    <tr>\n",
       "      <th>3</th>\n",
       "      <td>33844</td>\n",
       "      <td>3208</td>\n",
       "    </tr>\n",
       "    <tr>\n",
       "      <th>4</th>\n",
       "      <td>20055</td>\n",
       "      <td>3050</td>\n",
       "    </tr>\n",
       "  </tbody>\n",
       "</table>\n",
       "</div>"
      ],
      "text/plain": [
       "   userId  count\n",
       "0   72315  12952\n",
       "1   80974   3680\n",
       "2  137293   3588\n",
       "3   33844   3208\n",
       "4   20055   3050"
      ]
     },
     "execution_count": 4,
     "metadata": {},
     "output_type": "execute_result"
    }
   ],
   "source": [
    "# To find the number of times a user rated a movie, we create a data frame with the count by userId\n",
    "train_user = pd.DataFrame(\n",
    "    train_df['userId'].value_counts()).reset_index()\n",
    "train_user.rename(columns={'index':'userId','userId':'count'},\n",
    "                  inplace=True)\n",
    "train_user.head()\n"
   ]
  },
  {
   "cell_type": "markdown",
   "metadata": {
    "papermill": {
     "duration": 0.045633,
     "end_time": "2020-12-08T11:05:11.208651",
     "exception": false,
     "start_time": "2020-12-08T11:05:11.163018",
     "status": "completed"
    },
    "tags": []
   },
   "source": [
    "### Visualizing common users"
   ]
  },
  {
   "cell_type": "code",
   "execution_count": 5,
   "metadata": {
    "execution": {
     "iopub.execute_input": "2020-12-08T11:05:11.312323Z",
     "iopub.status.busy": "2020-12-08T11:05:11.311430Z",
     "iopub.status.idle": "2020-12-08T11:05:11.375077Z",
     "shell.execute_reply": "2020-12-08T11:05:11.374376Z"
    },
    "papermill": {
     "duration": 0.120212,
     "end_time": "2020-12-08T11:05:11.375213",
     "exception": false,
     "start_time": "2020-12-08T11:05:11.255001",
     "status": "completed"
    },
    "tags": []
   },
   "outputs": [],
   "source": [
    "# Grouping the users within a certain range aided us in determining the common userId's and the new ones.\n",
    "group_one = train_user.loc[(train_user['count'] > 0) & \n",
    "            (train_user['count'] < 50),\n",
    "            'userId'].value_counts().sum()\n",
    "group_two = train_user.loc[(train_user['count'] >= 50) & \n",
    "            (train_user['count'] < 500),\n",
    "            'userId'].value_counts().sum()\n",
    "group_three = train_user.loc[(train_user['count'] >= 500) & \n",
    "            (train_user['count'] < 1000),\n",
    "            'userId'].value_counts().sum()\n",
    "group_four = train_user.loc[(train_user['count'] >= 1000) & \n",
    "            (train_user['count'] < 1500),\n",
    "            'userId'].value_counts().sum()\n",
    "group_five = train_user.loc[(train_user['count'] >= 1500),\n",
    "            'userId'].value_counts().sum()"
   ]
  },
  {
   "cell_type": "code",
   "execution_count": 6,
   "metadata": {
    "execution": {
     "iopub.execute_input": "2020-12-08T11:05:11.477946Z",
     "iopub.status.busy": "2020-12-08T11:05:11.477055Z",
     "iopub.status.idle": "2020-12-08T11:05:12.763306Z",
     "shell.execute_reply": "2020-12-08T11:05:12.763954Z"
    },
    "papermill": {
     "duration": 1.343505,
     "end_time": "2020-12-08T11:05:12.764131",
     "exception": false,
     "start_time": "2020-12-08T11:05:11.420626",
     "status": "completed"
    },
    "tags": []
   },
   "outputs": [
    {
     "data": {
      "text/html": [
       "        <script type=\"text/javascript\">\n",
       "        window.PlotlyConfig = {MathJaxConfig: 'local'};\n",
       "        if (window.MathJax) {MathJax.Hub.Config({SVG: {font: \"STIX-Web\"}});}\n",
       "        if (typeof require !== 'undefined') {\n",
       "        require.undef(\"plotly\");\n",
       "        requirejs.config({\n",
       "            paths: {\n",
       "                'plotly': ['https://cdn.plot.ly/plotly-latest.min']\n",
       "            }\n",
       "        });\n",
       "        require(['plotly'], function(Plotly) {\n",
       "            window._Plotly = Plotly;\n",
       "        });\n",
       "        }\n",
       "        </script>\n",
       "        "
      ]
     },
     "metadata": {},
     "output_type": "display_data"
    },
    {
     "data": {
      "text/html": [
       "<div>                            <div id=\"45eb45a4-3554-4193-bc49-d1da0ec89f8a\" class=\"plotly-graph-div\" style=\"height:525px; width:100%;\"></div>            <script type=\"text/javascript\">                require([\"plotly\"], function(Plotly) {                    window.PLOTLYENV=window.PLOTLYENV || {};                                    if (document.getElementById(\"45eb45a4-3554-4193-bc49-d1da0ec89f8a\")) {                    Plotly.newPlot(                        \"45eb45a4-3554-4193-bc49-d1da0ec89f8a\",                        [{\"alignmentgroup\": \"True\", \"hovertemplate\": \"group=%{x}<br>userId_grouping=%{y}<extra></extra>\", \"legendgroup\": \"group_one\", \"marker\": {\"color\": \"#636efa\"}, \"name\": \"group_one\", \"offsetgroup\": \"group_one\", \"orientation\": \"v\", \"showlegend\": true, \"textposition\": \"auto\", \"type\": \"bar\", \"x\": [\"group_one\"], \"xaxis\": \"x\", \"y\": [\"110010\"], \"yaxis\": \"y\"}, {\"alignmentgroup\": \"True\", \"hovertemplate\": \"group=%{x}<br>userId_grouping=%{y}<extra></extra>\", \"legendgroup\": \"group_two\", \"marker\": {\"color\": \"#EF553B\"}, \"name\": \"group_two\", \"offsetgroup\": \"group_two\", \"orientation\": \"v\", \"showlegend\": true, \"textposition\": \"auto\", \"type\": \"bar\", \"x\": [\"group_two\"], \"xaxis\": \"x\", \"y\": [\"50973\"], \"yaxis\": \"y\"}, {\"alignmentgroup\": \"True\", \"hovertemplate\": \"group=%{x}<br>userId_grouping=%{y}<extra></extra>\", \"legendgroup\": \"group_three\", \"marker\": {\"color\": \"#00cc96\"}, \"name\": \"group_three\", \"offsetgroup\": \"group_three\", \"orientation\": \"v\", \"showlegend\": true, \"textposition\": \"auto\", \"type\": \"bar\", \"x\": [\"group_three\"], \"xaxis\": \"x\", \"y\": [\"1338\"], \"yaxis\": \"y\"}, {\"alignmentgroup\": \"True\", \"hovertemplate\": \"group=%{x}<br>userId_grouping=%{y}<extra></extra>\", \"legendgroup\": \"group_four\", \"marker\": {\"color\": \"#ab63fa\"}, \"name\": \"group_four\", \"offsetgroup\": \"group_four\", \"orientation\": \"v\", \"showlegend\": true, \"textposition\": \"auto\", \"type\": \"bar\", \"x\": [\"group_four\"], \"xaxis\": \"x\", \"y\": [\"159\"], \"yaxis\": \"y\"}, {\"alignmentgroup\": \"True\", \"hovertemplate\": \"group=%{x}<br>userId_grouping=%{y}<extra></extra>\", \"legendgroup\": \"group_five\", \"marker\": {\"color\": \"#FFA15A\"}, \"name\": \"group_five\", \"offsetgroup\": \"group_five\", \"orientation\": \"v\", \"showlegend\": true, \"textposition\": \"auto\", \"type\": \"bar\", \"x\": [\"group_five\"], \"xaxis\": \"x\", \"y\": [\"61\"], \"yaxis\": \"y\"}],                        {\"barmode\": \"relative\", \"legend\": {\"title\": {\"text\": \"group\"}, \"tracegroupgap\": 0}, \"template\": {\"data\": {\"bar\": [{\"error_x\": {\"color\": \"#2a3f5f\"}, \"error_y\": {\"color\": \"#2a3f5f\"}, \"marker\": {\"line\": {\"color\": \"#E5ECF6\", \"width\": 0.5}}, \"type\": \"bar\"}], \"barpolar\": [{\"marker\": {\"line\": {\"color\": \"#E5ECF6\", \"width\": 0.5}}, \"type\": \"barpolar\"}], \"carpet\": [{\"aaxis\": {\"endlinecolor\": \"#2a3f5f\", \"gridcolor\": \"white\", \"linecolor\": \"white\", \"minorgridcolor\": \"white\", \"startlinecolor\": \"#2a3f5f\"}, \"baxis\": {\"endlinecolor\": \"#2a3f5f\", \"gridcolor\": \"white\", \"linecolor\": \"white\", \"minorgridcolor\": \"white\", \"startlinecolor\": \"#2a3f5f\"}, \"type\": \"carpet\"}], \"choropleth\": [{\"colorbar\": {\"outlinewidth\": 0, \"ticks\": \"\"}, \"type\": \"choropleth\"}], \"contour\": [{\"colorbar\": {\"outlinewidth\": 0, \"ticks\": \"\"}, \"colorscale\": [[0.0, \"#0d0887\"], [0.1111111111111111, \"#46039f\"], [0.2222222222222222, \"#7201a8\"], [0.3333333333333333, \"#9c179e\"], [0.4444444444444444, \"#bd3786\"], [0.5555555555555556, \"#d8576b\"], [0.6666666666666666, \"#ed7953\"], [0.7777777777777778, \"#fb9f3a\"], [0.8888888888888888, \"#fdca26\"], [1.0, \"#f0f921\"]], \"type\": \"contour\"}], \"contourcarpet\": [{\"colorbar\": {\"outlinewidth\": 0, \"ticks\": \"\"}, \"type\": \"contourcarpet\"}], \"heatmap\": [{\"colorbar\": {\"outlinewidth\": 0, \"ticks\": \"\"}, \"colorscale\": [[0.0, \"#0d0887\"], [0.1111111111111111, \"#46039f\"], [0.2222222222222222, \"#7201a8\"], [0.3333333333333333, \"#9c179e\"], [0.4444444444444444, \"#bd3786\"], [0.5555555555555556, \"#d8576b\"], [0.6666666666666666, \"#ed7953\"], [0.7777777777777778, \"#fb9f3a\"], [0.8888888888888888, \"#fdca26\"], [1.0, \"#f0f921\"]], \"type\": \"heatmap\"}], \"heatmapgl\": [{\"colorbar\": {\"outlinewidth\": 0, \"ticks\": \"\"}, \"colorscale\": [[0.0, \"#0d0887\"], [0.1111111111111111, \"#46039f\"], [0.2222222222222222, \"#7201a8\"], [0.3333333333333333, \"#9c179e\"], [0.4444444444444444, \"#bd3786\"], [0.5555555555555556, \"#d8576b\"], [0.6666666666666666, \"#ed7953\"], [0.7777777777777778, \"#fb9f3a\"], [0.8888888888888888, \"#fdca26\"], [1.0, \"#f0f921\"]], \"type\": \"heatmapgl\"}], \"histogram\": [{\"marker\": {\"colorbar\": {\"outlinewidth\": 0, \"ticks\": \"\"}}, \"type\": \"histogram\"}], \"histogram2d\": [{\"colorbar\": {\"outlinewidth\": 0, \"ticks\": \"\"}, \"colorscale\": [[0.0, \"#0d0887\"], [0.1111111111111111, \"#46039f\"], [0.2222222222222222, \"#7201a8\"], [0.3333333333333333, \"#9c179e\"], [0.4444444444444444, \"#bd3786\"], [0.5555555555555556, \"#d8576b\"], [0.6666666666666666, \"#ed7953\"], [0.7777777777777778, \"#fb9f3a\"], [0.8888888888888888, \"#fdca26\"], [1.0, \"#f0f921\"]], \"type\": \"histogram2d\"}], \"histogram2dcontour\": [{\"colorbar\": {\"outlinewidth\": 0, \"ticks\": \"\"}, \"colorscale\": [[0.0, \"#0d0887\"], [0.1111111111111111, \"#46039f\"], [0.2222222222222222, \"#7201a8\"], [0.3333333333333333, \"#9c179e\"], [0.4444444444444444, \"#bd3786\"], [0.5555555555555556, \"#d8576b\"], [0.6666666666666666, \"#ed7953\"], [0.7777777777777778, \"#fb9f3a\"], [0.8888888888888888, \"#fdca26\"], [1.0, \"#f0f921\"]], \"type\": \"histogram2dcontour\"}], \"mesh3d\": [{\"colorbar\": {\"outlinewidth\": 0, \"ticks\": \"\"}, \"type\": \"mesh3d\"}], \"parcoords\": [{\"line\": {\"colorbar\": {\"outlinewidth\": 0, \"ticks\": \"\"}}, \"type\": \"parcoords\"}], \"pie\": [{\"automargin\": true, \"type\": \"pie\"}], \"scatter\": [{\"marker\": {\"colorbar\": {\"outlinewidth\": 0, \"ticks\": \"\"}}, \"type\": \"scatter\"}], \"scatter3d\": [{\"line\": {\"colorbar\": {\"outlinewidth\": 0, \"ticks\": \"\"}}, \"marker\": {\"colorbar\": {\"outlinewidth\": 0, \"ticks\": \"\"}}, \"type\": \"scatter3d\"}], \"scattercarpet\": [{\"marker\": {\"colorbar\": {\"outlinewidth\": 0, \"ticks\": \"\"}}, \"type\": \"scattercarpet\"}], \"scattergeo\": [{\"marker\": {\"colorbar\": {\"outlinewidth\": 0, \"ticks\": \"\"}}, \"type\": \"scattergeo\"}], \"scattergl\": [{\"marker\": {\"colorbar\": {\"outlinewidth\": 0, \"ticks\": \"\"}}, \"type\": \"scattergl\"}], \"scattermapbox\": [{\"marker\": {\"colorbar\": {\"outlinewidth\": 0, \"ticks\": \"\"}}, \"type\": \"scattermapbox\"}], \"scatterpolar\": [{\"marker\": {\"colorbar\": {\"outlinewidth\": 0, \"ticks\": \"\"}}, \"type\": \"scatterpolar\"}], \"scatterpolargl\": [{\"marker\": {\"colorbar\": {\"outlinewidth\": 0, \"ticks\": \"\"}}, \"type\": \"scatterpolargl\"}], \"scatterternary\": [{\"marker\": {\"colorbar\": {\"outlinewidth\": 0, \"ticks\": \"\"}}, \"type\": \"scatterternary\"}], \"surface\": [{\"colorbar\": {\"outlinewidth\": 0, \"ticks\": \"\"}, \"colorscale\": [[0.0, \"#0d0887\"], [0.1111111111111111, \"#46039f\"], [0.2222222222222222, \"#7201a8\"], [0.3333333333333333, \"#9c179e\"], [0.4444444444444444, \"#bd3786\"], [0.5555555555555556, \"#d8576b\"], [0.6666666666666666, \"#ed7953\"], [0.7777777777777778, \"#fb9f3a\"], [0.8888888888888888, \"#fdca26\"], [1.0, \"#f0f921\"]], \"type\": \"surface\"}], \"table\": [{\"cells\": {\"fill\": {\"color\": \"#EBF0F8\"}, \"line\": {\"color\": \"white\"}}, \"header\": {\"fill\": {\"color\": \"#C8D4E3\"}, \"line\": {\"color\": \"white\"}}, \"type\": \"table\"}]}, \"layout\": {\"annotationdefaults\": {\"arrowcolor\": \"#2a3f5f\", \"arrowhead\": 0, \"arrowwidth\": 1}, \"coloraxis\": {\"colorbar\": {\"outlinewidth\": 0, \"ticks\": \"\"}}, \"colorscale\": {\"diverging\": [[0, \"#8e0152\"], [0.1, \"#c51b7d\"], [0.2, \"#de77ae\"], [0.3, \"#f1b6da\"], [0.4, \"#fde0ef\"], [0.5, \"#f7f7f7\"], [0.6, \"#e6f5d0\"], [0.7, \"#b8e186\"], [0.8, \"#7fbc41\"], [0.9, \"#4d9221\"], [1, \"#276419\"]], \"sequential\": [[0.0, \"#0d0887\"], [0.1111111111111111, \"#46039f\"], [0.2222222222222222, \"#7201a8\"], [0.3333333333333333, \"#9c179e\"], [0.4444444444444444, \"#bd3786\"], [0.5555555555555556, \"#d8576b\"], [0.6666666666666666, \"#ed7953\"], [0.7777777777777778, \"#fb9f3a\"], [0.8888888888888888, \"#fdca26\"], [1.0, \"#f0f921\"]], \"sequentialminus\": [[0.0, \"#0d0887\"], [0.1111111111111111, \"#46039f\"], [0.2222222222222222, \"#7201a8\"], [0.3333333333333333, \"#9c179e\"], [0.4444444444444444, \"#bd3786\"], [0.5555555555555556, \"#d8576b\"], [0.6666666666666666, \"#ed7953\"], [0.7777777777777778, \"#fb9f3a\"], [0.8888888888888888, \"#fdca26\"], [1.0, \"#f0f921\"]]}, \"colorway\": [\"#636efa\", \"#EF553B\", \"#00cc96\", \"#ab63fa\", \"#FFA15A\", \"#19d3f3\", \"#FF6692\", \"#B6E880\", \"#FF97FF\", \"#FECB52\"], \"font\": {\"color\": \"#2a3f5f\"}, \"geo\": {\"bgcolor\": \"white\", \"lakecolor\": \"white\", \"landcolor\": \"#E5ECF6\", \"showlakes\": true, \"showland\": true, \"subunitcolor\": \"white\"}, \"hoverlabel\": {\"align\": \"left\"}, \"hovermode\": \"closest\", \"mapbox\": {\"style\": \"light\"}, \"paper_bgcolor\": \"white\", \"plot_bgcolor\": \"#E5ECF6\", \"polar\": {\"angularaxis\": {\"gridcolor\": \"white\", \"linecolor\": \"white\", \"ticks\": \"\"}, \"bgcolor\": \"#E5ECF6\", \"radialaxis\": {\"gridcolor\": \"white\", \"linecolor\": \"white\", \"ticks\": \"\"}}, \"scene\": {\"xaxis\": {\"backgroundcolor\": \"#E5ECF6\", \"gridcolor\": \"white\", \"gridwidth\": 2, \"linecolor\": \"white\", \"showbackground\": true, \"ticks\": \"\", \"zerolinecolor\": \"white\"}, \"yaxis\": {\"backgroundcolor\": \"#E5ECF6\", \"gridcolor\": \"white\", \"gridwidth\": 2, \"linecolor\": \"white\", \"showbackground\": true, \"ticks\": \"\", \"zerolinecolor\": \"white\"}, \"zaxis\": {\"backgroundcolor\": \"#E5ECF6\", \"gridcolor\": \"white\", \"gridwidth\": 2, \"linecolor\": \"white\", \"showbackground\": true, \"ticks\": \"\", \"zerolinecolor\": \"white\"}}, \"shapedefaults\": {\"line\": {\"color\": \"#2a3f5f\"}}, \"ternary\": {\"aaxis\": {\"gridcolor\": \"white\", \"linecolor\": \"white\", \"ticks\": \"\"}, \"baxis\": {\"gridcolor\": \"white\", \"linecolor\": \"white\", \"ticks\": \"\"}, \"bgcolor\": \"#E5ECF6\", \"caxis\": {\"gridcolor\": \"white\", \"linecolor\": \"white\", \"ticks\": \"\"}}, \"title\": {\"x\": 0.05}, \"xaxis\": {\"automargin\": true, \"gridcolor\": \"white\", \"linecolor\": \"white\", \"ticks\": \"\", \"title\": {\"standoff\": 15}, \"zerolinecolor\": \"white\", \"zerolinewidth\": 2}, \"yaxis\": {\"automargin\": true, \"gridcolor\": \"white\", \"linecolor\": \"white\", \"ticks\": \"\", \"title\": {\"standoff\": 15}, \"zerolinecolor\": \"white\", \"zerolinewidth\": 2}}}, \"title\": {\"text\": \"Grouped Rating Distribustion\"}, \"xaxis\": {\"anchor\": \"y\", \"categoryarray\": [\"group_one\", \"group_two\", \"group_three\", \"group_four\", \"group_five\"], \"categoryorder\": \"array\", \"domain\": [0.0, 1.0], \"title\": {\"text\": \"group\"}}, \"yaxis\": {\"anchor\": \"x\", \"domain\": [0.0, 1.0], \"title\": {\"text\": \"userId_grouping\"}}},                        {\"responsive\": true}                    ).then(function(){\n",
       "                            \n",
       "var gd = document.getElementById('45eb45a4-3554-4193-bc49-d1da0ec89f8a');\n",
       "var x = new MutationObserver(function (mutations, observer) {{\n",
       "        var display = window.getComputedStyle(gd).display;\n",
       "        if (!display || display === 'none') {{\n",
       "            console.log([gd, 'removed!']);\n",
       "            Plotly.purge(gd);\n",
       "            observer.disconnect();\n",
       "        }}\n",
       "}});\n",
       "\n",
       "// Listen for the removal of the full notebook cells\n",
       "var notebookContainer = gd.closest('#notebook-container');\n",
       "if (notebookContainer) {{\n",
       "    x.observe(notebookContainer, {childList: true});\n",
       "}}\n",
       "\n",
       "// Listen for the clearing of the current output cell\n",
       "var outputEl = gd.closest('.output');\n",
       "if (outputEl) {{\n",
       "    x.observe(outputEl, {childList: true});\n",
       "}}\n",
       "\n",
       "                        })                };                });            </script>        </div>"
      ]
     },
     "metadata": {},
     "output_type": "display_data"
    },
    {
     "data": {
      "text/html": [
       "<div>\n",
       "<style scoped>\n",
       "    .dataframe tbody tr th:only-of-type {\n",
       "        vertical-align: middle;\n",
       "    }\n",
       "\n",
       "    .dataframe tbody tr th {\n",
       "        vertical-align: top;\n",
       "    }\n",
       "\n",
       "    .dataframe thead th {\n",
       "        text-align: right;\n",
       "    }\n",
       "</style>\n",
       "<table border=\"1\" class=\"dataframe\">\n",
       "  <thead>\n",
       "    <tr style=\"text-align: right;\">\n",
       "      <th></th>\n",
       "      <th>group</th>\n",
       "      <th>userId_grouping</th>\n",
       "      <th>explanation</th>\n",
       "    </tr>\n",
       "  </thead>\n",
       "  <tbody>\n",
       "    <tr>\n",
       "      <th>0</th>\n",
       "      <td>group_one</td>\n",
       "      <td>110010</td>\n",
       "      <td>ratings_count between 1 and 50</td>\n",
       "    </tr>\n",
       "    <tr>\n",
       "      <th>1</th>\n",
       "      <td>group_two</td>\n",
       "      <td>50973</td>\n",
       "      <td>ratings_count between 50 and 500</td>\n",
       "    </tr>\n",
       "    <tr>\n",
       "      <th>2</th>\n",
       "      <td>group_three</td>\n",
       "      <td>1338</td>\n",
       "      <td>ratings_count between 500 and 1000</td>\n",
       "    </tr>\n",
       "    <tr>\n",
       "      <th>3</th>\n",
       "      <td>group_four</td>\n",
       "      <td>159</td>\n",
       "      <td>ratings_count between 1000 and 1500</td>\n",
       "    </tr>\n",
       "    <tr>\n",
       "      <th>4</th>\n",
       "      <td>group_five</td>\n",
       "      <td>61</td>\n",
       "      <td>ratings_count greater than 1500</td>\n",
       "    </tr>\n",
       "  </tbody>\n",
       "</table>\n",
       "</div>"
      ],
      "text/plain": [
       "         group userId_grouping                          explanation\n",
       "0    group_one          110010       ratings_count between 1 and 50\n",
       "1    group_two           50973     ratings_count between 50 and 500\n",
       "2  group_three            1338   ratings_count between 500 and 1000\n",
       "3   group_four             159  ratings_count between 1000 and 1500\n",
       "4   group_five              61      ratings_count greater than 1500"
      ]
     },
     "execution_count": 6,
     "metadata": {},
     "output_type": "execute_result"
    }
   ],
   "source": [
    "# To give us insight in the spread, we used figures to determine the spread.\n",
    "trial_error = np.array([['group_one', group_one,\n",
    "                         'ratings_count between 1 and 50'],\n",
    "                        ['group_two', group_two,\n",
    "                         'ratings_count between 50 and 500'],\n",
    "                        ['group_three', group_three,\n",
    "                         'ratings_count between 500 and 1000'],\n",
    "                        ['group_four', group_four,\n",
    "                         'ratings_count between 1000 and 1500'],\n",
    "                        ['group_five', group_five,\n",
    "                         'ratings_count greater than 1500']])\n",
    "trial_error_df = pd.DataFrame({'group': trial_error[:, 0],\n",
    "                               'userId_grouping': trial_error[:, 1],\n",
    "                               'explanation': trial_error[:, 2]})\n",
    "fig = px.bar(trial_error_df,\n",
    "             x=trial_error_df[\"group\"],\n",
    "             y=trial_error_df[\"userId_grouping\"],\n",
    "             color=trial_error_df[\"group\"],\n",
    "             title='Grouped Rating Distribustion')\n",
    "fig.show()\n",
    "trial_error_df\n"
   ]
  },
  {
   "cell_type": "markdown",
   "metadata": {
    "papermill": {
     "duration": 0.046907,
     "end_time": "2020-12-08T11:05:12.858703",
     "exception": false,
     "start_time": "2020-12-08T11:05:12.811796",
     "status": "completed"
    },
    "tags": []
   },
   "source": [
    "### Visualizing the dataframes"
   ]
  },
  {
   "cell_type": "code",
   "execution_count": 7,
   "metadata": {
    "execution": {
     "iopub.execute_input": "2020-12-08T11:05:12.971972Z",
     "iopub.status.busy": "2020-12-08T11:05:12.971096Z",
     "iopub.status.idle": "2020-12-08T11:05:12.976522Z",
     "shell.execute_reply": "2020-12-08T11:05:12.975788Z"
    },
    "papermill": {
     "duration": 0.069418,
     "end_time": "2020-12-08T11:05:12.976647",
     "exception": false,
     "start_time": "2020-12-08T11:05:12.907229",
     "status": "completed"
    },
    "tags": []
   },
   "outputs": [
    {
     "data": {
      "text/html": [
       "<div>\n",
       "<style scoped>\n",
       "    .dataframe tbody tr th:only-of-type {\n",
       "        vertical-align: middle;\n",
       "    }\n",
       "\n",
       "    .dataframe tbody tr th {\n",
       "        vertical-align: top;\n",
       "    }\n",
       "\n",
       "    .dataframe thead th {\n",
       "        text-align: right;\n",
       "    }\n",
       "</style>\n",
       "<table border=\"1\" class=\"dataframe\">\n",
       "  <thead>\n",
       "    <tr style=\"text-align: right;\">\n",
       "      <th></th>\n",
       "      <th>dataframe</th>\n",
       "      <th>sizes</th>\n",
       "    </tr>\n",
       "  </thead>\n",
       "  <tbody>\n",
       "    <tr>\n",
       "      <th>0</th>\n",
       "      <td>train_df</td>\n",
       "      <td>10000038</td>\n",
       "    </tr>\n",
       "    <tr>\n",
       "      <th>1</th>\n",
       "      <td>test_df</td>\n",
       "      <td>5000019</td>\n",
       "    </tr>\n",
       "    <tr>\n",
       "      <th>2</th>\n",
       "      <td>tags_df</td>\n",
       "      <td>1093360</td>\n",
       "    </tr>\n",
       "    <tr>\n",
       "      <th>3</th>\n",
       "      <td>imdb_df</td>\n",
       "      <td>27278</td>\n",
       "    </tr>\n",
       "    <tr>\n",
       "      <th>4</th>\n",
       "      <td>links_df</td>\n",
       "      <td>62423</td>\n",
       "    </tr>\n",
       "    <tr>\n",
       "      <th>5</th>\n",
       "      <td>movies_df</td>\n",
       "      <td>62423</td>\n",
       "    </tr>\n",
       "    <tr>\n",
       "      <th>6</th>\n",
       "      <td>genome_tags</td>\n",
       "      <td>1128</td>\n",
       "    </tr>\n",
       "    <tr>\n",
       "      <th>7</th>\n",
       "      <td>genome_score</td>\n",
       "      <td>15584448</td>\n",
       "    </tr>\n",
       "  </tbody>\n",
       "</table>\n",
       "</div>"
      ],
      "text/plain": [
       "      dataframe     sizes\n",
       "0      train_df  10000038\n",
       "1       test_df   5000019\n",
       "2       tags_df   1093360\n",
       "3       imdb_df     27278\n",
       "4      links_df     62423\n",
       "5     movies_df     62423\n",
       "6   genome_tags      1128\n",
       "7  genome_score  15584448"
      ]
     },
     "execution_count": 7,
     "metadata": {},
     "output_type": "execute_result"
    }
   ],
   "source": [
    "# Created a Data Frame outlining the size of our data\n",
    "dataframes = ['train_df', 'test_df', 'tags_df', 'imdb_df',\n",
    "              'links_df', 'movies_df', 'genome_tags', 'genome_score']\n",
    "sizes = [len(train_df), len(test_df), len(tags_df),\n",
    "         len(imdb_df), len(links_df), len(movies_df),\n",
    "         len(genome_tags), len(genome_score)]\n",
    "total_size_df = pd.DataFrame(list(zip(dataframes, sizes)),\n",
    "                             columns=['dataframe', 'sizes'])\n",
    "total_size_df"
   ]
  },
  {
   "cell_type": "code",
   "execution_count": 8,
   "metadata": {
    "execution": {
     "iopub.execute_input": "2020-12-08T11:05:13.091047Z",
     "iopub.status.busy": "2020-12-08T11:05:13.089904Z",
     "iopub.status.idle": "2020-12-08T11:05:13.094868Z",
     "shell.execute_reply": "2020-12-08T11:05:13.094133Z"
    },
    "papermill": {
     "duration": 0.068261,
     "end_time": "2020-12-08T11:05:13.094992",
     "exception": false,
     "start_time": "2020-12-08T11:05:13.026731",
     "status": "completed"
    },
    "tags": []
   },
   "outputs": [
    {
     "data": {
      "text/html": [
       "<div>\n",
       "<style scoped>\n",
       "    .dataframe tbody tr th:only-of-type {\n",
       "        vertical-align: middle;\n",
       "    }\n",
       "\n",
       "    .dataframe tbody tr th {\n",
       "        vertical-align: top;\n",
       "    }\n",
       "\n",
       "    .dataframe thead th {\n",
       "        text-align: right;\n",
       "    }\n",
       "</style>\n",
       "<table border=\"1\" class=\"dataframe\">\n",
       "  <thead>\n",
       "    <tr style=\"text-align: right;\">\n",
       "      <th></th>\n",
       "      <th>dataframe</th>\n",
       "      <th>sizes</th>\n",
       "    </tr>\n",
       "  </thead>\n",
       "  <tbody>\n",
       "    <tr>\n",
       "      <th>0</th>\n",
       "      <td>train_df</td>\n",
       "      <td>10000038</td>\n",
       "    </tr>\n",
       "    <tr>\n",
       "      <th>1</th>\n",
       "      <td>test_df</td>\n",
       "      <td>5000019</td>\n",
       "    </tr>\n",
       "    <tr>\n",
       "      <th>2</th>\n",
       "      <td>tags_df</td>\n",
       "      <td>1093360</td>\n",
       "    </tr>\n",
       "    <tr>\n",
       "      <th>3</th>\n",
       "      <td>imdb_df</td>\n",
       "      <td>27278</td>\n",
       "    </tr>\n",
       "    <tr>\n",
       "      <th>4</th>\n",
       "      <td>links_df</td>\n",
       "      <td>62423</td>\n",
       "    </tr>\n",
       "    <tr>\n",
       "      <th>5</th>\n",
       "      <td>movies_df</td>\n",
       "      <td>62423</td>\n",
       "    </tr>\n",
       "    <tr>\n",
       "      <th>6</th>\n",
       "      <td>genome_tags</td>\n",
       "      <td>1128</td>\n",
       "    </tr>\n",
       "    <tr>\n",
       "      <th>7</th>\n",
       "      <td>genome_score</td>\n",
       "      <td>15584448</td>\n",
       "    </tr>\n",
       "    <tr>\n",
       "      <th>8</th>\n",
       "      <td>other</td>\n",
       "      <td>180530</td>\n",
       "    </tr>\n",
       "  </tbody>\n",
       "</table>\n",
       "</div>"
      ],
      "text/plain": [
       "      dataframe     sizes\n",
       "0      train_df  10000038\n",
       "1       test_df   5000019\n",
       "2       tags_df   1093360\n",
       "3       imdb_df     27278\n",
       "4      links_df     62423\n",
       "5     movies_df     62423\n",
       "6   genome_tags      1128\n",
       "7  genome_score  15584448\n",
       "8         other    180530"
      ]
     },
     "execution_count": 8,
     "metadata": {},
     "output_type": "execute_result"
    }
   ],
   "source": [
    "new_row = {'dataframe': 'other', 'sizes': 180530}\n",
    "total_size_df = total_size_df.append(new_row,\n",
    "                                     ignore_index=True)\n",
    "total_size_df"
   ]
  },
  {
   "cell_type": "code",
   "execution_count": 9,
   "metadata": {
    "execution": {
     "iopub.execute_input": "2020-12-08T11:05:13.208227Z",
     "iopub.status.busy": "2020-12-08T11:05:13.207425Z",
     "iopub.status.idle": "2020-12-08T11:05:13.210987Z",
     "shell.execute_reply": "2020-12-08T11:05:13.211580Z"
    },
    "papermill": {
     "duration": 0.068066,
     "end_time": "2020-12-08T11:05:13.211735",
     "exception": false,
     "start_time": "2020-12-08T11:05:13.143669",
     "status": "completed"
    },
    "tags": []
   },
   "outputs": [
    {
     "data": {
      "text/html": [
       "<div>\n",
       "<style scoped>\n",
       "    .dataframe tbody tr th:only-of-type {\n",
       "        vertical-align: middle;\n",
       "    }\n",
       "\n",
       "    .dataframe tbody tr th {\n",
       "        vertical-align: top;\n",
       "    }\n",
       "\n",
       "    .dataframe thead th {\n",
       "        text-align: right;\n",
       "    }\n",
       "</style>\n",
       "<table border=\"1\" class=\"dataframe\">\n",
       "  <thead>\n",
       "    <tr style=\"text-align: right;\">\n",
       "      <th></th>\n",
       "      <th>dataframe</th>\n",
       "      <th>sizes</th>\n",
       "    </tr>\n",
       "  </thead>\n",
       "  <tbody>\n",
       "    <tr>\n",
       "      <th>0</th>\n",
       "      <td>train_df</td>\n",
       "      <td>10000038</td>\n",
       "    </tr>\n",
       "    <tr>\n",
       "      <th>1</th>\n",
       "      <td>test_df</td>\n",
       "      <td>5000019</td>\n",
       "    </tr>\n",
       "    <tr>\n",
       "      <th>2</th>\n",
       "      <td>tags_df</td>\n",
       "      <td>1093360</td>\n",
       "    </tr>\n",
       "    <tr>\n",
       "      <th>7</th>\n",
       "      <td>genome_score</td>\n",
       "      <td>15584448</td>\n",
       "    </tr>\n",
       "    <tr>\n",
       "      <th>8</th>\n",
       "      <td>other</td>\n",
       "      <td>180530</td>\n",
       "    </tr>\n",
       "  </tbody>\n",
       "</table>\n",
       "</div>"
      ],
      "text/plain": [
       "      dataframe     sizes\n",
       "0      train_df  10000038\n",
       "1       test_df   5000019\n",
       "2       tags_df   1093360\n",
       "7  genome_score  15584448\n",
       "8         other    180530"
      ]
     },
     "execution_count": 9,
     "metadata": {},
     "output_type": "execute_result"
    }
   ],
   "source": [
    "total_size_df = total_size_df[total_size_df['sizes'] > 100000]\n",
    "total_size_df"
   ]
  },
  {
   "cell_type": "code",
   "execution_count": 10,
   "metadata": {
    "execution": {
     "iopub.execute_input": "2020-12-08T11:05:13.319351Z",
     "iopub.status.busy": "2020-12-08T11:05:13.318597Z",
     "iopub.status.idle": "2020-12-08T11:05:13.603873Z",
     "shell.execute_reply": "2020-12-08T11:05:13.603100Z"
    },
    "papermill": {
     "duration": 0.342838,
     "end_time": "2020-12-08T11:05:13.604008",
     "exception": false,
     "start_time": "2020-12-08T11:05:13.261170",
     "status": "completed"
    },
    "tags": []
   },
   "outputs": [
    {
     "data": {
      "image/png": "[encoded data removed]",
      "text/plain": [
       "<Figure size 432x288 with 1 Axes>"
      ]
     },
     "metadata": {},
     "output_type": "display_data"
    }
   ],
   "source": [
    "explodeTuple = (0.0, 0.0, 0.0, 0.0, 0.4)\n",
    "fig1, ax1 = plt.subplots()\n",
    "ax1.pie(total_size_df['sizes'].values,\n",
    "        labels=total_size_df['dataframe'].values,\n",
    "        startangle=90, autopct='%1.1f%%',\n",
    "        explode=explodeTuple)\n",
    "ax1.axis('equal')\n",
    "plt.title('Distribution of overall Data Frames')\n",
    "plt.show()"
   ]
  },
  {
   "cell_type": "code",
   "execution_count": 11,
   "metadata": {
    "execution": {
     "iopub.execute_input": "2020-12-08T11:05:13.770900Z",
     "iopub.status.busy": "2020-12-08T11:05:13.765629Z",
     "iopub.status.idle": "2020-12-08T11:05:13.808566Z",
     "shell.execute_reply": "2020-12-08T11:05:13.807772Z"
    },
    "papermill": {
     "duration": 0.153799,
     "end_time": "2020-12-08T11:05:13.808694",
     "exception": false,
     "start_time": "2020-12-08T11:05:13.654895",
     "status": "completed"
    },
    "tags": []
   },
   "outputs": [
    {
     "data": {
      "text/html": [
       "<div>                            <div id=\"f8cc72b6-b5f4-46f5-b9fb-a2e86138f94c\" class=\"plotly-graph-div\" style=\"height:525px; width:100%;\"></div>            <script type=\"text/javascript\">                require([\"plotly\"], function(Plotly) {                    window.PLOTLYENV=window.PLOTLYENV || {};                                    if (document.getElementById(\"f8cc72b6-b5f4-46f5-b9fb-a2e86138f94c\")) {                    Plotly.newPlot(                        \"f8cc72b6-b5f4-46f5-b9fb-a2e86138f94c\",                        [{\"alignmentgroup\": \"True\", \"hovertemplate\": \"Dataset=%{x}<br>Size=%{y}<extra></extra>\", \"legendgroup\": \"train_df\", \"marker\": {\"color\": \"#636efa\"}, \"name\": \"train_df\", \"offsetgroup\": \"train_df\", \"orientation\": \"v\", \"showlegend\": true, \"textposition\": \"auto\", \"type\": \"bar\", \"x\": [\"train_df\"], \"xaxis\": \"x\", \"y\": [10000038], \"yaxis\": \"y\"}, {\"alignmentgroup\": \"True\", \"hovertemplate\": \"Dataset=%{x}<br>Size=%{y}<extra></extra>\", \"legendgroup\": \"tags_df\", \"marker\": {\"color\": \"#EF553B\"}, \"name\": \"tags_df\", \"offsetgroup\": \"tags_df\", \"orientation\": \"v\", \"showlegend\": true, \"textposition\": \"auto\", \"type\": \"bar\", \"x\": [\"tags_df\"], \"xaxis\": \"x\", \"y\": [1093360], \"yaxis\": \"y\"}, {\"alignmentgroup\": \"True\", \"hovertemplate\": \"Dataset=%{x}<br>Size=%{y}<extra></extra>\", \"legendgroup\": \"imdb_df\", \"marker\": {\"color\": \"#00cc96\"}, \"name\": \"imdb_df\", \"offsetgroup\": \"imdb_df\", \"orientation\": \"v\", \"showlegend\": true, \"textposition\": \"auto\", \"type\": \"bar\", \"x\": [\"imdb_df\"], \"xaxis\": \"x\", \"y\": [27278], \"yaxis\": \"y\"}, {\"alignmentgroup\": \"True\", \"hovertemplate\": \"Dataset=%{x}<br>Size=%{y}<extra></extra>\", \"legendgroup\": \"links_df\", \"marker\": {\"color\": \"#ab63fa\"}, \"name\": \"links_df\", \"offsetgroup\": \"links_df\", \"orientation\": \"v\", \"showlegend\": true, \"textposition\": \"auto\", \"type\": \"bar\", \"x\": [\"links_df\"], \"xaxis\": \"x\", \"y\": [62423], \"yaxis\": \"y\"}, {\"alignmentgroup\": \"True\", \"hovertemplate\": \"Dataset=%{x}<br>Size=%{y}<extra></extra>\", \"legendgroup\": \"movies_df\", \"marker\": {\"color\": \"#FFA15A\"}, \"name\": \"movies_df\", \"offsetgroup\": \"movies_df\", \"orientation\": \"v\", \"showlegend\": true, \"textposition\": \"auto\", \"type\": \"bar\", \"x\": [\"movies_df\"], \"xaxis\": \"x\", \"y\": [62423], \"yaxis\": \"y\"}, {\"alignmentgroup\": \"True\", \"hovertemplate\": \"Dataset=%{x}<br>Size=%{y}<extra></extra>\", \"legendgroup\": \"genome_tags\", \"marker\": {\"color\": \"#19d3f3\"}, \"name\": \"genome_tags\", \"offsetgroup\": \"genome_tags\", \"orientation\": \"v\", \"showlegend\": true, \"textposition\": \"auto\", \"type\": \"bar\", \"x\": [\"genome_tags\"], \"xaxis\": \"x\", \"y\": [1128], \"yaxis\": \"y\"}, {\"alignmentgroup\": \"True\", \"hovertemplate\": \"Dataset=%{x}<br>Size=%{y}<extra></extra>\", \"legendgroup\": \"genome_score\", \"marker\": {\"color\": \"#FF6692\"}, \"name\": \"genome_score\", \"offsetgroup\": \"genome_score\", \"orientation\": \"v\", \"showlegend\": true, \"textposition\": \"auto\", \"type\": \"bar\", \"x\": [\"genome_score\"], \"xaxis\": \"x\", \"y\": [15584448], \"yaxis\": \"y\"}],                        {\"barmode\": \"relative\", \"legend\": {\"title\": {\"text\": \"Dataset\"}, \"tracegroupgap\": 0}, \"template\": {\"data\": {\"bar\": [{\"error_x\": {\"color\": \"#2a3f5f\"}, \"error_y\": {\"color\": \"#2a3f5f\"}, \"marker\": {\"line\": {\"color\": \"#E5ECF6\", \"width\": 0.5}}, \"type\": \"bar\"}], \"barpolar\": [{\"marker\": {\"line\": {\"color\": \"#E5ECF6\", \"width\": 0.5}}, \"type\": \"barpolar\"}], \"carpet\": [{\"aaxis\": {\"endlinecolor\": \"#2a3f5f\", \"gridcolor\": \"white\", \"linecolor\": \"white\", \"minorgridcolor\": \"white\", \"startlinecolor\": \"#2a3f5f\"}, \"baxis\": {\"endlinecolor\": \"#2a3f5f\", \"gridcolor\": \"white\", \"linecolor\": \"white\", \"minorgridcolor\": \"white\", \"startlinecolor\": \"#2a3f5f\"}, \"type\": \"carpet\"}], \"choropleth\": [{\"colorbar\": {\"outlinewidth\": 0, \"ticks\": \"\"}, \"type\": \"choropleth\"}], \"contour\": [{\"colorbar\": {\"outlinewidth\": 0, \"ticks\": \"\"}, \"colorscale\": [[0.0, \"#0d0887\"], [0.1111111111111111, \"#46039f\"], [0.2222222222222222, \"#7201a8\"], [0.3333333333333333, \"#9c179e\"], [0.4444444444444444, \"#bd3786\"], [0.5555555555555556, \"#d8576b\"], [0.6666666666666666, \"#ed7953\"], [0.7777777777777778, \"#fb9f3a\"], [0.8888888888888888, \"#fdca26\"], [1.0, \"#f0f921\"]], \"type\": \"contour\"}], \"contourcarpet\": [{\"colorbar\": {\"outlinewidth\": 0, \"ticks\": \"\"}, \"type\": \"contourcarpet\"}], \"heatmap\": [{\"colorbar\": {\"outlinewidth\": 0, \"ticks\": \"\"}, \"colorscale\": [[0.0, \"#0d0887\"], [0.1111111111111111, \"#46039f\"], [0.2222222222222222, \"#7201a8\"], [0.3333333333333333, \"#9c179e\"], [0.4444444444444444, \"#bd3786\"], [0.5555555555555556, \"#d8576b\"], [0.6666666666666666, \"#ed7953\"], [0.7777777777777778, \"#fb9f3a\"], [0.8888888888888888, \"#fdca26\"], [1.0, \"#f0f921\"]], \"type\": \"heatmap\"}], \"heatmapgl\": [{\"colorbar\": {\"outlinewidth\": 0, \"ticks\": \"\"}, \"colorscale\": [[0.0, \"#0d0887\"], [0.1111111111111111, \"#46039f\"], [0.2222222222222222, \"#7201a8\"], [0.3333333333333333, \"#9c179e\"], [0.4444444444444444, \"#bd3786\"], [0.5555555555555556, \"#d8576b\"], [0.6666666666666666, \"#ed7953\"], [0.7777777777777778, \"#fb9f3a\"], [0.8888888888888888, \"#fdca26\"], [1.0, \"#f0f921\"]], \"type\": \"heatmapgl\"}], \"histogram\": [{\"marker\": {\"colorbar\": {\"outlinewidth\": 0, \"ticks\": \"\"}}, \"type\": \"histogram\"}], \"histogram2d\": [{\"colorbar\": {\"outlinewidth\": 0, \"ticks\": \"\"}, \"colorscale\": [[0.0, \"#0d0887\"], [0.1111111111111111, \"#46039f\"], [0.2222222222222222, \"#7201a8\"], [0.3333333333333333, \"#9c179e\"], [0.4444444444444444, \"#bd3786\"], [0.5555555555555556, \"#d8576b\"], [0.6666666666666666, \"#ed7953\"], [0.7777777777777778, \"#fb9f3a\"], [0.8888888888888888, \"#fdca26\"], [1.0, \"#f0f921\"]], \"type\": \"histogram2d\"}], \"histogram2dcontour\": [{\"colorbar\": {\"outlinewidth\": 0, \"ticks\": \"\"}, \"colorscale\": [[0.0, \"#0d0887\"], [0.1111111111111111, \"#46039f\"], [0.2222222222222222, \"#7201a8\"], [0.3333333333333333, \"#9c179e\"], [0.4444444444444444, \"#bd3786\"], [0.5555555555555556, \"#d8576b\"], [0.6666666666666666, \"#ed7953\"], [0.7777777777777778, \"#fb9f3a\"], [0.8888888888888888, \"#fdca26\"], [1.0, \"#f0f921\"]], \"type\": \"histogram2dcontour\"}], \"mesh3d\": [{\"colorbar\": {\"outlinewidth\": 0, \"ticks\": \"\"}, \"type\": \"mesh3d\"}], \"parcoords\": [{\"line\": {\"colorbar\": {\"outlinewidth\": 0, \"ticks\": \"\"}}, \"type\": \"parcoords\"}], \"pie\": [{\"automargin\": true, \"type\": \"pie\"}], \"scatter\": [{\"marker\": {\"colorbar\": {\"outlinewidth\": 0, \"ticks\": \"\"}}, \"type\": \"scatter\"}], \"scatter3d\": [{\"line\": {\"colorbar\": {\"outlinewidth\": 0, \"ticks\": \"\"}}, \"marker\": {\"colorbar\": {\"outlinewidth\": 0, \"ticks\": \"\"}}, \"type\": \"scatter3d\"}], \"scattercarpet\": [{\"marker\": {\"colorbar\": {\"outlinewidth\": 0, \"ticks\": \"\"}}, \"type\": \"scattercarpet\"}], \"scattergeo\": [{\"marker\": {\"colorbar\": {\"outlinewidth\": 0, \"ticks\": \"\"}}, \"type\": \"scattergeo\"}], \"scattergl\": [{\"marker\": {\"colorbar\": {\"outlinewidth\": 0, \"ticks\": \"\"}}, \"type\": \"scattergl\"}], \"scattermapbox\": [{\"marker\": {\"colorbar\": {\"outlinewidth\": 0, \"ticks\": \"\"}}, \"type\": \"scattermapbox\"}], \"scatterpolar\": [{\"marker\": {\"colorbar\": {\"outlinewidth\": 0, \"ticks\": \"\"}}, \"type\": \"scatterpolar\"}], \"scatterpolargl\": [{\"marker\": {\"colorbar\": {\"outlinewidth\": 0, \"ticks\": \"\"}}, \"type\": \"scatterpolargl\"}], \"scatterternary\": [{\"marker\": {\"colorbar\": {\"outlinewidth\": 0, \"ticks\": \"\"}}, \"type\": \"scatterternary\"}], \"surface\": [{\"colorbar\": {\"outlinewidth\": 0, \"ticks\": \"\"}, \"colorscale\": [[0.0, \"#0d0887\"], [0.1111111111111111, \"#46039f\"], [0.2222222222222222, \"#7201a8\"], [0.3333333333333333, \"#9c179e\"], [0.4444444444444444, \"#bd3786\"], [0.5555555555555556, \"#d8576b\"], [0.6666666666666666, \"#ed7953\"], [0.7777777777777778, \"#fb9f3a\"], [0.8888888888888888, \"#fdca26\"], [1.0, \"#f0f921\"]], \"type\": \"surface\"}], \"table\": [{\"cells\": {\"fill\": {\"color\": \"#EBF0F8\"}, \"line\": {\"color\": \"white\"}}, \"header\": {\"fill\": {\"color\": \"#C8D4E3\"}, \"line\": {\"color\": \"white\"}}, \"type\": \"table\"}]}, \"layout\": {\"annotationdefaults\": {\"arrowcolor\": \"#2a3f5f\", \"arrowhead\": 0, \"arrowwidth\": 1}, \"coloraxis\": {\"colorbar\": {\"outlinewidth\": 0, \"ticks\": \"\"}}, \"colorscale\": {\"diverging\": [[0, \"#8e0152\"], [0.1, \"#c51b7d\"], [0.2, \"#de77ae\"], [0.3, \"#f1b6da\"], [0.4, \"#fde0ef\"], [0.5, \"#f7f7f7\"], [0.6, \"#e6f5d0\"], [0.7, \"#b8e186\"], [0.8, \"#7fbc41\"], [0.9, \"#4d9221\"], [1, \"#276419\"]], \"sequential\": [[0.0, \"#0d0887\"], [0.1111111111111111, \"#46039f\"], [0.2222222222222222, \"#7201a8\"], [0.3333333333333333, \"#9c179e\"], [0.4444444444444444, \"#bd3786\"], [0.5555555555555556, \"#d8576b\"], [0.6666666666666666, \"#ed7953\"], [0.7777777777777778, \"#fb9f3a\"], [0.8888888888888888, \"#fdca26\"], [1.0, \"#f0f921\"]], \"sequentialminus\": [[0.0, \"#0d0887\"], [0.1111111111111111, \"#46039f\"], [0.2222222222222222, \"#7201a8\"], [0.3333333333333333, \"#9c179e\"], [0.4444444444444444, \"#bd3786\"], [0.5555555555555556, \"#d8576b\"], [0.6666666666666666, \"#ed7953\"], [0.7777777777777778, \"#fb9f3a\"], [0.8888888888888888, \"#fdca26\"], [1.0, \"#f0f921\"]]}, \"colorway\": [\"#636efa\", \"#EF553B\", \"#00cc96\", \"#ab63fa\", \"#FFA15A\", \"#19d3f3\", \"#FF6692\", \"#B6E880\", \"#FF97FF\", \"#FECB52\"], \"font\": {\"color\": \"#2a3f5f\"}, \"geo\": {\"bgcolor\": \"white\", \"lakecolor\": \"white\", \"landcolor\": \"#E5ECF6\", \"showlakes\": true, \"showland\": true, \"subunitcolor\": \"white\"}, \"hoverlabel\": {\"align\": \"left\"}, \"hovermode\": \"closest\", \"mapbox\": {\"style\": \"light\"}, \"paper_bgcolor\": \"white\", \"plot_bgcolor\": \"#E5ECF6\", \"polar\": {\"angularaxis\": {\"gridcolor\": \"white\", \"linecolor\": \"white\", \"ticks\": \"\"}, \"bgcolor\": \"#E5ECF6\", \"radialaxis\": {\"gridcolor\": \"white\", \"linecolor\": \"white\", \"ticks\": \"\"}}, \"scene\": {\"xaxis\": {\"backgroundcolor\": \"#E5ECF6\", \"gridcolor\": \"white\", \"gridwidth\": 2, \"linecolor\": \"white\", \"showbackground\": true, \"ticks\": \"\", \"zerolinecolor\": \"white\"}, \"yaxis\": {\"backgroundcolor\": \"#E5ECF6\", \"gridcolor\": \"white\", \"gridwidth\": 2, \"linecolor\": \"white\", \"showbackground\": true, \"ticks\": \"\", \"zerolinecolor\": \"white\"}, \"zaxis\": {\"backgroundcolor\": \"#E5ECF6\", \"gridcolor\": \"white\", \"gridwidth\": 2, \"linecolor\": \"white\", \"showbackground\": true, \"ticks\": \"\", \"zerolinecolor\": \"white\"}}, \"shapedefaults\": {\"line\": {\"color\": \"#2a3f5f\"}}, \"ternary\": {\"aaxis\": {\"gridcolor\": \"white\", \"linecolor\": \"white\", \"ticks\": \"\"}, \"baxis\": {\"gridcolor\": \"white\", \"linecolor\": \"white\", \"ticks\": \"\"}, \"bgcolor\": \"#E5ECF6\", \"caxis\": {\"gridcolor\": \"white\", \"linecolor\": \"white\", \"ticks\": \"\"}}, \"title\": {\"x\": 0.05}, \"xaxis\": {\"automargin\": true, \"gridcolor\": \"white\", \"linecolor\": \"white\", \"ticks\": \"\", \"title\": {\"standoff\": 15}, \"zerolinecolor\": \"white\", \"zerolinewidth\": 2}, \"yaxis\": {\"automargin\": true, \"gridcolor\": \"white\", \"linecolor\": \"white\", \"ticks\": \"\", \"title\": {\"standoff\": 15}, \"zerolinecolor\": \"white\", \"zerolinewidth\": 2}}}, \"title\": {\"text\": \"Distribution of overall Data Frames\"}, \"xaxis\": {\"anchor\": \"y\", \"categoryarray\": [\"train_df\", \"tags_df\", \"imdb_df\", \"links_df\", \"movies_df\", \"genome_tags\", \"genome_score\"], \"categoryorder\": \"array\", \"domain\": [0.0, 1.0], \"title\": {\"text\": \"Dataset\"}}, \"yaxis\": {\"anchor\": \"x\", \"domain\": [0.0, 1.0], \"title\": {\"text\": \"Size\"}}},                        {\"responsive\": true}                    ).then(function(){\n",
       "                            \n",
       "var gd = document.getElementById('f8cc72b6-b5f4-46f5-b9fb-a2e86138f94c');\n",
       "var x = new MutationObserver(function (mutations, observer) {{\n",
       "        var display = window.getComputedStyle(gd).display;\n",
       "        if (!display || display === 'none') {{\n",
       "            console.log([gd, 'removed!']);\n",
       "            Plotly.purge(gd);\n",
       "            observer.disconnect();\n",
       "        }}\n",
       "}});\n",
       "\n",
       "// Listen for the removal of the full notebook cells\n",
       "var notebookContainer = gd.closest('#notebook-container');\n",
       "if (notebookContainer) {{\n",
       "    x.observe(notebookContainer, {childList: true});\n",
       "}}\n",
       "\n",
       "// Listen for the clearing of the current output cell\n",
       "var outputEl = gd.closest('.output');\n",
       "if (outputEl) {{\n",
       "    x.observe(outputEl, {childList: true});\n",
       "}}\n",
       "\n",
       "                        })                };                });            </script>        </div>"
      ]
     },
     "metadata": {},
     "output_type": "display_data"
    }
   ],
   "source": [
    "len_list = [['train_df', len(train_df)], ['tags_df', len(tags_df)],\n",
    "            ['imdb_df', len(imdb_df)], ['links_df', len(links_df)],\n",
    "            ['movies_df', len(movies_df)],\n",
    "            ['genome_tags', len(genome_tags)],\n",
    "            ['genome_score', len(genome_score)]]\n",
    "len_df = pd.DataFrame(len_list,\n",
    "                      columns=['Dataset', 'Size'])\n",
    "fig = px.bar(len_df, x=len_df['Dataset'],\n",
    "             y=len_df['Size'],\n",
    "             color=len_df['Dataset'],\n",
    "             title='Distribution of overall Data Frames')\n",
    "fig.show()\n"
   ]
  },
  {
   "cell_type": "markdown",
   "metadata": {
    "papermill": {
     "duration": 0.052169,
     "end_time": "2020-12-08T11:05:13.912556",
     "exception": false,
     "start_time": "2020-12-08T11:05:13.860387",
     "status": "completed"
    },
    "tags": []
   },
   "source": [
    "### Visualizing the null values for each dataframe"
   ]
  },
  {
   "cell_type": "code",
   "execution_count": 12,
   "metadata": {
    "execution": {
     "iopub.execute_input": "2020-12-08T11:05:14.028439Z",
     "iopub.status.busy": "2020-12-08T11:05:14.027064Z",
     "iopub.status.idle": "2020-12-08T11:05:14.396877Z",
     "shell.execute_reply": "2020-12-08T11:05:14.396157Z"
    },
    "papermill": {
     "duration": 0.432974,
     "end_time": "2020-12-08T11:05:14.397006",
     "exception": false,
     "start_time": "2020-12-08T11:05:13.964032",
     "status": "completed"
    },
    "tags": []
   },
   "outputs": [],
   "source": [
    "# Obtaining the total null values in each Data Frames columns\n",
    "train_count = pd.DataFrame(train_df.isnull().sum())\n",
    "test_count = pd.DataFrame(test_df.isnull().sum())\n",
    "tags_count = pd.DataFrame(tags_df.isnull().sum())\n",
    "movies_count = pd.DataFrame(movies_df.isnull().sum())\n",
    "links_count = pd.DataFrame(links_df.isnull().sum())\n",
    "imdb_count = pd.DataFrame(imdb_df.isnull().sum())\n",
    "genomet_count = pd.DataFrame(genome_tags.isnull().sum())\n",
    "genomes_count = pd.DataFrame(genome_score.isnull().sum())"
   ]
  },
  {
   "cell_type": "code",
   "execution_count": 13,
   "metadata": {
    "execution": {
     "iopub.execute_input": "2020-12-08T11:05:14.509282Z",
     "iopub.status.busy": "2020-12-08T11:05:14.508174Z",
     "iopub.status.idle": "2020-12-08T11:05:14.512913Z",
     "shell.execute_reply": "2020-12-08T11:05:14.512277Z"
    },
    "papermill": {
     "duration": 0.064328,
     "end_time": "2020-12-08T11:05:14.513039",
     "exception": false,
     "start_time": "2020-12-08T11:05:14.448711",
     "status": "completed"
    },
    "tags": []
   },
   "outputs": [
    {
     "data": {
      "text/html": [
       "<div>\n",
       "<style scoped>\n",
       "    .dataframe tbody tr th:only-of-type {\n",
       "        vertical-align: middle;\n",
       "    }\n",
       "\n",
       "    .dataframe tbody tr th {\n",
       "        vertical-align: top;\n",
       "    }\n",
       "\n",
       "    .dataframe thead th {\n",
       "        text-align: right;\n",
       "    }\n",
       "</style>\n",
       "<table border=\"1\" class=\"dataframe\">\n",
       "  <thead>\n",
       "    <tr style=\"text-align: right;\">\n",
       "      <th></th>\n",
       "      <th>0</th>\n",
       "    </tr>\n",
       "  </thead>\n",
       "  <tbody>\n",
       "    <tr>\n",
       "      <th>userId</th>\n",
       "      <td>0</td>\n",
       "    </tr>\n",
       "    <tr>\n",
       "      <th>movieId</th>\n",
       "      <td>0</td>\n",
       "    </tr>\n",
       "    <tr>\n",
       "      <th>rating</th>\n",
       "      <td>0</td>\n",
       "    </tr>\n",
       "    <tr>\n",
       "      <th>timestamp</th>\n",
       "      <td>0</td>\n",
       "    </tr>\n",
       "  </tbody>\n",
       "</table>\n",
       "</div>"
      ],
      "text/plain": [
       "           0\n",
       "userId     0\n",
       "movieId    0\n",
       "rating     0\n",
       "timestamp  0"
      ]
     },
     "execution_count": 13,
     "metadata": {},
     "output_type": "execute_result"
    }
   ],
   "source": [
    "train_count"
   ]
  },
  {
   "cell_type": "code",
   "execution_count": 14,
   "metadata": {
    "execution": {
     "iopub.execute_input": "2020-12-08T11:05:14.625846Z",
     "iopub.status.busy": "2020-12-08T11:05:14.624962Z",
     "iopub.status.idle": "2020-12-08T11:05:14.629946Z",
     "shell.execute_reply": "2020-12-08T11:05:14.629302Z"
    },
    "papermill": {
     "duration": 0.064728,
     "end_time": "2020-12-08T11:05:14.630073",
     "exception": false,
     "start_time": "2020-12-08T11:05:14.565345",
     "status": "completed"
    },
    "tags": []
   },
   "outputs": [
    {
     "data": {
      "text/html": [
       "<div>\n",
       "<style scoped>\n",
       "    .dataframe tbody tr th:only-of-type {\n",
       "        vertical-align: middle;\n",
       "    }\n",
       "\n",
       "    .dataframe tbody tr th {\n",
       "        vertical-align: top;\n",
       "    }\n",
       "\n",
       "    .dataframe thead th {\n",
       "        text-align: right;\n",
       "    }\n",
       "</style>\n",
       "<table border=\"1\" class=\"dataframe\">\n",
       "  <thead>\n",
       "    <tr style=\"text-align: right;\">\n",
       "      <th></th>\n",
       "      <th>0</th>\n",
       "    </tr>\n",
       "  </thead>\n",
       "  <tbody>\n",
       "    <tr>\n",
       "      <th>userId</th>\n",
       "      <td>0</td>\n",
       "    </tr>\n",
       "    <tr>\n",
       "      <th>movieId</th>\n",
       "      <td>0</td>\n",
       "    </tr>\n",
       "  </tbody>\n",
       "</table>\n",
       "</div>"
      ],
      "text/plain": [
       "         0\n",
       "userId   0\n",
       "movieId  0"
      ]
     },
     "execution_count": 14,
     "metadata": {},
     "output_type": "execute_result"
    }
   ],
   "source": [
    "test_count"
   ]
  },
  {
   "cell_type": "code",
   "execution_count": 15,
   "metadata": {
    "execution": {
     "iopub.execute_input": "2020-12-08T11:05:14.752793Z",
     "iopub.status.busy": "2020-12-08T11:05:14.751666Z",
     "iopub.status.idle": "2020-12-08T11:05:15.053576Z",
     "shell.execute_reply": "2020-12-08T11:05:15.052814Z"
    },
    "papermill": {
     "duration": 0.370783,
     "end_time": "2020-12-08T11:05:15.053698",
     "exception": false,
     "start_time": "2020-12-08T11:05:14.682915",
     "status": "completed"
    },
    "tags": []
   },
   "outputs": [
    {
     "data": {
      "image/png": "[encoded data removed]",
      "text/plain": [
       "<Figure size 432x288 with 1 Axes>"
      ]
     },
     "metadata": {
      "needs_background": "light"
     },
     "output_type": "display_data"
    },
    {
     "data": {
      "text/html": [
       "<div>\n",
       "<style scoped>\n",
       "    .dataframe tbody tr th:only-of-type {\n",
       "        vertical-align: middle;\n",
       "    }\n",
       "\n",
       "    .dataframe tbody tr th {\n",
       "        vertical-align: top;\n",
       "    }\n",
       "\n",
       "    .dataframe thead th {\n",
       "        text-align: right;\n",
       "    }\n",
       "</style>\n",
       "<table border=\"1\" class=\"dataframe\">\n",
       "  <thead>\n",
       "    <tr style=\"text-align: right;\">\n",
       "      <th></th>\n",
       "      <th>userId</th>\n",
       "      <th>movieId</th>\n",
       "      <th>tag</th>\n",
       "      <th>timestamp</th>\n",
       "    </tr>\n",
       "  </thead>\n",
       "  <tbody>\n",
       "    <tr>\n",
       "      <th>860902</th>\n",
       "      <td>121710</td>\n",
       "      <td>33826</td>\n",
       "      <td>NaN</td>\n",
       "      <td>1221450908</td>\n",
       "    </tr>\n",
       "    <tr>\n",
       "      <th>976395</th>\n",
       "      <td>141727</td>\n",
       "      <td>123</td>\n",
       "      <td>NaN</td>\n",
       "      <td>1199450867</td>\n",
       "    </tr>\n",
       "    <tr>\n",
       "      <th>976396</th>\n",
       "      <td>141727</td>\n",
       "      <td>346</td>\n",
       "      <td>NaN</td>\n",
       "      <td>1199451946</td>\n",
       "    </tr>\n",
       "    <tr>\n",
       "      <th>976400</th>\n",
       "      <td>141727</td>\n",
       "      <td>1184</td>\n",
       "      <td>NaN</td>\n",
       "      <td>1199452261</td>\n",
       "    </tr>\n",
       "    <tr>\n",
       "      <th>976407</th>\n",
       "      <td>141727</td>\n",
       "      <td>1785</td>\n",
       "      <td>NaN</td>\n",
       "      <td>1199452006</td>\n",
       "    </tr>\n",
       "    <tr>\n",
       "      <th>976408</th>\n",
       "      <td>141727</td>\n",
       "      <td>2194</td>\n",
       "      <td>NaN</td>\n",
       "      <td>1199450677</td>\n",
       "    </tr>\n",
       "    <tr>\n",
       "      <th>976410</th>\n",
       "      <td>141727</td>\n",
       "      <td>2691</td>\n",
       "      <td>NaN</td>\n",
       "      <td>1199451002</td>\n",
       "    </tr>\n",
       "    <tr>\n",
       "      <th>976418</th>\n",
       "      <td>141727</td>\n",
       "      <td>4103</td>\n",
       "      <td>NaN</td>\n",
       "      <td>1199451920</td>\n",
       "    </tr>\n",
       "    <tr>\n",
       "      <th>976420</th>\n",
       "      <td>141727</td>\n",
       "      <td>4473</td>\n",
       "      <td>NaN</td>\n",
       "      <td>1199451040</td>\n",
       "    </tr>\n",
       "    <tr>\n",
       "      <th>976422</th>\n",
       "      <td>141727</td>\n",
       "      <td>4616</td>\n",
       "      <td>NaN</td>\n",
       "      <td>1199452441</td>\n",
       "    </tr>\n",
       "    <tr>\n",
       "      <th>976438</th>\n",
       "      <td>141727</td>\n",
       "      <td>7624</td>\n",
       "      <td>NaN</td>\n",
       "      <td>1199452266</td>\n",
       "    </tr>\n",
       "    <tr>\n",
       "      <th>976444</th>\n",
       "      <td>141727</td>\n",
       "      <td>8898</td>\n",
       "      <td>NaN</td>\n",
       "      <td>1199450757</td>\n",
       "    </tr>\n",
       "    <tr>\n",
       "      <th>976451</th>\n",
       "      <td>141727</td>\n",
       "      <td>32460</td>\n",
       "      <td>NaN</td>\n",
       "      <td>1199450901</td>\n",
       "    </tr>\n",
       "    <tr>\n",
       "      <th>976453</th>\n",
       "      <td>141727</td>\n",
       "      <td>33826</td>\n",
       "      <td>NaN</td>\n",
       "      <td>1199450703</td>\n",
       "    </tr>\n",
       "    <tr>\n",
       "      <th>976458</th>\n",
       "      <td>141727</td>\n",
       "      <td>36537</td>\n",
       "      <td>NaN</td>\n",
       "      <td>1199450736</td>\n",
       "    </tr>\n",
       "    <tr>\n",
       "      <th>976459</th>\n",
       "      <td>141727</td>\n",
       "      <td>55805</td>\n",
       "      <td>NaN</td>\n",
       "      <td>1199450941</td>\n",
       "    </tr>\n",
       "  </tbody>\n",
       "</table>\n",
       "</div>"
      ],
      "text/plain": [
       "        userId  movieId  tag   timestamp\n",
       "860902  121710    33826  NaN  1221450908\n",
       "976395  141727      123  NaN  1199450867\n",
       "976396  141727      346  NaN  1199451946\n",
       "976400  141727     1184  NaN  1199452261\n",
       "976407  141727     1785  NaN  1199452006\n",
       "976408  141727     2194  NaN  1199450677\n",
       "976410  141727     2691  NaN  1199451002\n",
       "976418  141727     4103  NaN  1199451920\n",
       "976420  141727     4473  NaN  1199451040\n",
       "976422  141727     4616  NaN  1199452441\n",
       "976438  141727     7624  NaN  1199452266\n",
       "976444  141727     8898  NaN  1199450757\n",
       "976451  141727    32460  NaN  1199450901\n",
       "976453  141727    33826  NaN  1199450703\n",
       "976458  141727    36537  NaN  1199450736\n",
       "976459  141727    55805  NaN  1199450941"
      ]
     },
     "execution_count": 15,
     "metadata": {},
     "output_type": "execute_result"
    }
   ],
   "source": [
    "plt.bar(tags_count.index,\n",
    "        tags_count.values.reshape(len(tags_count), ),\n",
    "        color='red')\n",
    "plt.xlabel('column_name')\n",
    "plt.ylabel('count')\n",
    "plt.title('Null value count in tags_df')\n",
    "plt.show()\n",
    "tags_df[tags_df.isnull().any(axis=1)]"
   ]
  },
  {
   "cell_type": "code",
   "execution_count": 16,
   "metadata": {
    "execution": {
     "iopub.execute_input": "2020-12-08T11:05:15.171988Z",
     "iopub.status.busy": "2020-12-08T11:05:15.171109Z",
     "iopub.status.idle": "2020-12-08T11:05:15.175371Z",
     "shell.execute_reply": "2020-12-08T11:05:15.174655Z"
    },
    "papermill": {
     "duration": 0.066943,
     "end_time": "2020-12-08T11:05:15.175522",
     "exception": false,
     "start_time": "2020-12-08T11:05:15.108579",
     "status": "completed"
    },
    "tags": []
   },
   "outputs": [
    {
     "data": {
      "text/html": [
       "<div>\n",
       "<style scoped>\n",
       "    .dataframe tbody tr th:only-of-type {\n",
       "        vertical-align: middle;\n",
       "    }\n",
       "\n",
       "    .dataframe tbody tr th {\n",
       "        vertical-align: top;\n",
       "    }\n",
       "\n",
       "    .dataframe thead th {\n",
       "        text-align: right;\n",
       "    }\n",
       "</style>\n",
       "<table border=\"1\" class=\"dataframe\">\n",
       "  <thead>\n",
       "    <tr style=\"text-align: right;\">\n",
       "      <th></th>\n",
       "      <th>0</th>\n",
       "    </tr>\n",
       "  </thead>\n",
       "  <tbody>\n",
       "    <tr>\n",
       "      <th>movieId</th>\n",
       "      <td>0</td>\n",
       "    </tr>\n",
       "    <tr>\n",
       "      <th>title</th>\n",
       "      <td>0</td>\n",
       "    </tr>\n",
       "    <tr>\n",
       "      <th>genres</th>\n",
       "      <td>0</td>\n",
       "    </tr>\n",
       "  </tbody>\n",
       "</table>\n",
       "</div>"
      ],
      "text/plain": [
       "         0\n",
       "movieId  0\n",
       "title    0\n",
       "genres   0"
      ]
     },
     "execution_count": 16,
     "metadata": {},
     "output_type": "execute_result"
    }
   ],
   "source": [
    "movies_count"
   ]
  },
  {
   "cell_type": "code",
   "execution_count": 17,
   "metadata": {
    "execution": {
     "iopub.execute_input": "2020-12-08T11:05:15.296041Z",
     "iopub.status.busy": "2020-12-08T11:05:15.294909Z",
     "iopub.status.idle": "2020-12-08T11:05:15.299616Z",
     "shell.execute_reply": "2020-12-08T11:05:15.299006Z"
    },
    "papermill": {
     "duration": 0.06837,
     "end_time": "2020-12-08T11:05:15.299736",
     "exception": false,
     "start_time": "2020-12-08T11:05:15.231366",
     "status": "completed"
    },
    "tags": []
   },
   "outputs": [
    {
     "data": {
      "text/html": [
       "<div>\n",
       "<style scoped>\n",
       "    .dataframe tbody tr th:only-of-type {\n",
       "        vertical-align: middle;\n",
       "    }\n",
       "\n",
       "    .dataframe tbody tr th {\n",
       "        vertical-align: top;\n",
       "    }\n",
       "\n",
       "    .dataframe thead th {\n",
       "        text-align: right;\n",
       "    }\n",
       "</style>\n",
       "<table border=\"1\" class=\"dataframe\">\n",
       "  <thead>\n",
       "    <tr style=\"text-align: right;\">\n",
       "      <th></th>\n",
       "      <th>0</th>\n",
       "    </tr>\n",
       "  </thead>\n",
       "  <tbody>\n",
       "    <tr>\n",
       "      <th>movieId</th>\n",
       "      <td>0</td>\n",
       "    </tr>\n",
       "    <tr>\n",
       "      <th>imdbId</th>\n",
       "      <td>0</td>\n",
       "    </tr>\n",
       "    <tr>\n",
       "      <th>tmdbId</th>\n",
       "      <td>107</td>\n",
       "    </tr>\n",
       "  </tbody>\n",
       "</table>\n",
       "</div>"
      ],
      "text/plain": [
       "           0\n",
       "movieId    0\n",
       "imdbId     0\n",
       "tmdbId   107"
      ]
     },
     "execution_count": 17,
     "metadata": {},
     "output_type": "execute_result"
    }
   ],
   "source": [
    "links_count"
   ]
  },
  {
   "cell_type": "code",
   "execution_count": 18,
   "metadata": {
    "execution": {
     "iopub.execute_input": "2020-12-08T11:05:15.427616Z",
     "iopub.status.busy": "2020-12-08T11:05:15.426034Z",
     "iopub.status.idle": "2020-12-08T11:05:15.595858Z",
     "shell.execute_reply": "2020-12-08T11:05:15.595055Z"
    },
    "papermill": {
     "duration": 0.240176,
     "end_time": "2020-12-08T11:05:15.595989",
     "exception": false,
     "start_time": "2020-12-08T11:05:15.355813",
     "status": "completed"
    },
    "tags": []
   },
   "outputs": [
    {
     "data": {
      "image/png": "[encoded data removed]",
      "text/plain": [
       "<Figure size 432x288 with 1 Axes>"
      ]
     },
     "metadata": {
      "needs_background": "light"
     },
     "output_type": "display_data"
    }
   ],
   "source": [
    "plt.bar(imdb_count.index,\n",
    "        imdb_count.values.reshape(len(imdb_count), ),\n",
    "        color='orange')\n",
    "plt.xlabel('column_name')\n",
    "plt.ylabel('count')\n",
    "plt.title('Null value count in imdb_df')\n",
    "plt.show()"
   ]
  },
  {
   "cell_type": "code",
   "execution_count": 19,
   "metadata": {
    "execution": {
     "iopub.execute_input": "2020-12-08T11:05:15.719001Z",
     "iopub.status.busy": "2020-12-08T11:05:15.718024Z",
     "iopub.status.idle": "2020-12-08T11:05:15.723114Z",
     "shell.execute_reply": "2020-12-08T11:05:15.722352Z"
    },
    "papermill": {
     "duration": 0.070178,
     "end_time": "2020-12-08T11:05:15.723233",
     "exception": false,
     "start_time": "2020-12-08T11:05:15.653055",
     "status": "completed"
    },
    "tags": []
   },
   "outputs": [
    {
     "data": {
      "text/html": [
       "<div>\n",
       "<style scoped>\n",
       "    .dataframe tbody tr th:only-of-type {\n",
       "        vertical-align: middle;\n",
       "    }\n",
       "\n",
       "    .dataframe tbody tr th {\n",
       "        vertical-align: top;\n",
       "    }\n",
       "\n",
       "    .dataframe thead th {\n",
       "        text-align: right;\n",
       "    }\n",
       "</style>\n",
       "<table border=\"1\" class=\"dataframe\">\n",
       "  <thead>\n",
       "    <tr style=\"text-align: right;\">\n",
       "      <th></th>\n",
       "      <th>0</th>\n",
       "    </tr>\n",
       "  </thead>\n",
       "  <tbody>\n",
       "    <tr>\n",
       "      <th>tagId</th>\n",
       "      <td>0</td>\n",
       "    </tr>\n",
       "    <tr>\n",
       "      <th>tag</th>\n",
       "      <td>0</td>\n",
       "    </tr>\n",
       "  </tbody>\n",
       "</table>\n",
       "</div>"
      ],
      "text/plain": [
       "       0\n",
       "tagId  0\n",
       "tag    0"
      ]
     },
     "execution_count": 19,
     "metadata": {},
     "output_type": "execute_result"
    }
   ],
   "source": [
    "genomet_count"
   ]
  },
  {
   "cell_type": "code",
   "execution_count": 20,
   "metadata": {
    "execution": {
     "iopub.execute_input": "2020-12-08T11:05:15.848307Z",
     "iopub.status.busy": "2020-12-08T11:05:15.847077Z",
     "iopub.status.idle": "2020-12-08T11:05:15.851278Z",
     "shell.execute_reply": "2020-12-08T11:05:15.851824Z"
    },
    "papermill": {
     "duration": 0.070989,
     "end_time": "2020-12-08T11:05:15.851986",
     "exception": false,
     "start_time": "2020-12-08T11:05:15.780997",
     "status": "completed"
    },
    "tags": []
   },
   "outputs": [
    {
     "data": {
      "text/html": [
       "<div>\n",
       "<style scoped>\n",
       "    .dataframe tbody tr th:only-of-type {\n",
       "        vertical-align: middle;\n",
       "    }\n",
       "\n",
       "    .dataframe tbody tr th {\n",
       "        vertical-align: top;\n",
       "    }\n",
       "\n",
       "    .dataframe thead th {\n",
       "        text-align: right;\n",
       "    }\n",
       "</style>\n",
       "<table border=\"1\" class=\"dataframe\">\n",
       "  <thead>\n",
       "    <tr style=\"text-align: right;\">\n",
       "      <th></th>\n",
       "      <th>0</th>\n",
       "    </tr>\n",
       "  </thead>\n",
       "  <tbody>\n",
       "    <tr>\n",
       "      <th>movieId</th>\n",
       "      <td>0</td>\n",
       "    </tr>\n",
       "    <tr>\n",
       "      <th>tagId</th>\n",
       "      <td>0</td>\n",
       "    </tr>\n",
       "    <tr>\n",
       "      <th>relevance</th>\n",
       "      <td>0</td>\n",
       "    </tr>\n",
       "  </tbody>\n",
       "</table>\n",
       "</div>"
      ],
      "text/plain": [
       "           0\n",
       "movieId    0\n",
       "tagId      0\n",
       "relevance  0"
      ]
     },
     "execution_count": 20,
     "metadata": {},
     "output_type": "execute_result"
    }
   ],
   "source": [
    "genomes_count"
   ]
  },
  {
   "cell_type": "markdown",
   "metadata": {
    "papermill": {
     "duration": 0.058331,
     "end_time": "2020-12-08T11:05:15.969374",
     "exception": false,
     "start_time": "2020-12-08T11:05:15.911043",
     "status": "completed"
    },
    "tags": []
   },
   "source": [
    "### Exploring Movie Genres"
   ]
  },
  {
   "cell_type": "code",
   "execution_count": 21,
   "metadata": {
    "execution": {
     "iopub.execute_input": "2020-12-08T11:05:16.101129Z",
     "iopub.status.busy": "2020-12-08T11:05:16.100372Z",
     "iopub.status.idle": "2020-12-08T11:05:16.287751Z",
     "shell.execute_reply": "2020-12-08T11:05:16.287109Z"
    },
    "papermill": {
     "duration": 0.260112,
     "end_time": "2020-12-08T11:05:16.287884",
     "exception": false,
     "start_time": "2020-12-08T11:05:16.027772",
     "status": "completed"
    },
    "tags": []
   },
   "outputs": [],
   "source": [
    "genres = pd.DataFrame(movies_df['genres'].\n",
    "                      str.split(\"|\").\n",
    "                      tolist(),\n",
    "                      index=movies_df['movieId']).stack()\n",
    "genres = genres.reset_index([0, 'movieId'])\n",
    "genres.columns = ['movieId', 'Genre']\n"
   ]
  },
  {
   "cell_type": "code",
   "execution_count": 22,
   "metadata": {
    "execution": {
     "iopub.execute_input": "2020-12-08T11:05:16.416306Z",
     "iopub.status.busy": "2020-12-08T11:05:16.415164Z",
     "iopub.status.idle": "2020-12-08T11:05:16.419172Z",
     "shell.execute_reply": "2020-12-08T11:05:16.419903Z"
    },
    "papermill": {
     "duration": 0.073217,
     "end_time": "2020-12-08T11:05:16.420059",
     "exception": false,
     "start_time": "2020-12-08T11:05:16.346842",
     "status": "completed"
    },
    "tags": []
   },
   "outputs": [
    {
     "data": {
      "text/html": [
       "<div>\n",
       "<style scoped>\n",
       "    .dataframe tbody tr th:only-of-type {\n",
       "        vertical-align: middle;\n",
       "    }\n",
       "\n",
       "    .dataframe tbody tr th {\n",
       "        vertical-align: top;\n",
       "    }\n",
       "\n",
       "    .dataframe thead th {\n",
       "        text-align: right;\n",
       "    }\n",
       "</style>\n",
       "<table border=\"1\" class=\"dataframe\">\n",
       "  <thead>\n",
       "    <tr style=\"text-align: right;\">\n",
       "      <th></th>\n",
       "      <th>movieId</th>\n",
       "      <th>Genre</th>\n",
       "    </tr>\n",
       "  </thead>\n",
       "  <tbody>\n",
       "    <tr>\n",
       "      <th>0</th>\n",
       "      <td>1</td>\n",
       "      <td>Adventure</td>\n",
       "    </tr>\n",
       "    <tr>\n",
       "      <th>1</th>\n",
       "      <td>1</td>\n",
       "      <td>Animation</td>\n",
       "    </tr>\n",
       "    <tr>\n",
       "      <th>2</th>\n",
       "      <td>1</td>\n",
       "      <td>Children</td>\n",
       "    </tr>\n",
       "    <tr>\n",
       "      <th>3</th>\n",
       "      <td>1</td>\n",
       "      <td>Comedy</td>\n",
       "    </tr>\n",
       "    <tr>\n",
       "      <th>4</th>\n",
       "      <td>1</td>\n",
       "      <td>Fantasy</td>\n",
       "    </tr>\n",
       "  </tbody>\n",
       "</table>\n",
       "</div>"
      ],
      "text/plain": [
       "   movieId      Genre\n",
       "0        1  Adventure\n",
       "1        1  Animation\n",
       "2        1   Children\n",
       "3        1     Comedy\n",
       "4        1    Fantasy"
      ]
     },
     "execution_count": 22,
     "metadata": {},
     "output_type": "execute_result"
    }
   ],
   "source": [
    "genres.head()"
   ]
  },
  {
   "cell_type": "code",
   "execution_count": 23,
   "metadata": {
    "execution": {
     "iopub.execute_input": "2020-12-08T11:05:16.553843Z",
     "iopub.status.busy": "2020-12-08T11:05:16.548187Z",
     "iopub.status.idle": "2020-12-08T11:05:17.043566Z",
     "shell.execute_reply": "2020-12-08T11:05:17.042805Z"
    },
    "papermill": {
     "duration": 0.564373,
     "end_time": "2020-12-08T11:05:17.043689",
     "exception": false,
     "start_time": "2020-12-08T11:05:16.479316",
     "status": "completed"
    },
    "tags": []
   },
   "outputs": [
    {
     "data": {
      "image/png": "[encoded data removed]",
      "text/plain": [
       "<Figure size 1008x504 with 1 Axes>"
      ]
     },
     "metadata": {
      "needs_background": "light"
     },
     "output_type": "display_data"
    }
   ],
   "source": [
    "fig, ax = plt.subplots(figsize=(14, 7))\n",
    "sns.countplot(x='Genre',\n",
    "              data=genres,\n",
    "              palette='CMRmap',\n",
    "              order=genres['Genre'].\n",
    "              value_counts().index)\n",
    "plt.xticks(rotation=90)\n",
    "plt.xlabel('Genre', size=20)\n",
    "plt.ylabel('Count', size=20)\n",
    "plt.title('Distribution of Movie Genres', size=25)\n",
    "plt.show()"
   ]
  },
  {
   "cell_type": "markdown",
   "metadata": {
    "papermill": {
     "duration": 0.059818,
     "end_time": "2020-12-08T11:05:17.163716",
     "exception": false,
     "start_time": "2020-12-08T11:05:17.103898",
     "status": "completed"
    },
    "tags": []
   },
   "source": [
    "### Word Clouds"
   ]
  },
  {
   "cell_type": "code",
   "execution_count": 24,
   "metadata": {
    "execution": {
     "iopub.execute_input": "2020-12-08T11:05:17.312243Z",
     "iopub.status.busy": "2020-12-08T11:05:17.307318Z",
     "iopub.status.idle": "2020-12-08T11:05:36.560160Z",
     "shell.execute_reply": "2020-12-08T11:05:36.560948Z"
    },
    "papermill": {
     "duration": 19.33617,
     "end_time": "2020-12-08T11:05:36.561140",
     "exception": false,
     "start_time": "2020-12-08T11:05:17.224970",
     "status": "completed"
    },
    "tags": []
   },
   "outputs": [
    {
     "data": {
      "image/png": "[encoded data removed]",
      "text/plain": [
       "<Figure size 576x576 with 1 Axes>"
      ]
     },
     "metadata": {
      "needs_background": "light"
     },
     "output_type": "display_data"
    }
   ],
   "source": [
    "comment_words = ''\n",
    "stopwords = set(STOPWORDS)\n",
    "\n",
    "# iterate through the csv file\n",
    "for val in tags_df['tag']:\n",
    "\n",
    "    # typecaste each val to string\n",
    "    val = str(val)\n",
    "\n",
    "    # split the value\n",
    "    tokens = val.split()\n",
    "\n",
    "    # Converts each token into lowercase\n",
    "    for i in range(len(tokens)):\n",
    "        tokens[i] = tokens[i].lower()\n",
    "\n",
    "    comment_words += \" \".join(tokens)+\" \"\n",
    "  \n",
    "wordcloud = WordCloud(width=800, height=800,\n",
    "                      background_color='yellow',\n",
    "                      stopwords=stopwords,\n",
    "                      min_font_size=10).generate(comment_words)\n",
    "\n",
    "# plot the WordCloud image\n",
    "plt.figure(figsize=(8, 8), facecolor=None)\n",
    "plt.imshow(wordcloud)\n",
    "plt.axis(\"off\")\n",
    "plt.title('Distribution of words in the tags data frame by Tags')\n",
    "plt.tight_layout(pad=0)\n",
    "\n",
    "plt.show()\n"
   ]
  },
  {
   "cell_type": "code",
   "execution_count": 25,
   "metadata": {
    "execution": {
     "iopub.execute_input": "2020-12-08T11:05:36.948563Z",
     "iopub.status.busy": "2020-12-08T11:05:36.947769Z",
     "iopub.status.idle": "2020-12-08T11:05:37.107380Z",
     "shell.execute_reply": "2020-12-08T11:05:37.106634Z"
    },
    "papermill": {
     "duration": 0.476581,
     "end_time": "2020-12-08T11:05:37.107523",
     "exception": false,
     "start_time": "2020-12-08T11:05:36.630942",
     "status": "completed"
    },
    "tags": []
   },
   "outputs": [],
   "source": [
    "value_count = pd.DataFrame(tags_df['tag'].\n",
    "                           value_counts()).reset_index()\n",
    "value_count.rename(columns = {'index': 'genre', 'tag': 'count'},\n",
    "                   inplace = True)"
   ]
  },
  {
   "cell_type": "code",
   "execution_count": 26,
   "metadata": {
    "execution": {
     "iopub.execute_input": "2020-12-08T11:05:37.255938Z",
     "iopub.status.busy": "2020-12-08T11:05:37.254957Z",
     "iopub.status.idle": "2020-12-08T11:05:37.260034Z",
     "shell.execute_reply": "2020-12-08T11:05:37.259390Z"
    },
    "papermill": {
     "duration": 0.084245,
     "end_time": "2020-12-08T11:05:37.260153",
     "exception": false,
     "start_time": "2020-12-08T11:05:37.175908",
     "status": "completed"
    },
    "tags": []
   },
   "outputs": [
    {
     "data": {
      "text/html": [
       "<div>\n",
       "<style scoped>\n",
       "    .dataframe tbody tr th:only-of-type {\n",
       "        vertical-align: middle;\n",
       "    }\n",
       "\n",
       "    .dataframe tbody tr th {\n",
       "        vertical-align: top;\n",
       "    }\n",
       "\n",
       "    .dataframe thead th {\n",
       "        text-align: right;\n",
       "    }\n",
       "</style>\n",
       "<table border=\"1\" class=\"dataframe\">\n",
       "  <thead>\n",
       "    <tr style=\"text-align: right;\">\n",
       "      <th></th>\n",
       "      <th>genre</th>\n",
       "      <th>count</th>\n",
       "    </tr>\n",
       "  </thead>\n",
       "  <tbody>\n",
       "    <tr>\n",
       "      <th>0</th>\n",
       "      <td>sci-fi</td>\n",
       "      <td>8330</td>\n",
       "    </tr>\n",
       "    <tr>\n",
       "      <th>1</th>\n",
       "      <td>atmospheric</td>\n",
       "      <td>6516</td>\n",
       "    </tr>\n",
       "    <tr>\n",
       "      <th>2</th>\n",
       "      <td>action</td>\n",
       "      <td>5907</td>\n",
       "    </tr>\n",
       "    <tr>\n",
       "      <th>3</th>\n",
       "      <td>comedy</td>\n",
       "      <td>5702</td>\n",
       "    </tr>\n",
       "    <tr>\n",
       "      <th>4</th>\n",
       "      <td>surreal</td>\n",
       "      <td>5326</td>\n",
       "    </tr>\n",
       "  </tbody>\n",
       "</table>\n",
       "</div>"
      ],
      "text/plain": [
       "         genre  count\n",
       "0       sci-fi   8330\n",
       "1  atmospheric   6516\n",
       "2       action   5907\n",
       "3       comedy   5702\n",
       "4      surreal   5326"
      ]
     },
     "execution_count": 26,
     "metadata": {},
     "output_type": "execute_result"
    }
   ],
   "source": [
    "value_count.head()"
   ]
  },
  {
   "cell_type": "markdown",
   "metadata": {
    "papermill": {
     "duration": 0.068468,
     "end_time": "2020-12-08T11:05:37.397501",
     "exception": false,
     "start_time": "2020-12-08T11:05:37.329033",
     "status": "completed"
    },
    "tags": []
   },
   "source": [
    "### Publishing Years"
   ]
  },
  {
   "cell_type": "code",
   "execution_count": 27,
   "metadata": {
    "execution": {
     "iopub.execute_input": "2020-12-08T11:05:37.552547Z",
     "iopub.status.busy": "2020-12-08T11:05:37.547169Z",
     "iopub.status.idle": "2020-12-08T11:05:37.647981Z",
     "shell.execute_reply": "2020-12-08T11:05:37.648572Z"
    },
    "papermill": {
     "duration": 0.180455,
     "end_time": "2020-12-08T11:05:37.648752",
     "exception": false,
     "start_time": "2020-12-08T11:05:37.468297",
     "status": "completed"
    },
    "tags": []
   },
   "outputs": [],
   "source": [
    "dates = []\n",
    "for title in movies_df['title']:\n",
    "    if title[-1] == \" \":\n",
    "        year = title[-6: -2]\n",
    "        try:\n",
    "            dates.append(int(year))\n",
    "        except:\n",
    "            dates.append(9999)\n",
    "    else:\n",
    "        year = title[-5: -1]\n",
    "        try:\n",
    "            dates.append(int(year))\n",
    "        except:\n",
    "            dates.append(9999)\n",
    "\n",
    "movies_df['Publish Year'] = dates\n"
   ]
  },
  {
   "cell_type": "code",
   "execution_count": 28,
   "metadata": {
    "execution": {
     "iopub.execute_input": "2020-12-08T11:05:37.805826Z",
     "iopub.status.busy": "2020-12-08T11:05:37.800630Z",
     "iopub.status.idle": "2020-12-08T11:05:37.900060Z",
     "shell.execute_reply": "2020-12-08T11:05:37.899430Z"
    },
    "papermill": {
     "duration": 0.180167,
     "end_time": "2020-12-08T11:05:37.900197",
     "exception": false,
     "start_time": "2020-12-08T11:05:37.720030",
     "status": "completed"
    },
    "tags": []
   },
   "outputs": [],
   "source": [
    "dates = []\n",
    "for title in movies_df['title']:\n",
    "    if title[-1] == \" \":\n",
    "        year = title[-6: -2]\n",
    "        try:\n",
    "            dates.append(int(year))\n",
    "        except:\n",
    "            dates.append(9999)\n",
    "    else:\n",
    "        year = title[-5: -1]\n",
    "        try:\n",
    "            dates.append(int(year))\n",
    "        except:\n",
    "            dates.append(9999)\n",
    "\n",
    "movies_df['Publish Year'] = dates\n",
    "\n"
   ]
  },
  {
   "cell_type": "code",
   "execution_count": 29,
   "metadata": {
    "execution": {
     "iopub.execute_input": "2020-12-08T11:05:38.050716Z",
     "iopub.status.busy": "2020-12-08T11:05:38.049581Z",
     "iopub.status.idle": "2020-12-08T11:05:38.054196Z",
     "shell.execute_reply": "2020-12-08T11:05:38.053428Z"
    },
    "papermill": {
     "duration": 0.083631,
     "end_time": "2020-12-08T11:05:38.054328",
     "exception": false,
     "start_time": "2020-12-08T11:05:37.970697",
     "status": "completed"
    },
    "tags": []
   },
   "outputs": [
    {
     "data": {
      "text/plain": [
       "62423"
      ]
     },
     "execution_count": 29,
     "metadata": {},
     "output_type": "execute_result"
    }
   ],
   "source": [
    "len(movies_df)"
   ]
  },
  {
   "cell_type": "code",
   "execution_count": 30,
   "metadata": {
    "execution": {
     "iopub.execute_input": "2020-12-08T11:05:38.203322Z",
     "iopub.status.busy": "2020-12-08T11:05:38.202545Z",
     "iopub.status.idle": "2020-12-08T11:05:38.214673Z",
     "shell.execute_reply": "2020-12-08T11:05:38.215378Z"
    },
    "papermill": {
     "duration": 0.09039,
     "end_time": "2020-12-08T11:05:38.215554",
     "exception": false,
     "start_time": "2020-12-08T11:05:38.125164",
     "status": "completed"
    },
    "tags": []
   },
   "outputs": [
    {
     "data": {
      "text/html": [
       "<div>\n",
       "<style scoped>\n",
       "    .dataframe tbody tr th:only-of-type {\n",
       "        vertical-align: middle;\n",
       "    }\n",
       "\n",
       "    .dataframe tbody tr th {\n",
       "        vertical-align: top;\n",
       "    }\n",
       "\n",
       "    .dataframe thead th {\n",
       "        text-align: right;\n",
       "    }\n",
       "</style>\n",
       "<table border=\"1\" class=\"dataframe\">\n",
       "  <thead>\n",
       "    <tr style=\"text-align: right;\">\n",
       "      <th></th>\n",
       "      <th>movieId</th>\n",
       "      <th>title</th>\n",
       "      <th>genres</th>\n",
       "      <th>Publish Year</th>\n",
       "    </tr>\n",
       "  </thead>\n",
       "  <tbody>\n",
       "    <tr>\n",
       "      <th>15036</th>\n",
       "      <td>79607</td>\n",
       "      <td>Millions Game, The (Das Millionenspiel)</td>\n",
       "      <td>Action|Drama|Sci-Fi|Thriller</td>\n",
       "      <td>9999</td>\n",
       "    </tr>\n",
       "    <tr>\n",
       "      <th>18789</th>\n",
       "      <td>98063</td>\n",
       "      <td>Mona and the Time of Burning Love (Mona ja pal...</td>\n",
       "      <td>Drama</td>\n",
       "      <td>9999</td>\n",
       "    </tr>\n",
       "    <tr>\n",
       "      <th>25387</th>\n",
       "      <td>123619</td>\n",
       "      <td>Terrible Joe Moran</td>\n",
       "      <td>(no genres listed)</td>\n",
       "      <td>9999</td>\n",
       "    </tr>\n",
       "    <tr>\n",
       "      <th>26284</th>\n",
       "      <td>125571</td>\n",
       "      <td>The Court-Martial of Jackie Robinson</td>\n",
       "      <td>(no genres listed)</td>\n",
       "      <td>9999</td>\n",
       "    </tr>\n",
       "    <tr>\n",
       "      <th>26309</th>\n",
       "      <td>125632</td>\n",
       "      <td>In Our Garden</td>\n",
       "      <td>(no genres listed)</td>\n",
       "      <td>9999</td>\n",
       "    </tr>\n",
       "  </tbody>\n",
       "</table>\n",
       "</div>"
      ],
      "text/plain": [
       "       movieId                                              title  \\\n",
       "15036    79607            Millions Game, The (Das Millionenspiel)   \n",
       "18789    98063  Mona and the Time of Burning Love (Mona ja pal...   \n",
       "25387   123619                                 Terrible Joe Moran   \n",
       "26284   125571               The Court-Martial of Jackie Robinson   \n",
       "26309   125632                                      In Our Garden   \n",
       "\n",
       "                             genres  Publish Year  \n",
       "15036  Action|Drama|Sci-Fi|Thriller          9999  \n",
       "18789                         Drama          9999  \n",
       "25387            (no genres listed)          9999  \n",
       "26284            (no genres listed)          9999  \n",
       "26309            (no genres listed)          9999  "
      ]
     },
     "execution_count": 30,
     "metadata": {},
     "output_type": "execute_result"
    }
   ],
   "source": [
    "movies_df[movies_df['Publish Year'] == 9999].head()"
   ]
  },
  {
   "cell_type": "code",
   "execution_count": 31,
   "metadata": {
    "execution": {
     "iopub.execute_input": "2020-12-08T11:05:38.366741Z",
     "iopub.status.busy": "2020-12-08T11:05:38.365940Z",
     "iopub.status.idle": "2020-12-08T11:05:38.386674Z",
     "shell.execute_reply": "2020-12-08T11:05:38.387390Z"
    },
    "papermill": {
     "duration": 0.098086,
     "end_time": "2020-12-08T11:05:38.387564",
     "exception": false,
     "start_time": "2020-12-08T11:05:38.289478",
     "status": "completed"
    },
    "tags": []
   },
   "outputs": [
    {
     "data": {
      "text/html": [
       "<div>\n",
       "<style scoped>\n",
       "    .dataframe tbody tr th:only-of-type {\n",
       "        vertical-align: middle;\n",
       "    }\n",
       "\n",
       "    .dataframe tbody tr th {\n",
       "        vertical-align: top;\n",
       "    }\n",
       "\n",
       "    .dataframe thead th {\n",
       "        text-align: right;\n",
       "    }\n",
       "</style>\n",
       "<table border=\"1\" class=\"dataframe\">\n",
       "  <thead>\n",
       "    <tr style=\"text-align: right;\">\n",
       "      <th></th>\n",
       "      <th>movieId</th>\n",
       "      <th>title</th>\n",
       "      <th>genres</th>\n",
       "      <th>Publish Year</th>\n",
       "    </tr>\n",
       "  </thead>\n",
       "  <tbody>\n",
       "    <tr>\n",
       "      <th>0</th>\n",
       "      <td>1</td>\n",
       "      <td>Toy Story (1995)</td>\n",
       "      <td>Adventure|Animation|Children|Comedy|Fantasy</td>\n",
       "      <td>1995</td>\n",
       "    </tr>\n",
       "    <tr>\n",
       "      <th>1</th>\n",
       "      <td>2</td>\n",
       "      <td>Jumanji (1995)</td>\n",
       "      <td>Adventure|Children|Fantasy</td>\n",
       "      <td>1995</td>\n",
       "    </tr>\n",
       "    <tr>\n",
       "      <th>2</th>\n",
       "      <td>3</td>\n",
       "      <td>Grumpier Old Men (1995)</td>\n",
       "      <td>Comedy|Romance</td>\n",
       "      <td>1995</td>\n",
       "    </tr>\n",
       "    <tr>\n",
       "      <th>3</th>\n",
       "      <td>4</td>\n",
       "      <td>Waiting to Exhale (1995)</td>\n",
       "      <td>Comedy|Drama|Romance</td>\n",
       "      <td>1995</td>\n",
       "    </tr>\n",
       "    <tr>\n",
       "      <th>4</th>\n",
       "      <td>5</td>\n",
       "      <td>Father of the Bride Part II (1995)</td>\n",
       "      <td>Comedy</td>\n",
       "      <td>1995</td>\n",
       "    </tr>\n",
       "    <tr>\n",
       "      <th>...</th>\n",
       "      <td>...</td>\n",
       "      <td>...</td>\n",
       "      <td>...</td>\n",
       "      <td>...</td>\n",
       "    </tr>\n",
       "    <tr>\n",
       "      <th>62418</th>\n",
       "      <td>209157</td>\n",
       "      <td>We (2018)</td>\n",
       "      <td>Drama</td>\n",
       "      <td>2018</td>\n",
       "    </tr>\n",
       "    <tr>\n",
       "      <th>62419</th>\n",
       "      <td>209159</td>\n",
       "      <td>Window of the Soul (2001)</td>\n",
       "      <td>Documentary</td>\n",
       "      <td>2001</td>\n",
       "    </tr>\n",
       "    <tr>\n",
       "      <th>62420</th>\n",
       "      <td>209163</td>\n",
       "      <td>Bad Poems (2018)</td>\n",
       "      <td>Comedy|Drama</td>\n",
       "      <td>2018</td>\n",
       "    </tr>\n",
       "    <tr>\n",
       "      <th>62421</th>\n",
       "      <td>209169</td>\n",
       "      <td>A Girl Thing (2001)</td>\n",
       "      <td>(no genres listed)</td>\n",
       "      <td>2001</td>\n",
       "    </tr>\n",
       "    <tr>\n",
       "      <th>62422</th>\n",
       "      <td>209171</td>\n",
       "      <td>Women of Devil's Island (1962)</td>\n",
       "      <td>Action|Adventure|Drama</td>\n",
       "      <td>1962</td>\n",
       "    </tr>\n",
       "  </tbody>\n",
       "</table>\n",
       "<p>62003 rows × 4 columns</p>\n",
       "</div>"
      ],
      "text/plain": [
       "       movieId                               title  \\\n",
       "0            1                    Toy Story (1995)   \n",
       "1            2                      Jumanji (1995)   \n",
       "2            3             Grumpier Old Men (1995)   \n",
       "3            4            Waiting to Exhale (1995)   \n",
       "4            5  Father of the Bride Part II (1995)   \n",
       "...        ...                                 ...   \n",
       "62418   209157                           We (2018)   \n",
       "62419   209159           Window of the Soul (2001)   \n",
       "62420   209163                    Bad Poems (2018)   \n",
       "62421   209169                 A Girl Thing (2001)   \n",
       "62422   209171      Women of Devil's Island (1962)   \n",
       "\n",
       "                                            genres  Publish Year  \n",
       "0      Adventure|Animation|Children|Comedy|Fantasy          1995  \n",
       "1                       Adventure|Children|Fantasy          1995  \n",
       "2                                   Comedy|Romance          1995  \n",
       "3                             Comedy|Drama|Romance          1995  \n",
       "4                                           Comedy          1995  \n",
       "...                                            ...           ...  \n",
       "62418                                        Drama          2018  \n",
       "62419                                  Documentary          2001  \n",
       "62420                                 Comedy|Drama          2018  \n",
       "62421                           (no genres listed)          2001  \n",
       "62422                       Action|Adventure|Drama          1962  \n",
       "\n",
       "[62003 rows x 4 columns]"
      ]
     },
     "execution_count": 31,
     "metadata": {},
     "output_type": "execute_result"
    }
   ],
   "source": [
    "movies_df[(movies_df['Publish Year'] > 1888) &\n",
    "          (movies_df['Publish Year'] < 2021)]"
   ]
  },
  {
   "cell_type": "code",
   "execution_count": 32,
   "metadata": {
    "execution": {
     "iopub.execute_input": "2020-12-08T11:05:38.539340Z",
     "iopub.status.busy": "2020-12-08T11:05:38.538591Z",
     "iopub.status.idle": "2020-12-08T11:05:38.557323Z",
     "shell.execute_reply": "2020-12-08T11:05:38.556584Z"
    },
    "papermill": {
     "duration": 0.097441,
     "end_time": "2020-12-08T11:05:38.557458",
     "exception": false,
     "start_time": "2020-12-08T11:05:38.460017",
     "status": "completed"
    },
    "tags": []
   },
   "outputs": [
    {
     "data": {
      "text/html": [
       "<div>\n",
       "<style scoped>\n",
       "    .dataframe tbody tr th:only-of-type {\n",
       "        vertical-align: middle;\n",
       "    }\n",
       "\n",
       "    .dataframe tbody tr th {\n",
       "        vertical-align: top;\n",
       "    }\n",
       "\n",
       "    .dataframe thead th {\n",
       "        text-align: right;\n",
       "    }\n",
       "</style>\n",
       "<table border=\"1\" class=\"dataframe\">\n",
       "  <thead>\n",
       "    <tr style=\"text-align: right;\">\n",
       "      <th></th>\n",
       "      <th>year</th>\n",
       "      <th>count</th>\n",
       "    </tr>\n",
       "  </thead>\n",
       "  <tbody>\n",
       "    <tr>\n",
       "      <th>0</th>\n",
       "      <td>2015</td>\n",
       "      <td>2513</td>\n",
       "    </tr>\n",
       "    <tr>\n",
       "      <th>1</th>\n",
       "      <td>2016</td>\n",
       "      <td>2488</td>\n",
       "    </tr>\n",
       "    <tr>\n",
       "      <th>2</th>\n",
       "      <td>2014</td>\n",
       "      <td>2406</td>\n",
       "    </tr>\n",
       "    <tr>\n",
       "      <th>3</th>\n",
       "      <td>2017</td>\n",
       "      <td>2374</td>\n",
       "    </tr>\n",
       "    <tr>\n",
       "      <th>4</th>\n",
       "      <td>2013</td>\n",
       "      <td>2173</td>\n",
       "    </tr>\n",
       "    <tr>\n",
       "      <th>5</th>\n",
       "      <td>2018</td>\n",
       "      <td>2034</td>\n",
       "    </tr>\n",
       "    <tr>\n",
       "      <th>6</th>\n",
       "      <td>2012</td>\n",
       "      <td>1978</td>\n",
       "    </tr>\n",
       "    <tr>\n",
       "      <th>7</th>\n",
       "      <td>2011</td>\n",
       "      <td>1838</td>\n",
       "    </tr>\n",
       "    <tr>\n",
       "      <th>8</th>\n",
       "      <td>2009</td>\n",
       "      <td>1724</td>\n",
       "    </tr>\n",
       "    <tr>\n",
       "      <th>9</th>\n",
       "      <td>2010</td>\n",
       "      <td>1691</td>\n",
       "    </tr>\n",
       "    <tr>\n",
       "      <th>10</th>\n",
       "      <td>2008</td>\n",
       "      <td>1632</td>\n",
       "    </tr>\n",
       "    <tr>\n",
       "      <th>11</th>\n",
       "      <td>2007</td>\n",
       "      <td>1499</td>\n",
       "    </tr>\n",
       "    <tr>\n",
       "      <th>12</th>\n",
       "      <td>2006</td>\n",
       "      <td>1446</td>\n",
       "    </tr>\n",
       "    <tr>\n",
       "      <th>13</th>\n",
       "      <td>2005</td>\n",
       "      <td>1255</td>\n",
       "    </tr>\n",
       "    <tr>\n",
       "      <th>14</th>\n",
       "      <td>2004</td>\n",
       "      <td>1172</td>\n",
       "    </tr>\n",
       "    <tr>\n",
       "      <th>15</th>\n",
       "      <td>2003</td>\n",
       "      <td>1028</td>\n",
       "    </tr>\n",
       "    <tr>\n",
       "      <th>16</th>\n",
       "      <td>2002</td>\n",
       "      <td>1024</td>\n",
       "    </tr>\n",
       "    <tr>\n",
       "      <th>17</th>\n",
       "      <td>2019</td>\n",
       "      <td>994</td>\n",
       "    </tr>\n",
       "    <tr>\n",
       "      <th>18</th>\n",
       "      <td>2001</td>\n",
       "      <td>971</td>\n",
       "    </tr>\n",
       "    <tr>\n",
       "      <th>19</th>\n",
       "      <td>2000</td>\n",
       "      <td>929</td>\n",
       "    </tr>\n",
       "    <tr>\n",
       "      <th>20</th>\n",
       "      <td>1999</td>\n",
       "      <td>812</td>\n",
       "    </tr>\n",
       "    <tr>\n",
       "      <th>21</th>\n",
       "      <td>1998</td>\n",
       "      <td>803</td>\n",
       "    </tr>\n",
       "    <tr>\n",
       "      <th>22</th>\n",
       "      <td>1997</td>\n",
       "      <td>792</td>\n",
       "    </tr>\n",
       "    <tr>\n",
       "      <th>23</th>\n",
       "      <td>1995</td>\n",
       "      <td>705</td>\n",
       "    </tr>\n",
       "    <tr>\n",
       "      <th>24</th>\n",
       "      <td>1996</td>\n",
       "      <td>703</td>\n",
       "    </tr>\n",
       "    <tr>\n",
       "      <th>25</th>\n",
       "      <td>1994</td>\n",
       "      <td>645</td>\n",
       "    </tr>\n",
       "    <tr>\n",
       "      <th>26</th>\n",
       "      <td>1988</td>\n",
       "      <td>628</td>\n",
       "    </tr>\n",
       "    <tr>\n",
       "      <th>27</th>\n",
       "      <td>1989</td>\n",
       "      <td>609</td>\n",
       "    </tr>\n",
       "    <tr>\n",
       "      <th>28</th>\n",
       "      <td>1987</td>\n",
       "      <td>595</td>\n",
       "    </tr>\n",
       "    <tr>\n",
       "      <th>29</th>\n",
       "      <td>1993</td>\n",
       "      <td>571</td>\n",
       "    </tr>\n",
       "    <tr>\n",
       "      <th>30</th>\n",
       "      <td>1992</td>\n",
       "      <td>563</td>\n",
       "    </tr>\n",
       "    <tr>\n",
       "      <th>31</th>\n",
       "      <td>1972</td>\n",
       "      <td>556</td>\n",
       "    </tr>\n",
       "    <tr>\n",
       "      <th>32</th>\n",
       "      <td>1990</td>\n",
       "      <td>538</td>\n",
       "    </tr>\n",
       "    <tr>\n",
       "      <th>33</th>\n",
       "      <td>1971</td>\n",
       "      <td>534</td>\n",
       "    </tr>\n",
       "    <tr>\n",
       "      <th>34</th>\n",
       "      <td>1991</td>\n",
       "      <td>524</td>\n",
       "    </tr>\n",
       "    <tr>\n",
       "      <th>35</th>\n",
       "      <td>1973</td>\n",
       "      <td>515</td>\n",
       "    </tr>\n",
       "    <tr>\n",
       "      <th>36</th>\n",
       "      <td>1986</td>\n",
       "      <td>513</td>\n",
       "    </tr>\n",
       "    <tr>\n",
       "      <th>37</th>\n",
       "      <td>1985</td>\n",
       "      <td>513</td>\n",
       "    </tr>\n",
       "    <tr>\n",
       "      <th>38</th>\n",
       "      <td>1974</td>\n",
       "      <td>511</td>\n",
       "    </tr>\n",
       "    <tr>\n",
       "      <th>39</th>\n",
       "      <td>1970</td>\n",
       "      <td>491</td>\n",
       "    </tr>\n",
       "    <tr>\n",
       "      <th>40</th>\n",
       "      <td>1976</td>\n",
       "      <td>490</td>\n",
       "    </tr>\n",
       "    <tr>\n",
       "      <th>41</th>\n",
       "      <td>1979</td>\n",
       "      <td>487</td>\n",
       "    </tr>\n",
       "    <tr>\n",
       "      <th>42</th>\n",
       "      <td>1984</td>\n",
       "      <td>471</td>\n",
       "    </tr>\n",
       "    <tr>\n",
       "      <th>43</th>\n",
       "      <td>1980</td>\n",
       "      <td>470</td>\n",
       "    </tr>\n",
       "    <tr>\n",
       "      <th>44</th>\n",
       "      <td>1977</td>\n",
       "      <td>469</td>\n",
       "    </tr>\n",
       "    <tr>\n",
       "      <th>45</th>\n",
       "      <td>1981</td>\n",
       "      <td>462</td>\n",
       "    </tr>\n",
       "    <tr>\n",
       "      <th>46</th>\n",
       "      <td>1982</td>\n",
       "      <td>461</td>\n",
       "    </tr>\n",
       "    <tr>\n",
       "      <th>47</th>\n",
       "      <td>1983</td>\n",
       "      <td>459</td>\n",
       "    </tr>\n",
       "    <tr>\n",
       "      <th>48</th>\n",
       "      <td>1968</td>\n",
       "      <td>458</td>\n",
       "    </tr>\n",
       "    <tr>\n",
       "      <th>49</th>\n",
       "      <td>1978</td>\n",
       "      <td>457</td>\n",
       "    </tr>\n",
       "  </tbody>\n",
       "</table>\n",
       "</div>"
      ],
      "text/plain": [
       "    year  count\n",
       "0   2015   2513\n",
       "1   2016   2488\n",
       "2   2014   2406\n",
       "3   2017   2374\n",
       "4   2013   2173\n",
       "5   2018   2034\n",
       "6   2012   1978\n",
       "7   2011   1838\n",
       "8   2009   1724\n",
       "9   2010   1691\n",
       "10  2008   1632\n",
       "11  2007   1499\n",
       "12  2006   1446\n",
       "13  2005   1255\n",
       "14  2004   1172\n",
       "15  2003   1028\n",
       "16  2002   1024\n",
       "17  2019    994\n",
       "18  2001    971\n",
       "19  2000    929\n",
       "20  1999    812\n",
       "21  1998    803\n",
       "22  1997    792\n",
       "23  1995    705\n",
       "24  1996    703\n",
       "25  1994    645\n",
       "26  1988    628\n",
       "27  1989    609\n",
       "28  1987    595\n",
       "29  1993    571\n",
       "30  1992    563\n",
       "31  1972    556\n",
       "32  1990    538\n",
       "33  1971    534\n",
       "34  1991    524\n",
       "35  1973    515\n",
       "36  1986    513\n",
       "37  1985    513\n",
       "38  1974    511\n",
       "39  1970    491\n",
       "40  1976    490\n",
       "41  1979    487\n",
       "42  1984    471\n",
       "43  1980    470\n",
       "44  1977    469\n",
       "45  1981    462\n",
       "46  1982    461\n",
       "47  1983    459\n",
       "48  1968    458\n",
       "49  1978    457"
      ]
     },
     "execution_count": 32,
     "metadata": {},
     "output_type": "execute_result"
    }
   ],
   "source": [
    "dataset = pd.DataFrame(movies_df['Publish Year'].\n",
    "                       value_counts()).reset_index()\n",
    "dataset.rename(columns={'index': 'year', 'Publish Year': 'count'},\n",
    "               inplace=True)\n",
    "dataset.head(50)"
   ]
  },
  {
   "cell_type": "code",
   "execution_count": 33,
   "metadata": {
    "execution": {
     "iopub.execute_input": "2020-12-08T11:05:38.716679Z",
     "iopub.status.busy": "2020-12-08T11:05:38.715843Z",
     "iopub.status.idle": "2020-12-08T11:05:38.799777Z",
     "shell.execute_reply": "2020-12-08T11:05:38.800333Z"
    },
    "papermill": {
     "duration": 0.168417,
     "end_time": "2020-12-08T11:05:38.800516",
     "exception": false,
     "start_time": "2020-12-08T11:05:38.632099",
     "status": "completed"
    },
    "tags": []
   },
   "outputs": [
    {
     "data": {
      "text/html": [
       "<div>                            <div id=\"90ae0115-22ed-4b59-9d5d-527fe90d2f83\" class=\"plotly-graph-div\" style=\"height:525px; width:100%;\"></div>            <script type=\"text/javascript\">                require([\"plotly\"], function(Plotly) {                    window.PLOTLYENV=window.PLOTLYENV || {};                                    if (document.getElementById(\"90ae0115-22ed-4b59-9d5d-527fe90d2f83\")) {                    Plotly.newPlot(                        \"90ae0115-22ed-4b59-9d5d-527fe90d2f83\",                        [{\"alignmentgroup\": \"True\", \"hovertemplate\": \"year=%{marker.color}<br>count=%{y}<extra></extra>\", \"legendgroup\": \"\", \"marker\": {\"color\": [2015, 2016, 2014, 2017, 2013, 2018, 2012, 2011, 2009, 2010, 2008, 2007, 2006, 2005, 2004, 2003, 2002, 2019, 2001, 2000, 1999, 1998, 1997, 1995, 1996, 1994, 1988, 1989, 1987, 1993, 1992, 1972, 1990, 1971, 1991, 1973, 1986, 1985, 1974, 1970, 1976, 1979, 1984, 1980, 1977, 1981, 1982, 1983, 1968, 1978, 1975, 1969, 9999, 1966, 1967, 1964, 1965, 1957, 1963, 1955, 1958, 1959, 1953, 1956, 1962, 1961, 1952, 1954, 1950, 1960, 1951, 1949, 1942, 1948, 1937, 1941, 1947, 1936, 1935, 1940, 1943, 1945, 1934, 1933, 1946, 1932, 1939, 1944, 1938, 1931, 1930, 1929, 1928, 1926, 1927, 1925, 1921, 1922, 1914, 1924, 1916, 1920, 1919, 1923, 1915, 1903, 1917, 1894, 1900, 1896, 1918, 1912, 1907, 1908, 1906, 1909, 1913, 1895, 1898, 1897, 1901, 1911, 1910, 1904, 1905, 1899, 1891, 1902, 1890, 1888, 1892, 201, 1887, 6, 1874, 1878, 1880, 1883], \"coloraxis\": \"coloraxis\"}, \"name\": \"\", \"offsetgroup\": \"\", \"orientation\": \"v\", \"showlegend\": false, \"textposition\": \"auto\", \"type\": \"bar\", \"x\": [2015, 2016, 2014, 2017, 2013, 2018, 2012, 2011, 2009, 2010, 2008, 2007, 2006, 2005, 2004, 2003, 2002, 2019, 2001, 2000, 1999, 1998, 1997, 1995, 1996, 1994, 1988, 1989, 1987, 1993, 1992, 1972, 1990, 1971, 1991, 1973, 1986, 1985, 1974, 1970, 1976, 1979, 1984, 1980, 1977, 1981, 1982, 1983, 1968, 1978, 1975, 1969, 9999, 1966, 1967, 1964, 1965, 1957, 1963, 1955, 1958, 1959, 1953, 1956, 1962, 1961, 1952, 1954, 1950, 1960, 1951, 1949, 1942, 1948, 1937, 1941, 1947, 1936, 1935, 1940, 1943, 1945, 1934, 1933, 1946, 1932, 1939, 1944, 1938, 1931, 1930, 1929, 1928, 1926, 1927, 1925, 1921, 1922, 1914, 1924, 1916, 1920, 1919, 1923, 1915, 1903, 1917, 1894, 1900, 1896, 1918, 1912, 1907, 1908, 1906, 1909, 1913, 1895, 1898, 1897, 1901, 1911, 1910, 1904, 1905, 1899, 1891, 1902, 1890, 1888, 1892, 201, 1887, 6, 1874, 1878, 1880, 1883], \"xaxis\": \"x\", \"y\": [2513, 2488, 2406, 2374, 2173, 2034, 1978, 1838, 1724, 1691, 1632, 1499, 1446, 1255, 1172, 1028, 1024, 994, 971, 929, 812, 803, 792, 705, 703, 645, 628, 609, 595, 571, 563, 556, 538, 534, 524, 515, 513, 513, 511, 491, 490, 487, 471, 470, 469, 462, 461, 459, 458, 457, 448, 443, 408, 404, 388, 367, 362, 335, 317, 315, 309, 304, 304, 294, 289, 289, 287, 285, 279, 269, 268, 266, 257, 245, 235, 232, 232, 230, 227, 223, 223, 219, 219, 218, 217, 215, 214, 212, 209, 173, 129, 117, 77, 66, 62, 52, 48, 46, 42, 42, 37, 36, 30, 30, 28, 26, 26, 22, 22, 22, 20, 19, 18, 17, 17, 16, 15, 15, 14, 13, 12, 11, 11, 11, 10, 8, 6, 6, 5, 4, 3, 2, 1, 1, 1, 1, 1, 1], \"yaxis\": \"y\"}],                        {\"barmode\": \"relative\", \"coloraxis\": {\"colorbar\": {\"title\": {\"text\": \"year\"}}, \"colorscale\": [[0.0, \"#0d0887\"], [0.1111111111111111, \"#46039f\"], [0.2222222222222222, \"#7201a8\"], [0.3333333333333333, \"#9c179e\"], [0.4444444444444444, \"#bd3786\"], [0.5555555555555556, \"#d8576b\"], [0.6666666666666666, \"#ed7953\"], [0.7777777777777778, \"#fb9f3a\"], [0.8888888888888888, \"#fdca26\"], [1.0, \"#f0f921\"]]}, \"legend\": {\"tracegroupgap\": 0}, \"template\": {\"data\": {\"bar\": [{\"error_x\": {\"color\": \"#2a3f5f\"}, \"error_y\": {\"color\": \"#2a3f5f\"}, \"marker\": {\"line\": {\"color\": \"#E5ECF6\", \"width\": 0.5}}, \"type\": \"bar\"}], \"barpolar\": [{\"marker\": {\"line\": {\"color\": \"#E5ECF6\", \"width\": 0.5}}, \"type\": \"barpolar\"}], \"carpet\": [{\"aaxis\": {\"endlinecolor\": \"#2a3f5f\", \"gridcolor\": \"white\", \"linecolor\": \"white\", \"minorgridcolor\": \"white\", \"startlinecolor\": \"#2a3f5f\"}, \"baxis\": {\"endlinecolor\": \"#2a3f5f\", \"gridcolor\": \"white\", \"linecolor\": \"white\", \"minorgridcolor\": \"white\", \"startlinecolor\": \"#2a3f5f\"}, \"type\": \"carpet\"}], \"choropleth\": [{\"colorbar\": {\"outlinewidth\": 0, \"ticks\": \"\"}, \"type\": \"choropleth\"}], \"contour\": [{\"colorbar\": {\"outlinewidth\": 0, \"ticks\": \"\"}, \"colorscale\": [[0.0, \"#0d0887\"], [0.1111111111111111, \"#46039f\"], [0.2222222222222222, \"#7201a8\"], [0.3333333333333333, \"#9c179e\"], [0.4444444444444444, \"#bd3786\"], [0.5555555555555556, \"#d8576b\"], [0.6666666666666666, \"#ed7953\"], [0.7777777777777778, \"#fb9f3a\"], [0.8888888888888888, \"#fdca26\"], [1.0, \"#f0f921\"]], \"type\": \"contour\"}], \"contourcarpet\": [{\"colorbar\": {\"outlinewidth\": 0, \"ticks\": \"\"}, \"type\": \"contourcarpet\"}], \"heatmap\": [{\"colorbar\": {\"outlinewidth\": 0, \"ticks\": \"\"}, \"colorscale\": [[0.0, \"#0d0887\"], [0.1111111111111111, \"#46039f\"], [0.2222222222222222, \"#7201a8\"], [0.3333333333333333, \"#9c179e\"], [0.4444444444444444, \"#bd3786\"], [0.5555555555555556, \"#d8576b\"], [0.6666666666666666, \"#ed7953\"], [0.7777777777777778, \"#fb9f3a\"], [0.8888888888888888, \"#fdca26\"], [1.0, \"#f0f921\"]], \"type\": \"heatmap\"}], \"heatmapgl\": [{\"colorbar\": {\"outlinewidth\": 0, \"ticks\": \"\"}, \"colorscale\": [[0.0, \"#0d0887\"], [0.1111111111111111, \"#46039f\"], [0.2222222222222222, \"#7201a8\"], [0.3333333333333333, \"#9c179e\"], [0.4444444444444444, \"#bd3786\"], [0.5555555555555556, \"#d8576b\"], [0.6666666666666666, \"#ed7953\"], [0.7777777777777778, \"#fb9f3a\"], [0.8888888888888888, \"#fdca26\"], [1.0, \"#f0f921\"]], \"type\": \"heatmapgl\"}], \"histogram\": [{\"marker\": {\"colorbar\": {\"outlinewidth\": 0, \"ticks\": \"\"}}, \"type\": \"histogram\"}], \"histogram2d\": [{\"colorbar\": {\"outlinewidth\": 0, \"ticks\": \"\"}, \"colorscale\": [[0.0, \"#0d0887\"], [0.1111111111111111, \"#46039f\"], [0.2222222222222222, \"#7201a8\"], [0.3333333333333333, \"#9c179e\"], [0.4444444444444444, \"#bd3786\"], [0.5555555555555556, \"#d8576b\"], [0.6666666666666666, \"#ed7953\"], [0.7777777777777778, \"#fb9f3a\"], [0.8888888888888888, \"#fdca26\"], [1.0, \"#f0f921\"]], \"type\": \"histogram2d\"}], \"histogram2dcontour\": [{\"colorbar\": {\"outlinewidth\": 0, \"ticks\": \"\"}, \"colorscale\": [[0.0, \"#0d0887\"], [0.1111111111111111, \"#46039f\"], [0.2222222222222222, \"#7201a8\"], [0.3333333333333333, \"#9c179e\"], [0.4444444444444444, \"#bd3786\"], [0.5555555555555556, \"#d8576b\"], [0.6666666666666666, \"#ed7953\"], [0.7777777777777778, \"#fb9f3a\"], [0.8888888888888888, \"#fdca26\"], [1.0, \"#f0f921\"]], \"type\": \"histogram2dcontour\"}], \"mesh3d\": [{\"colorbar\": {\"outlinewidth\": 0, \"ticks\": \"\"}, \"type\": \"mesh3d\"}], \"parcoords\": [{\"line\": {\"colorbar\": {\"outlinewidth\": 0, \"ticks\": \"\"}}, \"type\": \"parcoords\"}], \"pie\": [{\"automargin\": true, \"type\": \"pie\"}], \"scatter\": [{\"marker\": {\"colorbar\": {\"outlinewidth\": 0, \"ticks\": \"\"}}, \"type\": \"scatter\"}], \"scatter3d\": [{\"line\": {\"colorbar\": {\"outlinewidth\": 0, \"ticks\": \"\"}}, \"marker\": {\"colorbar\": {\"outlinewidth\": 0, \"ticks\": \"\"}}, \"type\": \"scatter3d\"}], \"scattercarpet\": [{\"marker\": {\"colorbar\": {\"outlinewidth\": 0, \"ticks\": \"\"}}, \"type\": \"scattercarpet\"}], \"scattergeo\": [{\"marker\": {\"colorbar\": {\"outlinewidth\": 0, \"ticks\": \"\"}}, \"type\": \"scattergeo\"}], \"scattergl\": [{\"marker\": {\"colorbar\": {\"outlinewidth\": 0, \"ticks\": \"\"}}, \"type\": \"scattergl\"}], \"scattermapbox\": [{\"marker\": {\"colorbar\": {\"outlinewidth\": 0, \"ticks\": \"\"}}, \"type\": \"scattermapbox\"}], \"scatterpolar\": [{\"marker\": {\"colorbar\": {\"outlinewidth\": 0, \"ticks\": \"\"}}, \"type\": \"scatterpolar\"}], \"scatterpolargl\": [{\"marker\": {\"colorbar\": {\"outlinewidth\": 0, \"ticks\": \"\"}}, \"type\": \"scatterpolargl\"}], \"scatterternary\": [{\"marker\": {\"colorbar\": {\"outlinewidth\": 0, \"ticks\": \"\"}}, \"type\": \"scatterternary\"}], \"surface\": [{\"colorbar\": {\"outlinewidth\": 0, \"ticks\": \"\"}, \"colorscale\": [[0.0, \"#0d0887\"], [0.1111111111111111, \"#46039f\"], [0.2222222222222222, \"#7201a8\"], [0.3333333333333333, \"#9c179e\"], [0.4444444444444444, \"#bd3786\"], [0.5555555555555556, \"#d8576b\"], [0.6666666666666666, \"#ed7953\"], [0.7777777777777778, \"#fb9f3a\"], [0.8888888888888888, \"#fdca26\"], [1.0, \"#f0f921\"]], \"type\": \"surface\"}], \"table\": [{\"cells\": {\"fill\": {\"color\": \"#EBF0F8\"}, \"line\": {\"color\": \"white\"}}, \"header\": {\"fill\": {\"color\": \"#C8D4E3\"}, \"line\": {\"color\": \"white\"}}, \"type\": \"table\"}]}, \"layout\": {\"annotationdefaults\": {\"arrowcolor\": \"#2a3f5f\", \"arrowhead\": 0, \"arrowwidth\": 1}, \"coloraxis\": {\"colorbar\": {\"outlinewidth\": 0, \"ticks\": \"\"}}, \"colorscale\": {\"diverging\": [[0, \"#8e0152\"], [0.1, \"#c51b7d\"], [0.2, \"#de77ae\"], [0.3, \"#f1b6da\"], [0.4, \"#fde0ef\"], [0.5, \"#f7f7f7\"], [0.6, \"#e6f5d0\"], [0.7, \"#b8e186\"], [0.8, \"#7fbc41\"], [0.9, \"#4d9221\"], [1, \"#276419\"]], \"sequential\": [[0.0, \"#0d0887\"], [0.1111111111111111, \"#46039f\"], [0.2222222222222222, \"#7201a8\"], [0.3333333333333333, \"#9c179e\"], [0.4444444444444444, \"#bd3786\"], [0.5555555555555556, \"#d8576b\"], [0.6666666666666666, \"#ed7953\"], [0.7777777777777778, \"#fb9f3a\"], [0.8888888888888888, \"#fdca26\"], [1.0, \"#f0f921\"]], \"sequentialminus\": [[0.0, \"#0d0887\"], [0.1111111111111111, \"#46039f\"], [0.2222222222222222, \"#7201a8\"], [0.3333333333333333, \"#9c179e\"], [0.4444444444444444, \"#bd3786\"], [0.5555555555555556, \"#d8576b\"], [0.6666666666666666, \"#ed7953\"], [0.7777777777777778, \"#fb9f3a\"], [0.8888888888888888, \"#fdca26\"], [1.0, \"#f0f921\"]]}, \"colorway\": [\"#636efa\", \"#EF553B\", \"#00cc96\", \"#ab63fa\", \"#FFA15A\", \"#19d3f3\", \"#FF6692\", \"#B6E880\", \"#FF97FF\", \"#FECB52\"], \"font\": {\"color\": \"#2a3f5f\"}, \"geo\": {\"bgcolor\": \"white\", \"lakecolor\": \"white\", \"landcolor\": \"#E5ECF6\", \"showlakes\": true, \"showland\": true, \"subunitcolor\": \"white\"}, \"hoverlabel\": {\"align\": \"left\"}, \"hovermode\": \"closest\", \"mapbox\": {\"style\": \"light\"}, \"paper_bgcolor\": \"white\", \"plot_bgcolor\": \"#E5ECF6\", \"polar\": {\"angularaxis\": {\"gridcolor\": \"white\", \"linecolor\": \"white\", \"ticks\": \"\"}, \"bgcolor\": \"#E5ECF6\", \"radialaxis\": {\"gridcolor\": \"white\", \"linecolor\": \"white\", \"ticks\": \"\"}}, \"scene\": {\"xaxis\": {\"backgroundcolor\": \"#E5ECF6\", \"gridcolor\": \"white\", \"gridwidth\": 2, \"linecolor\": \"white\", \"showbackground\": true, \"ticks\": \"\", \"zerolinecolor\": \"white\"}, \"yaxis\": {\"backgroundcolor\": \"#E5ECF6\", \"gridcolor\": \"white\", \"gridwidth\": 2, \"linecolor\": \"white\", \"showbackground\": true, \"ticks\": \"\", \"zerolinecolor\": \"white\"}, \"zaxis\": {\"backgroundcolor\": \"#E5ECF6\", \"gridcolor\": \"white\", \"gridwidth\": 2, \"linecolor\": \"white\", \"showbackground\": true, \"ticks\": \"\", \"zerolinecolor\": \"white\"}}, \"shapedefaults\": {\"line\": {\"color\": \"#2a3f5f\"}}, \"ternary\": {\"aaxis\": {\"gridcolor\": \"white\", \"linecolor\": \"white\", \"ticks\": \"\"}, \"baxis\": {\"gridcolor\": \"white\", \"linecolor\": \"white\", \"ticks\": \"\"}, \"bgcolor\": \"#E5ECF6\", \"caxis\": {\"gridcolor\": \"white\", \"linecolor\": \"white\", \"ticks\": \"\"}}, \"title\": {\"x\": 0.05}, \"xaxis\": {\"automargin\": true, \"gridcolor\": \"white\", \"linecolor\": \"white\", \"ticks\": \"\", \"title\": {\"standoff\": 15}, \"zerolinecolor\": \"white\", \"zerolinewidth\": 2}, \"yaxis\": {\"automargin\": true, \"gridcolor\": \"white\", \"linecolor\": \"white\", \"ticks\": \"\", \"title\": {\"standoff\": 15}, \"zerolinecolor\": \"white\", \"zerolinewidth\": 2}}}, \"title\": {\"text\": \"Movies released per Publish Year\"}, \"xaxis\": {\"anchor\": \"y\", \"domain\": [0.0, 1.0], \"title\": {\"text\": \"year\"}}, \"yaxis\": {\"anchor\": \"x\", \"domain\": [0.0, 1.0], \"title\": {\"text\": \"count\"}}},                        {\"responsive\": true}                    ).then(function(){\n",
       "                            \n",
       "var gd = document.getElementById('90ae0115-22ed-4b59-9d5d-527fe90d2f83');\n",
       "var x = new MutationObserver(function (mutations, observer) {{\n",
       "        var display = window.getComputedStyle(gd).display;\n",
       "        if (!display || display === 'none') {{\n",
       "            console.log([gd, 'removed!']);\n",
       "            Plotly.purge(gd);\n",
       "            observer.disconnect();\n",
       "        }}\n",
       "}});\n",
       "\n",
       "// Listen for the removal of the full notebook cells\n",
       "var notebookContainer = gd.closest('#notebook-container');\n",
       "if (notebookContainer) {{\n",
       "    x.observe(notebookContainer, {childList: true});\n",
       "}}\n",
       "\n",
       "// Listen for the clearing of the current output cell\n",
       "var outputEl = gd.closest('.output');\n",
       "if (outputEl) {{\n",
       "    x.observe(outputEl, {childList: true});\n",
       "}}\n",
       "\n",
       "                        })                };                });            </script>        </div>"
      ]
     },
     "metadata": {},
     "output_type": "display_data"
    }
   ],
   "source": [
    "# Plotting the Publish years\n",
    "fig = px.bar(dataset, x=dataset['year'],\n",
    "             y=dataset['count'],\n",
    "             color=dataset['year'],\n",
    "             title='Movies released per Publish Year')\n",
    "fig.show()"
   ]
  },
  {
   "cell_type": "markdown",
   "metadata": {
    "papermill": {
     "duration": 0.075457,
     "end_time": "2020-12-08T11:05:38.950590",
     "exception": false,
     "start_time": "2020-12-08T11:05:38.875133",
     "status": "completed"
    },
    "tags": []
   },
   "source": [
    "### Modelling"
   ]
  },
  {
   "cell_type": "code",
   "execution_count": 34,
   "metadata": {
    "execution": {
     "iopub.execute_input": "2020-12-08T11:05:39.214605Z",
     "iopub.status.busy": "2020-12-08T11:05:39.213807Z",
     "iopub.status.idle": "2020-12-08T11:05:39.217871Z",
     "shell.execute_reply": "2020-12-08T11:05:39.217208Z"
    },
    "papermill": {
     "duration": 0.193028,
     "end_time": "2020-12-08T11:05:39.217994",
     "exception": false,
     "start_time": "2020-12-08T11:05:39.024966",
     "status": "completed"
    },
    "tags": []
   },
   "outputs": [],
   "source": [
    "# Below is the dataframe we will be altering.\n",
    "working_train = train_df.drop(columns='timestamp')"
   ]
  },
  {
   "cell_type": "code",
   "execution_count": 35,
   "metadata": {
    "execution": {
     "iopub.execute_input": "2020-12-08T11:05:39.375297Z",
     "iopub.status.busy": "2020-12-08T11:05:39.374441Z",
     "iopub.status.idle": "2020-12-08T11:05:44.006498Z",
     "shell.execute_reply": "2020-12-08T11:05:44.005644Z"
    },
    "papermill": {
     "duration": 4.714098,
     "end_time": "2020-12-08T11:05:44.006641",
     "exception": false,
     "start_time": "2020-12-08T11:05:39.292543",
     "status": "completed"
    },
    "tags": []
   },
   "outputs": [
    {
     "data": {
      "text/html": [
       "<div>\n",
       "<style scoped>\n",
       "    .dataframe tbody tr th:only-of-type {\n",
       "        vertical-align: middle;\n",
       "    }\n",
       "\n",
       "    .dataframe tbody tr th {\n",
       "        vertical-align: top;\n",
       "    }\n",
       "\n",
       "    .dataframe thead th {\n",
       "        text-align: right;\n",
       "    }\n",
       "</style>\n",
       "<table border=\"1\" class=\"dataframe\">\n",
       "  <thead>\n",
       "    <tr style=\"text-align: right;\">\n",
       "      <th></th>\n",
       "      <th>movieId</th>\n",
       "      <th>userId</th>\n",
       "      <th>rating</th>\n",
       "      <th>genres</th>\n",
       "      <th>title_cast</th>\n",
       "      <th>director</th>\n",
       "      <th>plot_keywords</th>\n",
       "    </tr>\n",
       "  </thead>\n",
       "  <tbody>\n",
       "    <tr>\n",
       "      <th>0</th>\n",
       "      <td>1</td>\n",
       "      <td>158849</td>\n",
       "      <td>5.0</td>\n",
       "      <td>Adventure|Animation|Children|Comedy|Fantasy</td>\n",
       "      <td>Tom Hanks|Tim Allen|Don Rickles|Jim Varney|Wal...</td>\n",
       "      <td>John Lasseter</td>\n",
       "      <td>toy|rivalry|cowboy|cgi animation</td>\n",
       "    </tr>\n",
       "    <tr>\n",
       "      <th>1</th>\n",
       "      <td>1</td>\n",
       "      <td>97203</td>\n",
       "      <td>5.0</td>\n",
       "      <td>Adventure|Animation|Children|Comedy|Fantasy</td>\n",
       "      <td>Tom Hanks|Tim Allen|Don Rickles|Jim Varney|Wal...</td>\n",
       "      <td>John Lasseter</td>\n",
       "      <td>toy|rivalry|cowboy|cgi animation</td>\n",
       "    </tr>\n",
       "    <tr>\n",
       "      <th>2</th>\n",
       "      <td>1</td>\n",
       "      <td>161871</td>\n",
       "      <td>3.0</td>\n",
       "      <td>Adventure|Animation|Children|Comedy|Fantasy</td>\n",
       "      <td>Tom Hanks|Tim Allen|Don Rickles|Jim Varney|Wal...</td>\n",
       "      <td>John Lasseter</td>\n",
       "      <td>toy|rivalry|cowboy|cgi animation</td>\n",
       "    </tr>\n",
       "    <tr>\n",
       "      <th>3</th>\n",
       "      <td>1</td>\n",
       "      <td>45117</td>\n",
       "      <td>4.0</td>\n",
       "      <td>Adventure|Animation|Children|Comedy|Fantasy</td>\n",
       "      <td>Tom Hanks|Tim Allen|Don Rickles|Jim Varney|Wal...</td>\n",
       "      <td>John Lasseter</td>\n",
       "      <td>toy|rivalry|cowboy|cgi animation</td>\n",
       "    </tr>\n",
       "    <tr>\n",
       "      <th>4</th>\n",
       "      <td>1</td>\n",
       "      <td>27431</td>\n",
       "      <td>5.0</td>\n",
       "      <td>Adventure|Animation|Children|Comedy|Fantasy</td>\n",
       "      <td>Tom Hanks|Tim Allen|Don Rickles|Jim Varney|Wal...</td>\n",
       "      <td>John Lasseter</td>\n",
       "      <td>toy|rivalry|cowboy|cgi animation</td>\n",
       "    </tr>\n",
       "  </tbody>\n",
       "</table>\n",
       "</div>"
      ],
      "text/plain": [
       "   movieId  userId  rating                                       genres  \\\n",
       "0        1  158849     5.0  Adventure|Animation|Children|Comedy|Fantasy   \n",
       "1        1   97203     5.0  Adventure|Animation|Children|Comedy|Fantasy   \n",
       "2        1  161871     3.0  Adventure|Animation|Children|Comedy|Fantasy   \n",
       "3        1   45117     4.0  Adventure|Animation|Children|Comedy|Fantasy   \n",
       "4        1   27431     5.0  Adventure|Animation|Children|Comedy|Fantasy   \n",
       "\n",
       "                                          title_cast       director  \\\n",
       "0  Tom Hanks|Tim Allen|Don Rickles|Jim Varney|Wal...  John Lasseter   \n",
       "1  Tom Hanks|Tim Allen|Don Rickles|Jim Varney|Wal...  John Lasseter   \n",
       "2  Tom Hanks|Tim Allen|Don Rickles|Jim Varney|Wal...  John Lasseter   \n",
       "3  Tom Hanks|Tim Allen|Don Rickles|Jim Varney|Wal...  John Lasseter   \n",
       "4  Tom Hanks|Tim Allen|Don Rickles|Jim Varney|Wal...  John Lasseter   \n",
       "\n",
       "                      plot_keywords  \n",
       "0  toy|rivalry|cowboy|cgi animation  \n",
       "1  toy|rivalry|cowboy|cgi animation  \n",
       "2  toy|rivalry|cowboy|cgi animation  \n",
       "3  toy|rivalry|cowboy|cgi animation  \n",
       "4  toy|rivalry|cowboy|cgi animation  "
      ]
     },
     "execution_count": 35,
     "metadata": {},
     "output_type": "execute_result"
    }
   ],
   "source": [
    "df_work = working_train.set_index('movieId').join([movies_df[['movieId',\n",
    "                                                           'genres']]\n",
    "                                                   .set_index('movieId'),\n",
    "                                                   imdb_df[['movieId',\n",
    "                                                         'title_cast',\n",
    "                                                         'director',\n",
    "                                                         'plot_keywords']].\n",
    "                                                   set_index('movieId')],\n",
    "                                                  how='left').reset_index()\n",
    "df_work.head()\n"
   ]
  },
  {
   "cell_type": "code",
   "execution_count": 36,
   "metadata": {
    "execution": {
     "iopub.execute_input": "2020-12-08T11:05:44.225218Z",
     "iopub.status.busy": "2020-12-08T11:05:44.224128Z",
     "iopub.status.idle": "2020-12-08T11:05:44.227048Z",
     "shell.execute_reply": "2020-12-08T11:05:44.227626Z"
    },
    "papermill": {
     "duration": 0.093113,
     "end_time": "2020-12-08T11:05:44.227789",
     "exception": false,
     "start_time": "2020-12-08T11:05:44.134676",
     "status": "completed"
    },
    "tags": []
   },
   "outputs": [],
   "source": [
    "def preprocessor_train(df):\n",
    "    working_train = df.copy()\n",
    "\n",
    "    # Merge\n",
    "    df_work = working_train.set_index('movieId').join([movies_df\n",
    "                                                       [['movieId', 'genres']].\n",
    "                                                       set_index('movieId'),\n",
    "                                                       imdb_df[['movieId',\n",
    "                                                             'title_cast',\n",
    "                                                             'director',\n",
    "                                                             'plot_keywords']].\n",
    "                                                       set_index('movieId')],\n",
    "                                                      how='left').reset_index()\n",
    "\n",
    "# '(no genre listed)' is an equivalent of a missing value in the column genres\n",
    "\n",
    "    df_work['genres'] = ['' if x == '(no genres listed)' else x for x in df_work['genres']]\n",
    "\n",
    "    # filling missing values with 'nothing'... (emptying...?)\n",
    "    df_work.fillna('', inplace=True)\n",
    "\n",
    "    for col in df_work.select_dtypes('object').columns: # selecting 'object' columns\n",
    "\n",
    "        # removing white space\n",
    "        df_work[col] = [''.join(x.split()) for x in df_work[col]]\n",
    "\n",
    "        # substituting '|' with a white space\n",
    "        df_work[col] = [' '.join(x.split('|')) for x in df_work[col]]\n",
    "\n",
    "    # joining the features of interest\n",
    "    df_work['corpus'] =  df_work[df_work.select_dtypes('object').columns].apply(lambda x: ' '.join(x), axis=1)\n",
    "    return df_work[['movieId', 'userId', 'corpus', 'rating']]\n"
   ]
  },
  {
   "cell_type": "code",
   "execution_count": 37,
   "metadata": {
    "execution": {
     "iopub.execute_input": "2020-12-08T11:05:44.391880Z",
     "iopub.status.busy": "2020-12-08T11:05:44.386667Z",
     "iopub.status.idle": "2020-12-08T11:05:44.395772Z",
     "shell.execute_reply": "2020-12-08T11:05:44.394944Z"
    },
    "papermill": {
     "duration": 0.093092,
     "end_time": "2020-12-08T11:05:44.395900",
     "exception": false,
     "start_time": "2020-12-08T11:05:44.302808",
     "status": "completed"
    },
    "tags": []
   },
   "outputs": [],
   "source": [
    "def preprocessor_test(df):\n",
    "    working_train = df.copy()\n",
    "\n",
    "    # Merge\n",
    "    df_work = working_train.set_index('movieId').join([movies_df\n",
    "                                                       [['movieId', 'genres']].\n",
    "                                                       set_index('movieId'),\n",
    "                                                       imdb_df[['movieId',\n",
    "                                                             'title_cast',\n",
    "                                                             'director',\n",
    "                                                             'plot_keywords']].\n",
    "                                                       set_index('movieId')],\n",
    "                                                      how='left').reset_index()\n",
    "\n",
    "# '(no genre listed)' is an equivalent of a missing value in the column genres\n",
    "\n",
    "    df_work['genres'] = ['' if x == '(no genres listed)' else x for x in df_work['genres']]\n",
    "\n",
    "    # filling missing values with 'nothing'... (emptying...?)\n",
    "    df_work.fillna('', inplace=True)\n",
    "\n",
    "    for col in df_work.select_dtypes('object').columns: # selecting 'object' columns\n",
    "\n",
    "        # removing white space\n",
    "        df_work[col] = [''.join(x.split()) for x in df_work[col]]\n",
    "\n",
    "        # substituting '|' with a white space\n",
    "        df_work[col] = [' '.join(x.split('|')) for x in df_work[col]]\n",
    "\n",
    "    # joining the features of interest\n",
    "    df_work['corpus'] =  df_work[df_work.select_dtypes('object').columns].apply(lambda x: ' '.join(x), axis=1)\n",
    "    return df_work[['movieId', 'userId', 'corpus']]"
   ]
  },
  {
   "cell_type": "code",
   "execution_count": 38,
   "metadata": {
    "execution": {
     "iopub.execute_input": "2020-12-08T11:05:44.554116Z",
     "iopub.status.busy": "2020-12-08T11:05:44.553267Z",
     "iopub.status.idle": "2020-12-08T11:07:39.756158Z",
     "shell.execute_reply": "2020-12-08T11:07:39.755371Z"
    },
    "papermill": {
     "duration": 115.284432,
     "end_time": "2020-12-08T11:07:39.756302",
     "exception": false,
     "start_time": "2020-12-08T11:05:44.471870",
     "status": "completed"
    },
    "tags": []
   },
   "outputs": [],
   "source": [
    "Test = preprocessor_test(test_df)"
   ]
  },
  {
   "cell_type": "code",
   "execution_count": 39,
   "metadata": {
    "execution": {
     "iopub.execute_input": "2020-12-08T11:07:40.024561Z",
     "iopub.status.busy": "2020-12-08T11:07:40.022859Z",
     "iopub.status.idle": "2020-12-08T11:11:29.134102Z",
     "shell.execute_reply": "2020-12-08T11:11:29.133257Z"
    },
    "papermill": {
     "duration": 229.300754,
     "end_time": "2020-12-08T11:11:29.134287",
     "exception": false,
     "start_time": "2020-12-08T11:07:39.833533",
     "status": "completed"
    },
    "tags": []
   },
   "outputs": [],
   "source": [
    "X = preprocessor_train(train_df.drop(columns=['timestamp'])) # DO NOT RUN THIS ON LOCAL COMPUTER\n"
   ]
  },
  {
   "cell_type": "code",
   "execution_count": 40,
   "metadata": {
    "execution": {
     "iopub.execute_input": "2020-12-08T11:11:29.614709Z",
     "iopub.status.busy": "2020-12-08T11:11:29.612462Z",
     "iopub.status.idle": "2020-12-08T11:11:29.759806Z",
     "shell.execute_reply": "2020-12-08T11:11:29.759037Z"
    },
    "papermill": {
     "duration": 0.549387,
     "end_time": "2020-12-08T11:11:29.759928",
     "exception": false,
     "start_time": "2020-12-08T11:11:29.210541",
     "status": "completed"
    },
    "tags": []
   },
   "outputs": [],
   "source": [
    "X1 = X.drop(columns=['rating', 'userId', 'movieId'])\n",
    "T1 = Test.drop(columns=['userId', 'movieId'])\n"
   ]
  },
  {
   "cell_type": "code",
   "execution_count": 41,
   "metadata": {
    "execution": {
     "iopub.execute_input": "2020-12-08T11:11:29.918371Z",
     "iopub.status.busy": "2020-12-08T11:11:29.917392Z",
     "iopub.status.idle": "2020-12-08T11:11:29.920857Z",
     "shell.execute_reply": "2020-12-08T11:11:29.920056Z"
    },
    "papermill": {
     "duration": 0.085307,
     "end_time": "2020-12-08T11:11:29.920993",
     "exception": false,
     "start_time": "2020-12-08T11:11:29.835686",
     "status": "completed"
    },
    "tags": []
   },
   "outputs": [],
   "source": [
    "y = X['rating']"
   ]
  },
  {
   "cell_type": "code",
   "execution_count": 42,
   "metadata": {
    "execution": {
     "iopub.execute_input": "2020-12-08T11:11:30.102890Z",
     "iopub.status.busy": "2020-12-08T11:11:30.092379Z",
     "iopub.status.idle": "2020-12-08T11:16:36.025042Z",
     "shell.execute_reply": "2020-12-08T11:16:36.025728Z"
    },
    "papermill": {
     "duration": 306.026787,
     "end_time": "2020-12-08T11:16:36.025936",
     "exception": false,
     "start_time": "2020-12-08T11:11:29.999149",
     "status": "completed"
    },
    "tags": []
   },
   "outputs": [],
   "source": [
    "cv = CountVectorizer()\n",
    "X_mat =cv.fit_transform(X1['corpus'])"
   ]
  },
  {
   "cell_type": "code",
   "execution_count": 43,
   "metadata": {
    "execution": {
     "iopub.execute_input": "2020-12-08T11:16:36.246473Z",
     "iopub.status.busy": "2020-12-08T11:16:36.220460Z",
     "iopub.status.idle": "2020-12-08T11:19:02.518854Z",
     "shell.execute_reply": "2020-12-08T11:19:02.518149Z"
    },
    "papermill": {
     "duration": 146.414023,
     "end_time": "2020-12-08T11:19:02.518987",
     "exception": false,
     "start_time": "2020-12-08T11:16:36.104964",
     "status": "completed"
    },
    "tags": []
   },
   "outputs": [],
   "source": [
    "Test_mat = cv.transform(T1['corpus'])"
   ]
  },
  {
   "cell_type": "code",
   "execution_count": 44,
   "metadata": {
    "execution": {
     "iopub.execute_input": "2020-12-08T11:19:02.677244Z",
     "iopub.status.busy": "2020-12-08T11:19:02.676271Z",
     "iopub.status.idle": "2020-12-08T11:19:02.680805Z",
     "shell.execute_reply": "2020-12-08T11:19:02.680207Z"
    },
    "papermill": {
     "duration": 0.085326,
     "end_time": "2020-12-08T11:19:02.680920",
     "exception": false,
     "start_time": "2020-12-08T11:19:02.595594",
     "status": "completed"
    },
    "tags": []
   },
   "outputs": [
    {
     "data": {
      "text/plain": [
       "(10000038, 130227)"
      ]
     },
     "execution_count": 44,
     "metadata": {},
     "output_type": "execute_result"
    }
   ],
   "source": [
    "X_mat.shape"
   ]
  },
  {
   "cell_type": "markdown",
   "metadata": {
    "papermill": {
     "duration": 0.077369,
     "end_time": "2020-12-08T11:19:02.835641",
     "exception": false,
     "start_time": "2020-12-08T11:19:02.758272",
     "status": "completed"
    },
    "tags": []
   },
   "source": [
    "### Content Based Model(Linear Regression)"
   ]
  },
  {
   "cell_type": "code",
   "execution_count": 45,
   "metadata": {
    "execution": {
     "iopub.execute_input": "2020-12-08T11:19:02.999586Z",
     "iopub.status.busy": "2020-12-08T11:19:02.998547Z",
     "iopub.status.idle": "2020-12-08T11:51:42.174557Z",
     "shell.execute_reply": "2020-12-08T11:51:42.175200Z"
    },
    "papermill": {
     "duration": 1959.262374,
     "end_time": "2020-12-08T11:51:42.175373",
     "exception": false,
     "start_time": "2020-12-08T11:19:02.912999",
     "status": "completed"
    },
    "tags": []
   },
   "outputs": [
    {
     "data": {
      "text/plain": [
       "Pipeline(steps=[('standardize', StandardScaler(with_mean=False)),\n",
       "                ('mod', LinearRegression())])"
      ]
     },
     "execution_count": 45,
     "metadata": {},
     "output_type": "execute_result"
    }
   ],
   "source": [
    "estimators2 = []\n",
    "estimators2.append(('standardize',\n",
    "                    StandardScaler(with_mean=False)))\n",
    "estimators2.append(('mod',\n",
    "                    LinearRegression()))\n",
    "model = Pipeline(estimators2)\n",
    "model.fit(X_mat, y)"
   ]
  },
  {
   "cell_type": "code",
   "execution_count": 46,
   "metadata": {
    "execution": {
     "iopub.execute_input": "2020-12-08T11:51:42.346712Z",
     "iopub.status.busy": "2020-12-08T11:51:42.345807Z",
     "iopub.status.idle": "2020-12-08T11:51:42.645763Z",
     "shell.execute_reply": "2020-12-08T11:51:42.644434Z"
    },
    "papermill": {
     "duration": 0.391102,
     "end_time": "2020-12-08T11:51:42.645993",
     "exception": false,
     "start_time": "2020-12-08T11:51:42.254891",
     "status": "completed"
    },
    "tags": []
   },
   "outputs": [
    {
     "ename": "TypeError",
     "evalue": "predict() missing 1 required positional argument: 'X'",
     "output_type": "error",
     "traceback": [
      "\u001b[0;31m---------------------------------------------------------------------------\u001b[0m",
      "\u001b[0;31mTypeError\u001b[0m                                 Traceback (most recent call last)",
      "\u001b[0;32m<ipython-input-46-2f6815e41a9d>\u001b[0m in \u001b[0;36m<module>\u001b[0;34m\u001b[0m\n\u001b[1;32m      1\u001b[0m \u001b[0mpreds\u001b[0m \u001b[0;34m=\u001b[0m \u001b[0;34m[\u001b[0m\u001b[0;34m]\u001b[0m\u001b[0;34m\u001b[0m\u001b[0;34m\u001b[0m\u001b[0m\n\u001b[1;32m      2\u001b[0m \u001b[0;32mfor\u001b[0m \u001b[0m_\u001b[0m\u001b[0;34m,\u001b[0m \u001b[0mrow\u001b[0m \u001b[0;32min\u001b[0m \u001b[0mtest_df\u001b[0m\u001b[0;34m.\u001b[0m\u001b[0miterrows\u001b[0m\u001b[0;34m(\u001b[0m\u001b[0;34m)\u001b[0m\u001b[0;34m:\u001b[0m\u001b[0;34m\u001b[0m\u001b[0;34m\u001b[0m\u001b[0m\n\u001b[0;32m----> 3\u001b[0;31m     \u001b[0mpredict\u001b[0m \u001b[0;34m=\u001b[0m \u001b[0mlist\u001b[0m\u001b[0;34m(\u001b[0m\u001b[0mmodel\u001b[0m\u001b[0;34m.\u001b[0m\u001b[0mpredict\u001b[0m\u001b[0;34m(\u001b[0m\u001b[0muid\u001b[0m\u001b[0;34m=\u001b[0m\u001b[0mrow\u001b[0m\u001b[0;34m[\u001b[0m\u001b[0;34m'userId'\u001b[0m\u001b[0;34m]\u001b[0m\u001b[0;34m,\u001b[0m \u001b[0miid\u001b[0m\u001b[0;34m=\u001b[0m\u001b[0mrow\u001b[0m\u001b[0;34m[\u001b[0m\u001b[0;34m'movieId'\u001b[0m\u001b[0;34m]\u001b[0m\u001b[0;34m)\u001b[0m\u001b[0;34m)\u001b[0m\u001b[0;34m\u001b[0m\u001b[0;34m\u001b[0m\u001b[0m\n\u001b[0m\u001b[1;32m      4\u001b[0m     \u001b[0mpreds\u001b[0m\u001b[0;34m.\u001b[0m\u001b[0mappend\u001b[0m\u001b[0;34m(\u001b[0m\u001b[0mpredict\u001b[0m\u001b[0;34m)\u001b[0m\u001b[0;34m\u001b[0m\u001b[0;34m\u001b[0m\u001b[0m\n",
      "\u001b[0;32m/opt/conda/lib/python3.7/site-packages/sklearn/utils/metaestimators.py\u001b[0m in \u001b[0;36m<lambda>\u001b[0;34m(*args, **kwargs)\u001b[0m\n\u001b[1;32m    117\u001b[0m \u001b[0;34m\u001b[0m\u001b[0m\n\u001b[1;32m    118\u001b[0m         \u001b[0;31m# lambda, but not partial, allows help() to work with update_wrapper\u001b[0m\u001b[0;34m\u001b[0m\u001b[0;34m\u001b[0m\u001b[0;34m\u001b[0m\u001b[0m\n\u001b[0;32m--> 119\u001b[0;31m         \u001b[0mout\u001b[0m \u001b[0;34m=\u001b[0m \u001b[0;32mlambda\u001b[0m \u001b[0;34m*\u001b[0m\u001b[0margs\u001b[0m\u001b[0;34m,\u001b[0m \u001b[0;34m**\u001b[0m\u001b[0mkwargs\u001b[0m\u001b[0;34m:\u001b[0m \u001b[0mself\u001b[0m\u001b[0;34m.\u001b[0m\u001b[0mfn\u001b[0m\u001b[0;34m(\u001b[0m\u001b[0mobj\u001b[0m\u001b[0;34m,\u001b[0m \u001b[0;34m*\u001b[0m\u001b[0margs\u001b[0m\u001b[0;34m,\u001b[0m \u001b[0;34m**\u001b[0m\u001b[0mkwargs\u001b[0m\u001b[0;34m)\u001b[0m\u001b[0;34m\u001b[0m\u001b[0;34m\u001b[0m\u001b[0m\n\u001b[0m\u001b[1;32m    120\u001b[0m         \u001b[0;31m# update the docstring of the returned function\u001b[0m\u001b[0;34m\u001b[0m\u001b[0;34m\u001b[0m\u001b[0;34m\u001b[0m\u001b[0m\n\u001b[1;32m    121\u001b[0m         \u001b[0mupdate_wrapper\u001b[0m\u001b[0;34m(\u001b[0m\u001b[0mout\u001b[0m\u001b[0;34m,\u001b[0m \u001b[0mself\u001b[0m\u001b[0;34m.\u001b[0m\u001b[0mfn\u001b[0m\u001b[0;34m)\u001b[0m\u001b[0;34m\u001b[0m\u001b[0;34m\u001b[0m\u001b[0m\n",
      "\u001b[0;31mTypeError\u001b[0m: predict() missing 1 required positional argument: 'X'"
     ]
    }
   ],
   "source": [
    "preds = []\n",
    "for _, row in test_df.iterrows():\n",
    "    predict = list(model.predict(uid=row['userId'], iid=row['movieId']))\n",
    "    preds.append(predict)"
   ]
  },
  {
   "cell_type": "code",
   "execution_count": 47,
   "metadata": {
    "execution": {
     "iopub.execute_input": "2020-12-08T11:51:42.845764Z",
     "iopub.status.busy": "2020-12-08T11:51:42.844345Z",
     "iopub.status.idle": "2020-12-08T11:51:42.848932Z",
     "shell.execute_reply": "2020-12-08T11:51:42.848022Z"
    },
    "papermill": {
     "duration": 0.120894,
     "end_time": "2020-12-08T11:51:42.849205",
     "exception": false,
     "start_time": "2020-12-08T11:51:42.728311",
     "status": "completed"
    },
    "tags": []
   },
   "outputs": [],
   "source": [
    "ratings = []\n",
    "for i in preds:\n",
    "    prediction = i[3]\n",
    "    ratings.append(prediction)"
   ]
  },
  {
   "cell_type": "code",
   "execution_count": 48,
   "metadata": {
    "execution": {
     "iopub.execute_input": "2020-12-08T11:51:43.066701Z",
     "iopub.status.busy": "2020-12-08T11:51:43.065605Z",
     "iopub.status.idle": "2020-12-08T11:51:43.085476Z",
     "shell.execute_reply": "2020-12-08T11:51:43.084697Z"
    },
    "papermill": {
     "duration": 0.123231,
     "end_time": "2020-12-08T11:51:43.085617",
     "exception": false,
     "start_time": "2020-12-08T11:51:42.962386",
     "status": "completed"
    },
    "tags": []
   },
   "outputs": [
    {
     "ename": "NameError",
     "evalue": "name 'sample' is not defined",
     "output_type": "error",
     "traceback": [
      "\u001b[0;31m---------------------------------------------------------------------------\u001b[0m",
      "\u001b[0;31mNameError\u001b[0m                                 Traceback (most recent call last)",
      "\u001b[0;32m<ipython-input-48-43f9909959d8>\u001b[0m in \u001b[0;36m<module>\u001b[0;34m\u001b[0m\n\u001b[0;32m----> 1\u001b[0;31m \u001b[0msubmission\u001b[0m \u001b[0;34m=\u001b[0m \u001b[0msample\u001b[0m\u001b[0;34m.\u001b[0m\u001b[0mcopy\u001b[0m\u001b[0;34m(\u001b[0m\u001b[0;34m)\u001b[0m\u001b[0;34m\u001b[0m\u001b[0;34m\u001b[0m\u001b[0m\n\u001b[0m\u001b[1;32m      2\u001b[0m \u001b[0msub\u001b[0m\u001b[0;34m[\u001b[0m\u001b[0;34m'rating'\u001b[0m\u001b[0;34m]\u001b[0m \u001b[0;34m=\u001b[0m \u001b[0mratings\u001b[0m\u001b[0;34m\u001b[0m\u001b[0;34m\u001b[0m\u001b[0m\n\u001b[1;32m      3\u001b[0m \u001b[0msub\u001b[0m\u001b[0;34m.\u001b[0m\u001b[0mhead\u001b[0m\u001b[0;34m(\u001b[0m\u001b[0;34m)\u001b[0m\u001b[0;34m\u001b[0m\u001b[0;34m\u001b[0m\u001b[0m\n",
      "\u001b[0;31mNameError\u001b[0m: name 'sample' is not defined"
     ]
    }
   ],
   "source": [
    "submission = sample.copy()\n",
    "sub['rating'] = ratings\n",
    "sub.head()"
   ]
  }
 ],
 "metadata": {
  "kernelspec": {
   "display_name": "Python 3",
   "language": "python",
   "name": "python3"
  },
  "language_info": {
   "codemirror_mode": {
    "name": "ipython",
    "version": 3
   },
   "file_extension": ".py",
   "mimetype": "text/x-python",
   "name": "python",
   "nbconvert_exporter": "python",
   "pygments_lexer": "ipython3",
   "version": "3.7.6"
  },
  "papermill": {
   "duration": 2824.902012,
   "end_time": "2020-12-08T11:51:43.585692",
   "environment_variables": {},
   "exception": null,
   "input_path": "__notebook__.ipynb",
   "output_path": "__notebook__.ipynb",
   "parameters": {},
   "start_time": "2020-12-08T11:04:38.683680",
   "version": "2.1.0"
  }
 },
 "nbformat": 4,
 "nbformat_minor": 4
}